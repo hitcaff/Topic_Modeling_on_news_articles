{
  "nbformat": 4,
  "nbformat_minor": 0,
  "metadata": {
    "colab": {
      "provenance": [],
      "collapsed_sections": [
        "vncDsAP0Gaoa",
        "FJNUwmbgGyua",
        "w6K7xa23Elo4",
        "yQaldy8SH6Dl",
        "mDgbUHAGgjLW",
        "O_i_v8NEhb9l",
        "HhfV-JJviCcP",
        "Y3lxredqlCYt",
        "3RnN4peoiCZX",
        "x71ZqKXriCWQ",
        "7hBIi_osiCS2",
        "JlHwYmJAmNHm",
        "35m5QtbWiB9F",
        "PoPl-ycgm1ru",
        "H0kj-8xxnORC",
        "nA9Y7ga8ng1Z",
        "PBTbrJXOngz2",
        "u3PMJOP6ngxN",
        "dauF4eBmngu3",
        "bKJF3rekwFvQ",
        "MSa1f5Uengrz",
        "GF8Ens_Soomf",
        "0wOQAZs5pc--",
        "K5QZ13OEpz2H",
        "lQ7QKXXCp7Bj",
        "448CDAPjqfQr",
        "KSlN3yHqYklG",
        "t6dVpIINYklI",
        "ijmpgYnKYklI",
        "-JiQyfWJYklI",
        "EM7whBJCYoAo",
        "fge-S5ZAYoAp",
        "85gYPyotYoAp",
        "RoGjAbkUYoAp",
        "4Of9eVA-YrdM",
        "iky9q4vBYrdO",
        "F6T5p64dYrdO",
        "y-Ehk30pYrdP",
        "bamQiAODYuh1",
        "QHF8YVU7Yuh3",
        "GwzvFGzlYuh3",
        "qYpmQ266Yuh3",
        "OH-pJp9IphqM",
        "bbFf2-_FphqN",
        "_ouA3fa0phqN",
        "Seke61FWphqN",
        "PIIx-8_IphqN",
        "t27r6nlMphqO",
        "r2jJGEOYphqO",
        "b0JNsNcRphqO",
        "BZR9WyysphqO",
        "jj7wYXLtphqO",
        "eZrbJ2SmphqO",
        "rFu4xreNphqO",
        "YJ55k-q6phqO",
        "gCFgpxoyphqP",
        "OVtJsKN_phqQ",
        "lssrdh5qphqQ",
        "U2RJ9gkRphqQ",
        "1M8mcRywphqQ",
        "tgIPom80phqQ",
        "JMzcOPDDphqR",
        "x-EpHcCOp1ci",
        "X_VqEhTip1ck",
        "8zGJKyg5p1ck",
        "PVzmfK_Ep1ck",
        "n3dbpmDWp1ck",
        "ylSl6qgtp1ck",
        "ZWILFDl5p1ck",
        "M7G43BXep1ck",
        "Ag9LCva-p1cl",
        "E6MkPsBcp1cl",
        "2cELzS2fp1cl",
        "3MPXvC8up1cl",
        "NC_X3p0fY2L0",
        "UV0SzAkaZNRQ",
        "YPEH6qLeZNRQ",
        "q29F0dvdveiT",
        "EXh0U9oCveiU",
        "22aHeOlLveiV",
        "g-ATYxFrGrvw",
        "Yfr_Vlr8HBkt",
        "8yEUt7NnHlrM",
        "tEA2Xm5dHt1r",
        "I79__PHVH19G",
        "Ou-I18pAyIpj",
        "fF3858GYyt-u",
        "4_0_7-oCpUZd",
        "hwyV_J3ipUZe",
        "3yB-zSqbpUZe",
        "dEUvejAfpUZe",
        "Fd15vwWVpUZf",
        "bn_IUdTipZyH",
        "49K5P_iCpZyH",
        "Nff-vKELpZyI",
        "kLW572S8pZyI",
        "dWbDXHzopZyI",
        "yLjJCtPM0KBk",
        "xiyOF9F70UgQ",
        "7wuGOrhz0itI",
        "id1riN9m0vUs",
        "578E2V7j08f6",
        "89xtkJwZ18nB",
        "67NQN5KX2AMe",
        "Iwf50b-R2tYG",
        "GMQiZwjn3iu7",
        "WVIkgGqN3qsr",
        "XkPnILGE3zoT",
        "Hlsf0x5436Go",
        "mT9DMSJo4nBL",
        "c49ITxTc407N",
        "OeJFEK0N496M",
        "9ExmJH0g5HBk",
        "cJNqERVU536h",
        "k5UmGsbsOxih",
        "T0VqWOYE6DLQ",
        "qBMux9mC6MCf",
        "-oLEiFgy-5Pf",
        "C74aWNz2AliB",
        "2DejudWSA-a0",
        "pEMng2IbBLp7",
        "rAdphbQ9Bhjc",
        "TNVZ9zx19K6k",
        "nqoHp30x9hH9",
        "rMDnDkt2B6du",
        "yiiVWRdJDDil",
        "1UUpS68QDMuG",
        "kexQrXU-DjzY",
        "T5CmagL3EC8N",
        "BhH2vgX9EjGr",
        "qjKvONjwE8ra",
        "P1XJ9OREExlT",
        "VFOzZv6IFROw",
        "TIqpNgepFxVj",
        "VfCC591jGiD4",
        "OB4l2ZhMeS1U",
        "ArJBuiUVfxKd",
        "4qY1EAkEfxKe",
        "PiV4Ypx8fxKe",
        "TfvqoZmBfxKf",
        "dJ2tPlVmpsJ0",
        "JWYfwnehpsJ1",
        "-jK_YjpMpsJ2",
        "HAih1iBOpsJ2",
        "zVGeBEFhpsJ2",
        "bmKjuQ-FpsJ3",
        "Fze-IPXLpx6K",
        "7AN1z2sKpx6M",
        "9PIHJqyupx6M",
        "_-qAgymDpx6N",
        "Z-hykwinpx6N",
        "h_CCil-SKHpo",
        "cBFFvTBNJzUa",
        "HvGl1hHyA_VK",
        "EyNgTHvd2WFk",
        "KH5McJBi2d8v",
        "iW_Lq9qf2h6X",
        "-Kee-DAl2viO",
        "gCX9965dhzqZ",
        "gIfDvo9L0UH2"
      ],
      "include_colab_link": true
    },
    "kernelspec": {
      "name": "python3",
      "display_name": "Python 3"
    },
    "language_info": {
      "name": "python"
    }
  },
  "cells": [
    {
      "cell_type": "markdown",
      "metadata": {
        "id": "view-in-github",
        "colab_type": "text"
      },
      "source": [
        "<a href=\"https://colab.research.google.com/github/hitcaff/Topic_Modeling_on_news_articles/blob/main/Topic_Modeling_on_News_Articles(Unsupervised)_.ipynb\" target=\"_parent\"><img src=\"https://colab.research.google.com/assets/colab-badge.svg\" alt=\"Open In Colab\"/></a>"
      ]
    },
    {
      "cell_type": "markdown",
      "source": [
        "# **Project Name**    - Topic Modeling on News Articles(BBC)\n",
        "\n"
      ],
      "metadata": {
        "id": "vncDsAP0Gaoa"
      }
    },
    {
      "cell_type": "markdown",
      "source": [
        "##### **Project Type**    - Unsupervised\n",
        "##### **Contribution**    - Individual\n"
      ],
      "metadata": {
        "id": "beRrZCGUAJYm"
      }
    },
    {
      "cell_type": "markdown",
      "source": [
        "# **Project Summary -**"
      ],
      "metadata": {
        "id": "FJNUwmbgGyua"
      }
    },
    {
      "cell_type": "markdown",
      "source": [
        "Write the summary here within 500-600 words."
      ],
      "metadata": {
        "id": "F6v_1wHtG2nS"
      }
    },
    {
      "cell_type": "markdown",
      "source": [
        "# **GitHub Link -**"
      ],
      "metadata": {
        "id": "w6K7xa23Elo4"
      }
    },
    {
      "cell_type": "markdown",
      "source": [
        "https://github.com/hitcaff/Topic_Modeling_on_news_articles"
      ],
      "metadata": {
        "id": "h1o69JH3Eqqn"
      }
    },
    {
      "cell_type": "markdown",
      "source": [
        "# **Problem Statement**\n"
      ],
      "metadata": {
        "id": "yQaldy8SH6Dl"
      }
    },
    {
      "cell_type": "markdown",
      "source": [
        "**Write Problem Statement Here.**"
      ],
      "metadata": {
        "id": "DpeJGUA3kjGy"
      }
    },
    {
      "cell_type": "markdown",
      "source": [
        "# **General Guidelines** : -  "
      ],
      "metadata": {
        "id": "mDgbUHAGgjLW"
      }
    },
    {
      "cell_type": "markdown",
      "source": [
        "1.   Well-structured, formatted, and commented code is required.\n",
        "2.   Exception Handling, Production Grade Code & Deployment Ready Code will be a plus. Those students will be awarded some additional credits.\n",
        "     \n",
        "     The additional credits will have advantages over other students during Star Student selection.\n",
        "       \n",
        "             [ Note: - Deployment Ready Code is defined as, the whole .ipynb notebook should be executable in one go\n",
        "                       without a single error logged. ]\n",
        "\n",
        "3.   Each and every logic should have proper comments.\n",
        "4. You may add as many number of charts you want. Make Sure for each and every chart the following format should be answered.\n",
        "        \n",
        "\n",
        "```\n",
        "# Chart visualization code\n",
        "```\n",
        "            \n",
        "\n",
        "*   Why did you pick the specific chart?\n",
        "*   What is/are the insight(s) found from the chart?\n",
        "* Will the gained insights help creating a positive business impact?\n",
        "Are there any insights that lead to negative growth? Justify with specific reason.\n",
        "\n",
        "5. You have to create at least 15 logical & meaningful charts having important insights.\n",
        "\n",
        "\n",
        "[ Hints : - Do the Vizualization in  a structured way while following \"UBM\" Rule.\n",
        "\n",
        "U - Univariate Analysis,\n",
        "\n",
        "B - Bivariate Analysis (Numerical - Categorical, Numerical - Numerical, Categorical - Categorical)\n",
        "\n",
        "M - Multivariate Analysis\n",
        " ]\n",
        "\n",
        "\n",
        "\n",
        "\n",
        "\n",
        "6. You may add more ml algorithms for model creation. Make sure for each and every algorithm, the following format should be answered.\n",
        "\n",
        "\n",
        "*   Explain the ML Model used and it's performance using Evaluation metric Score Chart.\n",
        "\n",
        "\n",
        "*   Cross- Validation & Hyperparameter Tuning\n",
        "\n",
        "*   Have you seen any improvement? Note down the improvement with updates Evaluation metric Score Chart.\n",
        "\n",
        "*   Explain each evaluation metric's indication towards business and the business impact pf the ML model used.\n",
        "\n",
        "\n",
        "\n",
        "\n",
        "\n",
        "\n",
        "\n",
        "\n",
        "\n",
        "\n",
        "\n",
        "\n",
        "\n",
        "\n",
        "\n",
        "\n",
        "\n",
        "\n"
      ],
      "metadata": {
        "id": "ZrxVaUj-hHfC"
      }
    },
    {
      "cell_type": "markdown",
      "source": [
        "# ***Let's Begin !***"
      ],
      "metadata": {
        "id": "O_i_v8NEhb9l"
      }
    },
    {
      "cell_type": "markdown",
      "source": [
        "## ***1. Know Your Data***"
      ],
      "metadata": {
        "id": "HhfV-JJviCcP"
      }
    },
    {
      "cell_type": "markdown",
      "source": [
        "### Import Libraries"
      ],
      "metadata": {
        "id": "Y3lxredqlCYt"
      }
    },
    {
      "cell_type": "code",
      "source": [
        "# Import Libraries\n",
        "\n",
        "\n",
        "\n",
        "import os                                                    # importing os module\n",
        "import numpy as np                                           # Importing data manipulation libraries\n",
        "import pandas as pd\n",
        "import matplotlib.pyplot as plt                              # importing data visualization modules\n",
        "import seaborn as sns\n",
        "import matplotlib.mlab as mlab                               # importing mlab for implementing MATLAB functions\n",
        "import scipy.stats as stats\n",
        "import ast                                                   # import ast(abstract syntax tree)\n",
        "import nltk                                                  # importing Natural Language Toolkit and other NLP modules\n",
        "\n",
        "from IPython.display import display                          # importing tqdm and display modules for progress meters/bars\n",
        "from sklearn.feature_extraction.text import CountVectorizer  # importing CountVectorizer for feature extraction\n",
        "from tqdm import tqdm\n",
        "from sklearn.model_selection import GridSearchCV\n",
        "from collections import Counter\n",
        "from wordcloud import WordCloud                              # importing wordcloud to represent topics wordcloud\n",
        "\n",
        "from sklearn.manifold import TSNE                            # importing TSNE for data exploration and visualizing high-dimensional data\n",
        "from sklearn.decomposition import TruncatedSVD               # importing decomposition modules\n",
        "from sklearn.decomposition import LatentDirichletAllocation\n",
        "from nltk.stem import WordNetLemmatizer\n",
        "from textblob import TextBlob, Word\n",
        "from sklearn.feature_extraction.text import CountVectorizer  # importing countVectorizer for text vectorization\n",
        "\n",
        "import warnings                                               # Importing warnings library\n",
        "warnings.filterwarnings('ignore')"
      ],
      "metadata": {
        "id": "M8Vqi-pPk-HR"
      },
      "execution_count": null,
      "outputs": []
    },
    {
      "cell_type": "markdown",
      "source": [
        "### Dataset Loading"
      ],
      "metadata": {
        "id": "3RnN4peoiCZX"
      }
    },
    {
      "cell_type": "code",
      "source": [
        "# Load Dataset\n",
        "!wget https://mydatt.s3.eu-north-1.amazonaws.com/bbc-20250702T073522Z-1-001.zip"
      ],
      "metadata": {
        "id": "4CkvbW_SlZ_R",
        "colab": {
          "base_uri": "https://localhost:8080/"
        },
        "outputId": "fa80a248-8d73-4a84-e3a6-b032fd6b39d7"
      },
      "execution_count": null,
      "outputs": [
        {
          "output_type": "stream",
          "name": "stdout",
          "text": [
            "--2025-07-22 17:18:19--  https://mydatt.s3.eu-north-1.amazonaws.com/bbc-20250702T073522Z-1-001.zip\n",
            "Resolving mydatt.s3.eu-north-1.amazonaws.com (mydatt.s3.eu-north-1.amazonaws.com)... 3.5.218.63, 3.5.216.59\n",
            "Connecting to mydatt.s3.eu-north-1.amazonaws.com (mydatt.s3.eu-north-1.amazonaws.com)|3.5.218.63|:443... connected.\n",
            "HTTP request sent, awaiting response... 200 OK\n",
            "Length: 3120100 (3.0M) [application/zip]\n",
            "Saving to: ‘bbc-20250702T073522Z-1-001.zip’\n",
            "\n",
            "bbc-20250702T073522 100%[===================>]   2.97M  1.72MB/s    in 1.7s    \n",
            "\n",
            "2025-07-22 17:18:22 (1.72 MB/s) - ‘bbc-20250702T073522Z-1-001.zip’ saved [3120100/3120100]\n",
            "\n"
          ]
        }
      ]
    },
    {
      "cell_type": "code",
      "source": [
        "!unzip bbc-20250702T073522Z-1-001.zip"
      ],
      "metadata": {
        "colab": {
          "base_uri": "https://localhost:8080/"
        },
        "id": "unk4soG-G1s6",
        "outputId": "9d051863-7c08-4dfe-cfc2-3d3235b1dadd"
      },
      "execution_count": null,
      "outputs": [
        {
          "output_type": "stream",
          "name": "stdout",
          "text": [
            "Archive:  bbc-20250702T073522Z-1-001.zip\n",
            "  inflating: bbc/README.TXT          \n",
            "  inflating: bbc/tech/385.txt        \n",
            "  inflating: bbc/tech/381.txt        \n",
            "  inflating: bbc/tech/384.txt        \n",
            "  inflating: bbc/tech/396.txt        \n",
            "  inflating: bbc/tech/368.txt        \n",
            "  inflating: bbc/tech/388.txt        \n",
            "  inflating: bbc/tech/366.txt        \n",
            "  inflating: bbc/tech/362.txt        \n",
            "  inflating: bbc/tech/395.txt        \n",
            "  inflating: bbc/tech/386.txt        \n",
            "  inflating: bbc/tech/371.txt        \n",
            "  inflating: bbc/tech/380.txt        \n",
            "  inflating: bbc/tech/373.txt        \n",
            "  inflating: bbc/tech/364.txt        \n",
            "  inflating: bbc/tech/399.txt        \n",
            "  inflating: bbc/tech/387.txt        \n",
            "  inflating: bbc/tech/369.txt        \n",
            "  inflating: bbc/tech/390.txt        \n",
            "  inflating: bbc/tech/379.txt        \n",
            "  inflating: bbc/tech/374.txt        \n",
            "  inflating: bbc/tech/378.txt        \n",
            "  inflating: bbc/tech/391.txt        \n",
            "  inflating: bbc/tech/367.txt        \n",
            "  inflating: bbc/tech/383.txt        \n",
            "  inflating: bbc/tech/398.txt        \n",
            "  inflating: bbc/tech/376.txt        \n",
            "  inflating: bbc/tech/397.txt        \n",
            "  inflating: bbc/tech/394.txt        \n",
            "  inflating: bbc/tech/375.txt        \n",
            "  inflating: bbc/tech/382.txt        \n",
            "  inflating: bbc/tech/363.txt        \n",
            "  inflating: bbc/tech/389.txt        \n",
            "  inflating: bbc/tech/377.txt        \n",
            "  inflating: bbc/tech/401.txt        \n",
            "  inflating: bbc/tech/346.txt        \n",
            "  inflating: bbc/tech/330.txt        \n",
            "  inflating: bbc/tech/372.txt        \n",
            "  inflating: bbc/tech/317.txt        \n",
            "  inflating: bbc/tech/365.txt        \n",
            "  inflating: bbc/tech/358.txt        \n",
            "  inflating: bbc/tech/323.txt        \n",
            "  inflating: bbc/tech/325.txt        \n",
            "  inflating: bbc/tech/334.txt        \n",
            "  inflating: bbc/tech/345.txt        \n",
            "  inflating: bbc/sport/486.txt       \n",
            "  inflating: bbc/tech/324.txt        \n",
            "  inflating: bbc/sport/487.txt       \n",
            "  inflating: bbc/tech/350.txt        \n",
            "  inflating: bbc/tech/336.txt        \n",
            "  inflating: bbc/tech/400.txt        \n",
            "  inflating: bbc/sport/497.txt       \n",
            "  inflating: bbc/tech/370.txt        \n",
            "  inflating: bbc/tech/328.txt        \n",
            "  inflating: bbc/sport/499.txt       \n",
            "  inflating: bbc/tech/318.txt        \n",
            "  inflating: bbc/sport/505.txt       \n",
            "  inflating: bbc/sport/482.txt       \n",
            "  inflating: bbc/tech/316.txt        \n",
            "  inflating: bbc/tech/327.txt        \n",
            "  inflating: bbc/sport/490.txt       \n",
            "  inflating: bbc/sport/480.txt       \n",
            "  inflating: bbc/sport/495.txt       \n",
            "  inflating: bbc/tech/342.txt        \n",
            "  inflating: bbc/tech/361.txt        \n",
            "  inflating: bbc/sport/483.txt       \n",
            "  inflating: bbc/sport/504.txt       \n",
            "  inflating: bbc/sport/510.txt       \n",
            "  inflating: bbc/tech/344.txt        \n",
            "  inflating: bbc/sport/509.txt       \n",
            "  inflating: bbc/tech/357.txt        \n",
            "  inflating: bbc/sport/481.txt       \n",
            "  inflating: bbc/tech/332.txt        \n",
            "  inflating: bbc/sport/507.txt       \n",
            "  inflating: bbc/sport/496.txt       \n",
            "  inflating: bbc/tech/359.txt        \n",
            "  inflating: bbc/sport/476.txt       \n",
            "  inflating: bbc/tech/347.txt        \n",
            "  inflating: bbc/tech/329.txt        \n",
            "  inflating: bbc/tech/392.txt        \n",
            "  inflating: bbc/tech/352.txt        \n",
            "  inflating: bbc/tech/348.txt        \n",
            "  inflating: bbc/sport/498.txt       \n",
            "  inflating: bbc/tech/321.txt        \n",
            "  inflating: bbc/sport/489.txt       \n",
            "  inflating: bbc/sport/492.txt       \n",
            "  inflating: bbc/tech/356.txt        \n",
            "  inflating: bbc/tech/333.txt        \n",
            "  inflating: bbc/sport/511.txt       \n",
            "  inflating: bbc/sport/479.txt       \n",
            "  inflating: bbc/tech/322.txt        \n",
            "  inflating: bbc/sport/500.txt       \n",
            "  inflating: bbc/sport/485.txt       \n",
            "  inflating: bbc/tech/353.txt        \n",
            "  inflating: bbc/sport/502.txt       \n",
            "  inflating: bbc/tech/331.txt        \n",
            "  inflating: bbc/sport/478.txt       \n",
            "  inflating: bbc/sport/494.txt       \n",
            "  inflating: bbc/tech/351.txt        \n",
            "  inflating: bbc/tech/349.txt        \n",
            "  inflating: bbc/tech/354.txt        \n",
            "  inflating: bbc/sport/493.txt       \n",
            "  inflating: bbc/tech/338.txt        \n",
            "  inflating: bbc/tech/340.txt        \n",
            "  inflating: bbc/tech/335.txt        \n",
            "  inflating: bbc/sport/488.txt       \n",
            "  inflating: bbc/tech/320.txt        \n",
            "  inflating: bbc/sport/477.txt       \n",
            "  inflating: bbc/politics/412.txt    \n",
            "  inflating: bbc/politics/407.txt    \n",
            "  inflating: bbc/tech/343.txt        \n",
            "  inflating: bbc/sport/506.txt       \n",
            "  inflating: bbc/tech/355.txt        \n",
            "  inflating: bbc/tech/360.txt        \n",
            "  inflating: bbc/sport/491.txt       \n",
            "  inflating: bbc/sport/503.txt       \n",
            "  inflating: bbc/politics/410.txt    \n",
            "  inflating: bbc/sport/484.txt       \n",
            "  inflating: bbc/sport/467.txt       \n",
            "  inflating: bbc/tech/326.txt        \n",
            "  inflating: bbc/sport/453.txt       \n",
            "  inflating: bbc/politics/409.txt    \n",
            "  inflating: bbc/tech/337.txt        \n",
            "  inflating: bbc/tech/319.txt        \n",
            "  inflating: bbc/sport/440.txt       \n",
            "  inflating: bbc/tech/339.txt        \n",
            "  inflating: bbc/sport/431.txt       \n",
            "  inflating: bbc/politics/411.txt    \n",
            "  inflating: bbc/politics/414.txt    \n",
            "  inflating: bbc/tech/341.txt        \n",
            "  inflating: bbc/sport/445.txt       \n",
            "  inflating: bbc/politics/413.txt    \n",
            "  inflating: bbc/tech/303.txt        \n",
            "  inflating: bbc/politics/415.txt    \n",
            "  inflating: bbc/sport/474.txt       \n",
            "  inflating: bbc/tech/299.txt        \n",
            "  inflating: bbc/sport/443.txt       \n",
            "  inflating: bbc/politics/417.txt    \n",
            "  inflating: bbc/tech/310.txt        \n",
            "  inflating: bbc/politics/416.txt    \n",
            "  inflating: bbc/politics/408.txt    \n",
            "  inflating: bbc/sport/450.txt       \n",
            "  inflating: bbc/tech/305.txt        \n",
            "  inflating: bbc/sport/437.txt       \n",
            "  inflating: bbc/sport/442.txt       \n",
            "  inflating: bbc/tech/313.txt        \n",
            "  inflating: bbc/sport/439.txt       \n",
            "  inflating: bbc/politics/381.txt    \n",
            "  inflating: bbc/tech/269.txt        \n",
            "  inflating: bbc/politics/369.txt    \n",
            "  inflating: bbc/tech/307.txt        \n",
            "  inflating: bbc/sport/460.txt       \n",
            "  inflating: bbc/politics/393.txt    \n",
            "  inflating: bbc/tech/281.txt        \n",
            "  inflating: bbc/sport/434.txt       \n",
            "  inflating: bbc/politics/401.txt    \n",
            "  inflating: bbc/politics/389.txt    \n",
            "  inflating: bbc/tech/288.txt        \n",
            "  inflating: bbc/sport/456.txt       \n",
            "  inflating: bbc/tech/290.txt        \n",
            "  inflating: bbc/sport/470.txt       \n",
            "  inflating: bbc/tech/315.txt        \n",
            "  inflating: bbc/politics/399.txt    \n",
            "  inflating: bbc/sport/463.txt       \n",
            "  inflating: bbc/politics/377.txt    \n",
            "  inflating: bbc/sport/451.txt       \n",
            "  inflating: bbc/tech/300.txt        \n",
            "  inflating: bbc/tech/270.txt        \n",
            "  inflating: bbc/sport/471.txt       \n",
            "  inflating: bbc/politics/390.txt    \n",
            "  inflating: bbc/politics/394.txt    \n",
            "  inflating: bbc/tech/292.txt        \n",
            "  inflating: bbc/sport/462.txt       \n",
            "  inflating: bbc/sport/468.txt       \n",
            "  inflating: bbc/tech/298.txt        \n",
            "  inflating: bbc/politics/364.txt    \n",
            "  inflating: bbc/politics/395.txt    \n",
            "  inflating: bbc/politics/376.txt    \n",
            "  inflating: bbc/sport/465.txt       \n",
            "  inflating: bbc/sport/461.txt       \n",
            "  inflating: bbc/entertainment/359.txt  \n",
            "  inflating: bbc/tech/271.txt        \n",
            "  inflating: bbc/politics/384.txt    \n",
            "  inflating: bbc/tech/285.txt        \n",
            "  inflating: bbc/politics/391.txt    \n",
            "  inflating: bbc/tech/293.txt        \n",
            "  inflating: bbc/entertainment/364.txt  \n",
            "  inflating: bbc/politics/375.txt    \n",
            "  inflating: bbc/sport/432.txt       \n",
            "  inflating: bbc/sport/447.txt       \n",
            "  inflating: bbc/tech/272.txt        \n",
            "  inflating: bbc/sport/466.txt       \n",
            "  inflating: bbc/tech/301.txt        \n",
            "  inflating: bbc/entertainment/367.txt  \n",
            "  inflating: bbc/tech/282.txt        \n",
            "  inflating: bbc/politics/371.txt    \n",
            "  inflating: bbc/entertainment/362.txt  \n",
            "  inflating: bbc/tech/309.txt        \n",
            "  inflating: bbc/sport/459.txt       \n",
            "  inflating: bbc/politics/397.txt    \n",
            "  inflating: bbc/entertainment/372.txt  \n",
            "  inflating: bbc/entertainment/381.txt  \n",
            "  inflating: bbc/sport/444.txt       \n",
            "  inflating: bbc/politics/379.txt    \n",
            "  inflating: bbc/tech/295.txt        \n",
            "  inflating: bbc/tech/302.txt        \n",
            "  inflating: bbc/sport/438.txt       \n",
            "  inflating: bbc/entertainment/380.txt  \n",
            "  inflating: bbc/politics/363.txt    \n",
            "  inflating: bbc/tech/304.txt        \n",
            "  inflating: bbc/politics/385.txt    \n",
            "  inflating: bbc/politics/370.txt    \n",
            "  inflating: bbc/entertainment/355.txt  \n",
            "  inflating: bbc/sport/446.txt       \n",
            "  inflating: bbc/politics/368.txt    \n",
            "  inflating: bbc/sport/452.txt       \n",
            "  inflating: bbc/tech/286.txt        \n",
            "  inflating: bbc/tech/268.txt        \n",
            "  inflating: bbc/entertainment/382.txt  \n",
            "  inflating: bbc/sport/455.txt       \n",
            "  inflating: bbc/entertainment/376.txt  \n",
            "  inflating: bbc/politics/403.txt    \n",
            "  inflating: bbc/tech/275.txt        \n",
            "  inflating: bbc/entertainment/369.txt  \n",
            "  inflating: bbc/entertainment/360.txt  \n",
            "  inflating: bbc/politics/365.txt    \n",
            "  inflating: bbc/sport/448.txt       \n",
            "  inflating: bbc/sport/449.txt       \n",
            "  inflating: bbc/sport/454.txt       \n",
            "  inflating: bbc/sport/430.txt       \n",
            "  inflating: bbc/entertainment/383.txt  \n",
            "  inflating: bbc/tech/308.txt        \n",
            "  inflating: bbc/tech/289.txt        \n",
            "  inflating: bbc/sport/433.txt       \n",
            "  inflating: bbc/tech/312.txt        \n",
            "  inflating: bbc/politics/398.txt    \n",
            "  inflating: bbc/tech/287.txt        \n",
            "  inflating: bbc/entertainment/374.txt  \n",
            "  inflating: bbc/entertainment/375.txt  \n",
            "  inflating: bbc/politics/400.txt    \n",
            "  inflating: bbc/politics/404.txt    \n",
            "  inflating: bbc/sport/473.txt       \n",
            "  inflating: bbc/politics/367.txt    \n",
            "  inflating: bbc/tech/274.txt        \n",
            "  inflating: bbc/tech/283.txt        \n",
            "  inflating: bbc/politics/383.txt    \n",
            "  inflating: bbc/entertainment/358.txt  \n",
            "  inflating: bbc/entertainment/357.txt  \n",
            "  inflating: bbc/sport/435.txt       \n",
            "  inflating: bbc/entertainment/361.txt  \n",
            "  inflating: bbc/politics/387.txt    \n",
            "  inflating: bbc/sport/475.txt       \n",
            "  inflating: bbc/tech/278.txt        \n",
            "  inflating: bbc/sport/469.txt       \n",
            "  inflating: bbc/sport/457.txt       \n",
            "  inflating: bbc/politics/386.txt    \n",
            "  inflating: bbc/entertainment/378.txt  \n",
            "  inflating: bbc/sport/429.txt       \n",
            "  inflating: bbc/politics/406.txt    \n",
            "  inflating: bbc/tech/280.txt        \n",
            "  inflating: bbc/tech/291.txt        \n",
            "  inflating: bbc/politics/374.txt    \n",
            "  inflating: bbc/tech/311.txt        \n",
            "  inflating: bbc/politics/366.txt    \n",
            "  inflating: bbc/entertainment/370.txt  \n",
            "  inflating: bbc/tech/267.txt        \n",
            "  inflating: bbc/entertainment/386.txt  \n",
            "  inflating: bbc/sport/458.txt       \n",
            "  inflating: bbc/entertainment/368.txt  \n",
            "  inflating: bbc/sport/441.txt       \n",
            "  inflating: bbc/tech/294.txt        \n",
            "  inflating: bbc/sport/472.txt       \n",
            "  inflating: bbc/politics/405.txt    \n",
            "  inflating: bbc/politics/380.txt    \n",
            "  inflating: bbc/sport/436.txt       \n",
            "  inflating: bbc/politics/396.txt    \n",
            "  inflating: bbc/entertainment/373.txt  \n",
            "  inflating: bbc/entertainment/371.txt  \n",
            "  inflating: bbc/entertainment/356.txt  \n",
            "  inflating: bbc/sport/464.txt       \n",
            "  inflating: bbc/entertainment/363.txt  \n",
            "  inflating: bbc/tech/279.txt        \n",
            "  inflating: bbc/tech/273.txt        \n",
            "  inflating: bbc/sport/415.txt       \n",
            "  inflating: bbc/politics/382.txt    \n",
            "  inflating: bbc/sport/404.txt       \n",
            "  inflating: bbc/tech/306.txt        \n",
            "  inflating: bbc/sport/428.txt       \n",
            "  inflating: bbc/tech/284.txt        \n",
            "  inflating: bbc/politics/378.txt    \n",
            "  inflating: bbc/entertainment/385.txt  \n",
            "  inflating: bbc/politics/392.txt    \n",
            "  inflating: bbc/entertainment/377.txt  \n",
            "  inflating: bbc/politics/373.txt    \n",
            "  inflating: bbc/politics/388.txt    \n",
            "  inflating: bbc/politics/361.txt    \n",
            "  inflating: bbc/sport/426.txt       \n",
            "  inflating: bbc/entertainment/365.txt  \n",
            "  inflating: bbc/sport/420.txt       \n",
            "  inflating: bbc/politics/342.txt    \n",
            "  inflating: bbc/tech/277.txt        \n",
            "  inflating: bbc/politics/402.txt    \n",
            "  inflating: bbc/entertainment/379.txt  \n",
            "  inflating: bbc/entertainment/366.txt  \n",
            "  inflating: bbc/tech/296.txt        \n",
            "  inflating: bbc/entertainment/384.txt  \n",
            "  inflating: bbc/sport/393.txt       \n",
            "  inflating: bbc/sport/396.txt       \n",
            "  inflating: bbc/politics/350.txt    \n",
            "  inflating: bbc/politics/351.txt    \n",
            "  inflating: bbc/tech/314.txt        \n",
            "  inflating: bbc/politics/347.txt    \n",
            "  inflating: bbc/tech/276.txt        \n",
            "  inflating: bbc/tech/239.txt        \n",
            "  inflating: bbc/sport/427.txt       \n",
            "  inflating: bbc/sport/395.txt       \n",
            "  inflating: bbc/sport/397.txt       \n",
            "  inflating: bbc/entertainment/332.txt  \n",
            "  inflating: bbc/tech/297.txt        \n",
            "  inflating: bbc/entertainment/335.txt  \n",
            "  inflating: bbc/politics/346.txt    \n",
            "  inflating: bbc/tech/225.txt        \n",
            "  inflating: bbc/entertainment/329.txt  \n",
            "  inflating: bbc/sport/408.txt       \n",
            "  inflating: bbc/entertainment/322.txt  \n",
            "  inflating: bbc/tech/223.txt        \n",
            "  inflating: bbc/sport/405.txt       \n",
            "  inflating: bbc/sport/400.txt       \n",
            "  inflating: bbc/politics/330.txt    \n",
            "  inflating: bbc/sport/422.txt       \n",
            "  inflating: bbc/entertainment/315.txt  \n",
            "  inflating: bbc/sport/412.txt       \n",
            "  inflating: bbc/tech/232.txt        \n",
            "  inflating: bbc/politics/332.txt    \n",
            "  inflating: bbc/entertainment/319.txt  \n",
            "  inflating: bbc/politics/321.txt    \n",
            "  inflating: bbc/politics/349.txt    \n",
            "  inflating: bbc/sport/411.txt       \n",
            "  inflating: bbc/politics/333.txt    \n",
            "  inflating: bbc/tech/251.txt        \n",
            "  inflating: bbc/entertainment/330.txt  \n",
            "  inflating: bbc/entertainment/341.txt  \n",
            "  inflating: bbc/politics/319.txt    \n",
            "  inflating: bbc/tech/234.txt        \n",
            "  inflating: bbc/sport/407.txt       \n",
            "  inflating: bbc/tech/250.txt        \n",
            "  inflating: bbc/sport/409.txt       \n",
            "  inflating: bbc/entertainment/309.txt  \n",
            "  inflating: bbc/politics/318.txt    \n",
            "  inflating: bbc/politics/328.txt    \n",
            "  inflating: bbc/tech/231.txt        \n",
            "  inflating: bbc/tech/255.txt        \n",
            "  inflating: bbc/politics/344.txt    \n",
            "  inflating: bbc/tech/243.txt        \n",
            "  inflating: bbc/politics/320.txt    \n",
            "  inflating: bbc/sport/416.txt       \n",
            "  inflating: bbc/sport/398.txt       \n",
            "  inflating: bbc/entertainment/333.txt  \n",
            "  inflating: bbc/entertainment/348.txt  \n",
            "  inflating: bbc/sport/402.txt       \n",
            "  inflating: bbc/entertainment/351.txt  \n",
            "  inflating: bbc/entertainment/349.txt  \n",
            "  inflating: bbc/politics/358.txt    \n",
            "  inflating: bbc/sport/399.txt       \n",
            "  inflating: bbc/tech/244.txt        \n",
            "  inflating: bbc/politics/339.txt    \n",
            "  inflating: bbc/entertainment/324.txt  \n",
            "  inflating: bbc/politics/356.txt    \n",
            "  inflating: bbc/politics/322.txt    \n",
            "  inflating: bbc/entertainment/350.txt  \n",
            "  inflating: bbc/tech/245.txt        \n",
            "  inflating: bbc/politics/357.txt    \n",
            "  inflating: bbc/entertainment/323.txt  \n",
            "  inflating: bbc/sport/421.txt       \n",
            "  inflating: bbc/tech/262.txt        \n",
            "  inflating: bbc/sport/410.txt       \n",
            "  inflating: bbc/politics/329.txt    \n",
            "  inflating: bbc/sport/423.txt       \n",
            "  inflating: bbc/sport/417.txt       \n",
            "  inflating: bbc/entertainment/346.txt  \n",
            "  inflating: bbc/tech/258.txt        \n",
            "  inflating: bbc/politics/352.txt    \n",
            "  inflating: bbc/sport/419.txt       \n",
            "  inflating: bbc/sport/406.txt       \n",
            "  inflating: bbc/entertainment/328.txt  \n",
            "  inflating: bbc/tech/240.txt        \n",
            "  inflating: bbc/tech/264.txt        \n",
            "  inflating: bbc/tech/221.txt        \n",
            "  inflating: bbc/sport/413.txt       \n",
            "  inflating: bbc/entertainment/317.txt  \n",
            "  inflating: bbc/entertainment/311.txt  \n",
            "  inflating: bbc/tech/242.txt        \n",
            "  inflating: bbc/politics/323.txt    \n",
            "  inflating: bbc/politics/335.txt    \n",
            "  inflating: bbc/sport/424.txt       \n",
            "  inflating: bbc/entertainment/325.txt  \n",
            "  inflating: bbc/entertainment/343.txt  \n",
            "  inflating: bbc/politics/360.txt    \n",
            "  inflating: bbc/entertainment/334.txt  \n",
            "  inflating: bbc/politics/345.txt    \n",
            "  inflating: bbc/tech/236.txt        \n",
            "  inflating: bbc/entertainment/338.txt  \n",
            "  inflating: bbc/sport/425.txt       \n",
            "  inflating: bbc/politics/353.txt    \n",
            "  inflating: bbc/tech/237.txt        \n",
            "  inflating: bbc/sport/414.txt       \n",
            "  inflating: bbc/entertainment/337.txt  \n",
            "  inflating: bbc/sport/394.txt       \n",
            "  inflating: bbc/tech/229.txt        \n",
            "  inflating: bbc/tech/241.txt        \n",
            "  inflating: bbc/sport/392.txt       \n",
            "  inflating: bbc/politics/326.txt    \n",
            "  inflating: bbc/entertainment/313.txt  \n",
            "  inflating: bbc/tech/259.txt        \n",
            "  inflating: bbc/sport/418.txt       \n",
            "  inflating: bbc/entertainment/312.txt  \n",
            "  inflating: bbc/sport/403.txt       \n",
            "  inflating: bbc/sport/357.txt       \n",
            "  inflating: bbc/politics/343.txt    \n",
            "  inflating: bbc/entertainment/340.txt  \n",
            "  inflating: bbc/tech/260.txt        \n",
            "  inflating: bbc/tech/257.txt        \n",
            "  inflating: bbc/politics/354.txt    \n",
            "  inflating: bbc/politics/337.txt    \n",
            "  inflating: bbc/politics/340.txt    \n",
            "  inflating: bbc/sport/389.txt       \n",
            "  inflating: bbc/tech/227.txt        \n",
            "  inflating: bbc/entertainment/354.txt  \n",
            "  inflating: bbc/tech/226.txt        \n",
            "  inflating: bbc/tech/248.txt        \n",
            "  inflating: bbc/tech/252.txt        \n",
            "  inflating: bbc/sport/353.txt       \n",
            "  inflating: bbc/politics/325.txt    \n",
            "  inflating: bbc/entertainment/345.txt  \n",
            "  inflating: bbc/politics/341.txt    \n",
            "  inflating: bbc/sport/355.txt       \n",
            "  inflating: bbc/politics/327.txt    \n",
            "  inflating: bbc/sport/378.txt       \n",
            "  inflating: bbc/sport/352.txt       \n",
            "  inflating: bbc/entertainment/342.txt  \n",
            "  inflating: bbc/tech/263.txt        \n",
            "  inflating: bbc/entertainment/316.txt  \n",
            "  inflating: bbc/tech/249.txt        \n",
            "  inflating: bbc/tech/256.txt        \n",
            "  inflating: bbc/politics/362.txt    \n",
            "  inflating: bbc/sport/362.txt       \n",
            "  inflating: bbc/tech/230.txt        \n",
            "  inflating: bbc/tech/253.txt        \n",
            "  inflating: bbc/politics/359.txt    \n",
            "  inflating: bbc/entertainment/352.txt  \n",
            "  inflating: bbc/politics/338.txt    \n",
            "  inflating: bbc/entertainment/353.txt  \n",
            "  inflating: bbc/politics/324.txt    \n",
            "  inflating: bbc/entertainment/320.txt  \n",
            "  inflating: bbc/sport/356.txt       \n",
            "  inflating: bbc/entertainment/347.txt  \n",
            "  inflating: bbc/sport/365.txt       \n",
            "  inflating: bbc/sport/366.txt       \n",
            "  inflating: bbc/entertainment/321.txt  \n",
            "  inflating: bbc/politics/334.txt    \n",
            "  inflating: bbc/politics/355.txt    \n",
            "  inflating: bbc/entertainment/344.txt  \n",
            "  inflating: bbc/tech/233.txt        \n",
            "  inflating: bbc/politics/348.txt    \n",
            "  inflating: bbc/tech/224.txt        \n",
            "  inflating: bbc/tech/254.txt        \n",
            "  inflating: bbc/tech/235.txt        \n",
            "  inflating: bbc/sport/370.txt       \n",
            "  inflating: bbc/entertainment/336.txt  \n",
            "  inflating: bbc/entertainment/310.txt  \n",
            "  inflating: bbc/sport/369.txt       \n",
            "  inflating: bbc/entertainment/318.txt  \n",
            "  inflating: bbc/sport/367.txt       \n",
            "  inflating: bbc/sport/388.txt       \n",
            "  inflating: bbc/tech/247.txt        \n",
            "  inflating: bbc/tech/261.txt        \n",
            "  inflating: bbc/politics/336.txt    \n",
            "  inflating: bbc/politics/314.txt    \n",
            "  inflating: bbc/sport/379.txt       \n",
            "  inflating: bbc/politics/317.txt    \n",
            "  inflating: bbc/entertainment/339.txt  \n",
            "  inflating: bbc/sport/371.txt       \n",
            "  inflating: bbc/entertainment/326.txt  \n",
            "  inflating: bbc/politics/284.txt    \n",
            "  inflating: bbc/sport/351.txt       \n",
            "  inflating: bbc/tech/222.txt        \n",
            "  inflating: bbc/tech/246.txt        \n",
            "  inflating: bbc/tech/228.txt        \n",
            "  inflating: bbc/entertainment/331.txt  \n",
            "  inflating: bbc/entertainment/280.txt  \n",
            "  inflating: bbc/politics/282.txt    \n",
            "  inflating: bbc/politics/331.txt    \n",
            "  inflating: bbc/sport/390.txt       \n",
            "  inflating: bbc/politics/286.txt    \n",
            "  inflating: bbc/politics/306.txt    \n",
            "  inflating: bbc/sport/380.txt       \n",
            "  inflating: bbc/entertainment/314.txt  \n",
            "  inflating: bbc/tech/238.txt        \n",
            "  inflating: bbc/tech/266.txt        \n",
            "  inflating: bbc/sport/373.txt       \n",
            "  inflating: bbc/politics/293.txt    \n",
            "  inflating: bbc/tech/220.txt        \n",
            "  inflating: bbc/entertainment/327.txt  \n",
            "  inflating: bbc/tech/205.txt        \n",
            "  inflating: bbc/entertainment/307.txt  \n",
            "  inflating: bbc/politics/303.txt    \n",
            "  inflating: bbc/sport/384.txt       \n",
            "  inflating: bbc/entertainment/276.txt  \n",
            "  inflating: bbc/sport/385.txt       \n",
            "  inflating: bbc/entertainment/301.txt  \n",
            "  inflating: bbc/sport/382.txt       \n",
            "  inflating: bbc/politics/295.txt    \n",
            "  inflating: bbc/entertainment/289.txt  \n",
            "  inflating: bbc/sport/364.txt       \n",
            "  inflating: bbc/politics/279.txt    \n",
            "  inflating: bbc/entertainment/268.txt  \n",
            "  inflating: bbc/tech/193.txt        \n",
            "  inflating: bbc/entertainment/304.txt  \n",
            "  inflating: bbc/sport/376.txt       \n",
            "  inflating: bbc/tech/212.txt        \n",
            "  inflating: bbc/politics/274.txt    \n",
            "  inflating: bbc/tech/186.txt        \n",
            "  inflating: bbc/tech/196.txt        \n",
            "  inflating: bbc/tech/185.txt        \n",
            "  inflating: bbc/entertainment/288.txt  \n",
            "  inflating: bbc/politics/277.txt    \n",
            "  inflating: bbc/sport/372.txt       \n",
            "  inflating: bbc/politics/300.txt    \n",
            "  inflating: bbc/entertainment/277.txt  \n",
            "  inflating: bbc/politics/310.txt    \n",
            "  inflating: bbc/sport/354.txt       \n",
            "  inflating: bbc/tech/203.txt        \n",
            "  inflating: bbc/politics/298.txt    \n",
            "  inflating: bbc/entertainment/295.txt  \n",
            "  inflating: bbc/sport/381.txt       \n",
            "  inflating: bbc/sport/386.txt       \n",
            "  inflating: bbc/politics/304.txt    \n",
            "  inflating: bbc/tech/188.txt        \n",
            "  inflating: bbc/entertainment/284.txt  \n",
            "  inflating: bbc/tech/219.txt        \n",
            "  inflating: bbc/tech/184.txt        \n",
            "  inflating: bbc/sport/375.txt       \n",
            "  inflating: bbc/tech/201.txt        \n",
            "  inflating: bbc/politics/285.txt    \n",
            "  inflating: bbc/sport/377.txt       \n",
            "  inflating: bbc/sport/391.txt       \n",
            "  inflating: bbc/politics/275.txt    \n",
            "  inflating: bbc/entertainment/275.txt  \n",
            "  inflating: bbc/tech/181.txt        \n",
            "  inflating: bbc/politics/287.txt    \n",
            "  inflating: bbc/entertainment/306.txt  \n",
            "  inflating: bbc/politics/297.txt    \n",
            "  inflating: bbc/sport/358.txt       \n",
            "  inflating: bbc/sport/387.txt       \n",
            "  inflating: bbc/entertainment/271.txt  \n",
            "  inflating: bbc/sport/361.txt       \n",
            "  inflating: bbc/entertainment/281.txt  \n",
            "  inflating: bbc/tech/183.txt        \n",
            "  inflating: bbc/sport/374.txt       \n",
            "  inflating: bbc/politics/294.txt    \n",
            "  inflating: bbc/entertainment/266.txt  \n",
            "  inflating: bbc/politics/296.txt    \n",
            "  inflating: bbc/politics/307.txt    \n",
            "  inflating: bbc/politics/305.txt    \n",
            "  inflating: bbc/politics/316.txt    \n",
            "  inflating: bbc/entertainment/274.txt  \n",
            "  inflating: bbc/sport/368.txt       \n",
            "  inflating: bbc/entertainment/270.txt  \n",
            "  inflating: bbc/entertainment/294.txt  \n",
            "  inflating: bbc/tech/217.txt        \n",
            "  inflating: bbc/tech/195.txt        \n",
            "  inflating: bbc/sport/363.txt       \n",
            "  inflating: bbc/politics/292.txt    \n",
            "  inflating: bbc/tech/180.txt        \n",
            "  inflating: bbc/tech/189.txt        \n",
            "  inflating: bbc/tech/208.txt        \n",
            "  inflating: bbc/tech/204.txt        \n",
            "  inflating: bbc/politics/309.txt    \n",
            "  inflating: bbc/politics/276.txt    \n",
            "  inflating: bbc/tech/215.txt        \n",
            "  inflating: bbc/entertainment/302.txt  \n",
            "  inflating: bbc/sport/383.txt       \n",
            "  inflating: bbc/entertainment/292.txt  \n",
            "  inflating: bbc/sport/359.txt       \n",
            "  inflating: bbc/sport/360.txt       \n",
            "  inflating: bbc/sport/344.txt       \n",
            "  inflating: bbc/entertainment/286.txt  \n",
            "  inflating: bbc/politics/278.txt    \n",
            "  inflating: bbc/entertainment/298.txt  \n",
            "  inflating: bbc/tech/194.txt        \n",
            "  inflating: bbc/tech/211.txt        \n",
            "  inflating: bbc/politics/299.txt    \n",
            "  inflating: bbc/entertainment/267.txt  \n",
            "  inflating: bbc/entertainment/287.txt  \n",
            "  inflating: bbc/entertainment/296.txt  \n",
            "  inflating: bbc/tech/213.txt        \n",
            "  inflating: bbc/sport/316.txt       \n",
            "  inflating: bbc/sport/339.txt       \n",
            "  inflating: bbc/sport/318.txt       \n",
            "  inflating: bbc/tech/209.txt        \n",
            "  inflating: bbc/entertainment/293.txt  \n",
            "  inflating: bbc/politics/273.txt    \n",
            "  inflating: bbc/sport/322.txt       \n",
            "  inflating: bbc/politics/315.txt    \n",
            "  inflating: bbc/entertainment/272.txt  \n",
            "  inflating: bbc/politics/311.txt    \n",
            "  inflating: bbc/tech/198.txt        \n",
            "  inflating: bbc/sport/310.txt       \n",
            "  inflating: bbc/tech/191.txt        \n",
            "  inflating: bbc/tech/197.txt        \n",
            "  inflating: bbc/politics/289.txt    \n",
            "  inflating: bbc/sport/330.txt       \n",
            "  inflating: bbc/politics/313.txt    \n",
            "  inflating: bbc/entertainment/282.txt  \n",
            "  inflating: bbc/sport/350.txt       \n",
            "  inflating: bbc/politics/290.txt    \n",
            "  inflating: bbc/entertainment/291.txt  \n",
            "  inflating: bbc/sport/314.txt       \n",
            "  inflating: bbc/entertainment/285.txt  \n",
            "  inflating: bbc/tech/218.txt        \n",
            "  inflating: bbc/politics/288.txt    \n",
            "  inflating: bbc/tech/200.txt        \n",
            "  inflating: bbc/tech/187.txt        \n",
            "  inflating: bbc/tech/210.txt        \n",
            "  inflating: bbc/entertainment/265.txt  \n",
            "  inflating: bbc/sport/338.txt       \n",
            "  inflating: bbc/entertainment/273.txt  \n",
            "  inflating: bbc/politics/302.txt    \n",
            "  inflating: bbc/politics/280.txt    \n",
            "  inflating: bbc/entertainment/300.txt  \n",
            "  inflating: bbc/sport/324.txt       \n",
            "  inflating: bbc/politics/281.txt    \n",
            "  inflating: bbc/tech/190.txt        \n",
            "  inflating: bbc/entertainment/303.txt  \n",
            "  inflating: bbc/politics/301.txt    \n",
            "  inflating: bbc/tech/199.txt        \n",
            "  inflating: bbc/politics/308.txt    \n",
            "  inflating: bbc/sport/335.txt       \n",
            "  inflating: bbc/sport/341.txt       \n",
            "  inflating: bbc/politics/283.txt    \n",
            "  inflating: bbc/entertainment/305.txt  \n",
            "  inflating: bbc/sport/348.txt       \n",
            "  inflating: bbc/tech/207.txt        \n",
            "  inflating: bbc/politics/272.txt    \n",
            "  inflating: bbc/tech/214.txt        \n",
            "  inflating: bbc/sport/327.txt       \n",
            "  inflating: bbc/entertainment/299.txt  \n",
            "  inflating: bbc/sport/323.txt       \n",
            "  inflating: bbc/tech/206.txt        \n",
            "  inflating: bbc/entertainment/279.txt  \n",
            "  inflating: bbc/entertainment/264.txt  \n",
            "  inflating: bbc/tech/179.txt        \n",
            "  inflating: bbc/politics/239.txt    \n",
            "  inflating: bbc/politics/256.txt    \n",
            "  inflating: bbc/sport/336.txt       \n",
            "  inflating: bbc/politics/312.txt    \n",
            "  inflating: bbc/politics/259.txt    \n",
            "  inflating: bbc/tech/202.txt        \n",
            "  inflating: bbc/tech/192.txt        \n",
            "  inflating: bbc/tech/216.txt        \n",
            "  inflating: bbc/entertainment/278.txt  \n",
            "  inflating: bbc/sport/349.txt       \n",
            "  inflating: bbc/entertainment/290.txt  \n",
            "  inflating: bbc/sport/333.txt       \n",
            "  inflating: bbc/entertainment/283.txt  \n",
            "  inflating: bbc/entertainment/308.txt  \n",
            "  inflating: bbc/tech/145.txt        \n",
            "  inflating: bbc/politics/230.txt    \n",
            "  inflating: bbc/sport/320.txt       \n",
            "  inflating: bbc/entertainment/297.txt  \n",
            "  inflating: bbc/sport/345.txt       \n",
            "  inflating: bbc/politics/238.txt    \n",
            "  inflating: bbc/politics/261.txt    \n",
            "  inflating: bbc/sport/337.txt       \n",
            "  inflating: bbc/tech/156.txt        \n",
            "  inflating: bbc/politics/258.txt    \n",
            "  inflating: bbc/politics/268.txt    \n",
            "  inflating: bbc/tech/162.txt        \n",
            "  inflating: bbc/tech/165.txt        \n",
            "  inflating: bbc/sport/313.txt       \n",
            "  inflating: bbc/entertainment/234.txt  \n",
            "  inflating: bbc/politics/244.txt    \n",
            "  inflating: bbc/tech/169.txt        \n",
            "  inflating: bbc/sport/342.txt       \n",
            "  inflating: bbc/politics/245.txt    \n",
            "  inflating: bbc/entertainment/259.txt  \n",
            "  inflating: bbc/tech/155.txt        \n",
            "  inflating: bbc/entertainment/233.txt  \n",
            "  inflating: bbc/tech/159.txt        \n",
            "  inflating: bbc/politics/265.txt    \n",
            "  inflating: bbc/sport/329.txt       \n",
            "  inflating: bbc/sport/340.txt       \n",
            "  inflating: bbc/entertainment/248.txt  \n",
            "  inflating: bbc/tech/149.txt        \n",
            "  inflating: bbc/tech/142.txt        \n",
            "  inflating: bbc/sport/347.txt       \n",
            "  inflating: bbc/tech/150.txt        \n",
            "  inflating: bbc/politics/271.txt    \n",
            "  inflating: bbc/sport/328.txt       \n",
            "  inflating: bbc/politics/236.txt    \n",
            "  inflating: bbc/entertainment/240.txt  \n",
            "  inflating: bbc/politics/255.txt    \n",
            "  inflating: bbc/sport/312.txt       \n",
            "  inflating: bbc/entertainment/262.txt  \n",
            "  inflating: bbc/sport/315.txt       \n",
            "  inflating: bbc/tech/174.txt        \n",
            "  inflating: bbc/politics/249.txt    \n",
            "  inflating: bbc/entertainment/260.txt  \n",
            "  inflating: bbc/tech/158.txt        \n",
            "  inflating: bbc/politics/242.txt    \n",
            "  inflating: bbc/tech/151.txt        \n",
            "  inflating: bbc/sport/334.txt       \n",
            "  inflating: bbc/politics/228.txt    \n",
            "  inflating: bbc/entertainment/232.txt  \n",
            "  inflating: bbc/tech/148.txt        \n",
            "  inflating: bbc/tech/164.txt        \n",
            "  inflating: bbc/sport/343.txt       \n",
            "  inflating: bbc/entertainment/236.txt  \n",
            "  inflating: bbc/sport/346.txt       \n",
            "  inflating: bbc/politics/262.txt    \n",
            "  inflating: bbc/entertainment/237.txt  \n",
            "  inflating: bbc/entertainment/219.txt  \n",
            "  inflating: bbc/tech/157.txt        \n",
            "  inflating: bbc/entertainment/242.txt  \n",
            "  inflating: bbc/politics/229.txt    \n",
            "  inflating: bbc/entertainment/253.txt  \n",
            "  inflating: bbc/politics/243.txt    \n",
            "  inflating: bbc/sport/321.txt       \n",
            "  inflating: bbc/entertainment/223.txt  \n",
            "  inflating: bbc/sport/317.txt       \n",
            "  inflating: bbc/sport/332.txt       \n",
            "  inflating: bbc/politics/251.txt    \n",
            "  inflating: bbc/sport/325.txt       \n",
            "  inflating: bbc/politics/266.txt    \n",
            "  inflating: bbc/sport/319.txt       \n",
            "  inflating: bbc/politics/270.txt    \n",
            "  inflating: bbc/sport/331.txt       \n",
            "  inflating: bbc/tech/161.txt        \n",
            "  inflating: bbc/entertainment/249.txt  \n",
            "  inflating: bbc/tech/170.txt        \n",
            "  inflating: bbc/sport/311.txt       \n",
            "  inflating: bbc/entertainment/235.txt  \n",
            "  inflating: bbc/politics/247.txt    \n",
            "  inflating: bbc/entertainment/238.txt  \n",
            "  inflating: bbc/tech/173.txt        \n",
            "  inflating: bbc/politics/269.txt    \n",
            "  inflating: bbc/sport/299.txt       \n",
            "  inflating: bbc/tech/167.txt        \n",
            "  inflating: bbc/tech/171.txt        \n",
            "  inflating: bbc/tech/146.txt        \n",
            "  inflating: bbc/politics/260.txt    \n",
            "  inflating: bbc/sport/266.txt       \n",
            "  inflating: bbc/entertainment/246.txt  \n",
            "  inflating: bbc/politics/234.txt    \n",
            "  inflating: bbc/sport/278.txt       \n",
            "  inflating: bbc/entertainment/227.txt  \n",
            "  inflating: bbc/entertainment/257.txt  \n",
            "  inflating: bbc/tech/177.txt        \n",
            "  inflating: bbc/politics/252.txt    \n",
            "  inflating: bbc/tech/168.txt        \n",
            "  inflating: bbc/politics/233.txt    \n",
            "  inflating: bbc/tech/147.txt        \n",
            "  inflating: bbc/entertainment/250.txt  \n",
            "  inflating: bbc/entertainment/225.txt  \n",
            "  inflating: bbc/tech/140.txt        \n",
            "  inflating: bbc/sport/279.txt       \n",
            "  inflating: bbc/tech/163.txt        \n",
            "  inflating: bbc/politics/264.txt    \n",
            "  inflating: bbc/sport/309.txt       \n",
            "  inflating: bbc/entertainment/226.txt  \n",
            "  inflating: bbc/sport/294.txt       \n",
            "  inflating: bbc/politics/248.txt    \n",
            "  inflating: bbc/entertainment/224.txt  \n",
            "  inflating: bbc/sport/303.txt       \n",
            "  inflating: bbc/entertainment/263.txt  \n",
            "  inflating: bbc/politics/257.txt    \n",
            "  inflating: bbc/politics/231.txt    \n",
            "  inflating: bbc/entertainment/247.txt  \n",
            "  inflating: bbc/politics/237.txt    \n",
            "  inflating: bbc/politics/232.txt    \n",
            "  inflating: bbc/sport/298.txt       \n",
            "  inflating: bbc/entertainment/229.txt  \n",
            "  inflating: bbc/politics/235.txt    \n",
            "  inflating: bbc/sport/276.txt       \n",
            "  inflating: bbc/sport/272.txt       \n",
            "  inflating: bbc/politics/263.txt    \n",
            "  inflating: bbc/entertainment/231.txt  \n",
            "  inflating: bbc/entertainment/239.txt  \n",
            "  inflating: bbc/entertainment/245.txt  \n",
            "  inflating: bbc/entertainment/241.txt  \n",
            "  inflating: bbc/entertainment/255.txt  \n",
            "  inflating: bbc/sport/270.txt       \n",
            "  inflating: bbc/sport/274.txt       \n",
            "  inflating: bbc/politics/227.txt    \n",
            "  inflating: bbc/politics/241.txt    \n",
            "  inflating: bbc/sport/284.txt       \n",
            "  inflating: bbc/politics/267.txt    \n",
            "  inflating: bbc/sport/302.txt       \n",
            "  inflating: bbc/politics/240.txt    \n",
            "  inflating: bbc/sport/287.txt       \n",
            "  inflating: bbc/entertainment/261.txt  \n",
            "  inflating: bbc/entertainment/230.txt  \n",
            "  inflating: bbc/politics/253.txt    \n",
            "  inflating: bbc/entertainment/254.txt  \n",
            "  inflating: bbc/sport/290.txt       \n",
            "  inflating: bbc/sport/288.txt       \n",
            "  inflating: bbc/sport/293.txt       \n",
            "  inflating: bbc/sport/308.txt       \n",
            "  inflating: bbc/politics/254.txt    \n",
            "  inflating: bbc/sport/267.txt       \n",
            "  inflating: bbc/politics/214.txt    \n",
            "  inflating: bbc/entertainment/256.txt  \n",
            "  inflating: bbc/sport/296.txt       \n",
            "  inflating: bbc/entertainment/228.txt  \n",
            "  inflating: bbc/politics/246.txt    \n",
            "  inflating: bbc/politics/250.txt    \n",
            "  inflating: bbc/entertainment/251.txt  \n",
            "  inflating: bbc/politics/213.txt    \n",
            "  inflating: bbc/sport/295.txt       \n",
            "  inflating: bbc/politics/211.txt    \n",
            "  inflating: bbc/entertainment/243.txt  \n",
            "  inflating: bbc/entertainment/221.txt  \n",
            "  inflating: bbc/politics/217.txt    \n",
            "  inflating: bbc/entertainment/222.txt  \n",
            "  inflating: bbc/sport/304.txt       \n",
            "  inflating: bbc/sport/271.txt       \n",
            "  inflating: bbc/sport/282.txt       \n",
            "  inflating: bbc/politics/218.txt    \n",
            "  inflating: bbc/entertainment/220.txt  \n",
            "  inflating: bbc/entertainment/244.txt  \n",
            "  inflating: bbc/politics/216.txt    \n",
            "  inflating: bbc/politics/210.txt    \n",
            "  inflating: bbc/sport/297.txt       \n",
            "  inflating: bbc/entertainment/252.txt  \n",
            "  inflating: bbc/politics/198.txt    \n",
            "  inflating: bbc/entertainment/188.txt  \n",
            "  inflating: bbc/entertainment/258.txt  \n",
            "  inflating: bbc/entertainment/205.txt  \n",
            "  inflating: bbc/politics/222.txt    \n",
            "  inflating: bbc/sport/305.txt       \n",
            "  inflating: bbc/politics/205.txt    \n",
            "  inflating: bbc/sport/283.txt       \n",
            "  inflating: bbc/politics/224.txt    \n",
            "  inflating: bbc/sport/269.txt       \n",
            "  inflating: bbc/politics/189.txt    \n",
            "  inflating: bbc/entertainment/199.txt  \n",
            "  inflating: bbc/politics/212.txt    \n",
            "  inflating: bbc/entertainment/193.txt  \n",
            "  inflating: bbc/politics/220.txt    \n",
            "  inflating: bbc/entertainment/185.txt  \n",
            "  inflating: bbc/sport/285.txt       \n",
            "  inflating: bbc/sport/281.txt       \n",
            "  inflating: bbc/sport/265.txt       \n",
            "  inflating: bbc/entertainment/174.txt  \n",
            "  inflating: bbc/sport/289.txt       \n",
            "  inflating: bbc/politics/203.txt    \n",
            "  inflating: bbc/sport/307.txt       \n",
            "  inflating: bbc/politics/190.txt    \n",
            "  inflating: bbc/sport/286.txt       \n",
            "  inflating: bbc/politics/196.txt    \n",
            "  inflating: bbc/entertainment/211.txt  \n",
            "  inflating: bbc/entertainment/191.txt  \n",
            "  inflating: bbc/politics/219.txt    \n",
            "  inflating: bbc/entertainment/209.txt  \n",
            "  inflating: bbc/politics/191.txt    \n",
            "  inflating: bbc/entertainment/194.txt  \n",
            "  inflating: bbc/sport/300.txt       \n",
            "  inflating: bbc/sport/280.txt       \n",
            "  inflating: bbc/entertainment/212.txt  \n",
            "  inflating: bbc/entertainment/189.txt  \n",
            "  inflating: bbc/politics/195.txt    \n",
            "  inflating: bbc/sport/273.txt       \n",
            "  inflating: bbc/sport/275.txt       \n",
            "  inflating: bbc/entertainment/184.txt  \n",
            "  inflating: bbc/entertainment/190.txt  \n",
            "  inflating: bbc/politics/194.txt    \n",
            "  inflating: bbc/politics/193.txt    \n",
            "  inflating: bbc/politics/202.txt    \n",
            "  inflating: bbc/politics/223.txt    \n",
            "  inflating: bbc/sport/306.txt       \n",
            "  inflating: bbc/sport/255.txt       \n",
            "  inflating: bbc/sport/292.txt       \n",
            "  inflating: bbc/entertainment/210.txt  \n",
            "  inflating: bbc/entertainment/186.txt  \n",
            "  inflating: bbc/entertainment/207.txt  \n",
            "  inflating: bbc/sport/227.txt       \n",
            "  inflating: bbc/politics/206.txt    \n",
            "  inflating: bbc/sport/291.txt       \n",
            "  inflating: bbc/politics/201.txt    \n",
            "  inflating: bbc/politics/204.txt    \n",
            "  inflating: bbc/entertainment/182.txt  \n",
            "  inflating: bbc/entertainment/213.txt  \n",
            "  inflating: bbc/sport/268.txt       \n",
            "  inflating: bbc/entertainment/215.txt  \n",
            "  inflating: bbc/entertainment/177.txt  \n",
            "  inflating: bbc/entertainment/173.txt  \n",
            "  inflating: bbc/sport/246.txt       \n",
            "  inflating: bbc/politics/192.txt    \n",
            "  inflating: bbc/politics/209.txt    \n",
            "  inflating: bbc/politics/215.txt    \n",
            "  inflating: bbc/entertainment/187.txt  \n",
            "  inflating: bbc/entertainment/181.txt  \n",
            "  inflating: bbc/politics/197.txt    \n",
            "  inflating: bbc/politics/221.txt    \n",
            "  inflating: bbc/entertainment/203.txt  \n",
            "  inflating: bbc/politics/200.txt    \n",
            "  inflating: bbc/politics/226.txt    \n",
            "  inflating: bbc/politics/199.txt    \n",
            "  inflating: bbc/entertainment/180.txt  \n",
            "  inflating: bbc/entertainment/176.txt  \n",
            "  inflating: bbc/entertainment/195.txt  \n",
            "  inflating: bbc/politics/225.txt    \n",
            "  inflating: bbc/entertainment/178.txt  \n",
            "  inflating: bbc/entertainment/216.txt  \n",
            "  inflating: bbc/politics/187.txt    \n",
            "  inflating: bbc/politics/153.txt    \n",
            "  inflating: bbc/politics/207.txt    \n",
            "  inflating: bbc/politics/157.txt    \n",
            "  inflating: bbc/entertainment/198.txt  \n",
            "  inflating: bbc/entertainment/202.txt  \n",
            "  inflating: bbc/entertainment/217.txt  \n",
            "  inflating: bbc/politics/171.txt    \n",
            "  inflating: bbc/entertainment/192.txt  \n",
            "  inflating: bbc/politics/186.txt    \n",
            "  inflating: bbc/politics/145.txt    \n",
            "  inflating: bbc/politics/176.txt    \n",
            "  inflating: bbc/entertainment/218.txt  \n",
            "  inflating: bbc/entertainment/208.txt  \n",
            "  inflating: bbc/entertainment/200.txt  \n",
            "  inflating: bbc/politics/163.txt    \n",
            "  inflating: bbc/politics/160.txt    \n",
            "  inflating: bbc/entertainment/175.txt  \n",
            "  inflating: bbc/entertainment/206.txt  \n",
            "  inflating: bbc/politics/152.txt    \n",
            "  inflating: bbc/entertainment/179.txt  \n",
            "  inflating: bbc/politics/174.txt    \n",
            "  inflating: bbc/politics/148.txt    \n",
            "  inflating: bbc/politics/208.txt    \n",
            "  inflating: bbc/entertainment/201.txt  \n",
            "  inflating: bbc/entertainment/204.txt  \n",
            "  inflating: bbc/politics/165.txt    \n",
            "  inflating: bbc/entertainment/214.txt  \n",
            "  inflating: bbc/entertainment/143.txt  \n",
            "  inflating: bbc/entertainment/130.txt  \n",
            "  inflating: bbc/politics/143.txt    \n",
            "  inflating: bbc/politics/182.txt    \n",
            "  inflating: bbc/entertainment/141.txt  \n",
            "  inflating: bbc/politics/168.txt    \n",
            "  inflating: bbc/entertainment/161.txt  \n",
            "  inflating: bbc/entertainment/197.txt  \n",
            "  inflating: bbc/politics/166.txt    \n",
            "  inflating: bbc/entertainment/171.txt  \n",
            "  inflating: bbc/entertainment/133.txt  \n",
            "  inflating: bbc/entertainment/147.txt  \n",
            "  inflating: bbc/entertainment/145.txt  \n",
            "  inflating: bbc/entertainment/169.txt  \n",
            "  inflating: bbc/entertainment/136.txt  \n",
            "  inflating: bbc/entertainment/158.txt  \n",
            "  inflating: bbc/entertainment/183.txt  \n",
            "  inflating: bbc/entertainment/168.txt  \n",
            "  inflating: bbc/entertainment/166.txt  \n",
            "  inflating: bbc/entertainment/137.txt  \n",
            "  inflating: bbc/entertainment/131.txt  \n",
            "  inflating: bbc/entertainment/134.txt  \n",
            "  inflating: bbc/entertainment/148.txt  \n",
            "  inflating: bbc/entertainment/159.txt  \n",
            "  inflating: bbc/politics/188.txt    \n",
            "  inflating: bbc/entertainment/163.txt  \n",
            "  inflating: bbc/entertainment/160.txt  \n",
            "  inflating: bbc/business/504.txt    \n",
            "  inflating: bbc/entertainment/150.txt  \n",
            "  inflating: bbc/entertainment/153.txt  \n",
            "  inflating: bbc/politics/151.txt    \n",
            "  inflating: bbc/business/509.txt    \n",
            "  inflating: bbc/entertainment/135.txt  \n",
            "  inflating: bbc/entertainment/132.txt  \n",
            "  inflating: bbc/business/510.txt    \n",
            "  inflating: bbc/entertainment/146.txt  \n",
            "  inflating: bbc/business/475.txt    \n",
            "  inflating: bbc/business/498.txt    \n",
            "  inflating: bbc/entertainment/162.txt  \n",
            "  inflating: bbc/entertainment/167.txt  \n",
            "  inflating: bbc/entertainment/164.txt  \n",
            "  inflating: bbc/business/486.txt    \n",
            "  inflating: bbc/business/506.txt    \n",
            "  inflating: bbc/entertainment/170.txt  \n",
            "  inflating: bbc/business/485.txt    \n",
            "  inflating: bbc/entertainment/138.txt  \n",
            "  inflating: bbc/entertainment/156.txt  \n",
            "  inflating: bbc/business/507.txt    \n",
            "  inflating: bbc/business/472.txt    \n",
            "  inflating: bbc/business/508.txt    \n",
            "  inflating: bbc/entertainment/139.txt  \n",
            "  inflating: bbc/business/505.txt    \n",
            "  inflating: bbc/business/484.txt    \n",
            "  inflating: bbc/entertainment/155.txt  \n",
            "  inflating: bbc/business/479.txt    \n",
            "  inflating: bbc/entertainment/142.txt  \n",
            "  inflating: bbc/business/500.txt    \n",
            "  inflating: bbc/business/488.txt    \n",
            "  inflating: bbc/business/473.txt    \n",
            "  inflating: bbc/business/499.txt    \n",
            "  inflating: bbc/entertainment/157.txt  \n",
            "  inflating: bbc/business/502.txt    \n",
            "  inflating: bbc/business/480.txt    \n",
            "  inflating: bbc/business/487.txt    \n",
            "  inflating: bbc/business/497.txt    \n",
            "  inflating: bbc/business/471.txt    \n",
            "  inflating: bbc/business/496.txt    \n",
            "  inflating: bbc/business/503.txt    \n",
            "  inflating: bbc/business/465.txt    \n",
            "  inflating: bbc/business/474.txt    \n",
            "  inflating: bbc/business/468.txt    \n",
            "  inflating: bbc/business/481.txt    \n",
            "  inflating: bbc/business/477.txt    \n",
            "  inflating: bbc/business/478.txt    \n",
            "  inflating: bbc/business/483.txt    \n",
            "  inflating: bbc/business/495.txt    \n",
            "  inflating: bbc/business/492.txt    \n",
            "  inflating: bbc/business/490.txt    \n",
            "  inflating: bbc/business/476.txt    \n",
            "  inflating: bbc/business/491.txt    \n",
            "  inflating: bbc/business/469.txt    \n",
            "  inflating: bbc/business/467.txt    \n",
            "  inflating: bbc/business/493.txt    \n",
            "  inflating: bbc/business/470.txt    \n",
            "  inflating: bbc/business/459.txt    \n",
            "  inflating: bbc/business/466.txt    \n",
            "  inflating: bbc/business/501.txt    \n",
            "  inflating: bbc/business/421.txt    \n",
            "  inflating: bbc/business/489.txt    \n",
            "  inflating: bbc/business/494.txt    \n",
            "  inflating: bbc/business/423.txt    \n",
            "  inflating: bbc/business/482.txt    \n",
            "  inflating: bbc/business/453.txt    \n",
            "  inflating: bbc/business/449.txt    \n",
            "  inflating: bbc/business/426.txt    \n",
            "  inflating: bbc/business/458.txt    \n",
            "  inflating: bbc/business/457.txt    \n",
            "  inflating: bbc/business/462.txt    \n",
            "  inflating: bbc/business/422.txt    \n",
            "  inflating: bbc/business/460.txt    \n",
            "  inflating: bbc/business/436.txt    \n",
            "  inflating: bbc/business/431.txt    \n",
            "  inflating: bbc/business/450.txt    \n",
            "  inflating: bbc/business/448.txt    \n",
            "  inflating: bbc/business/441.txt    \n",
            "  inflating: bbc/business/463.txt    \n",
            "  inflating: bbc/business/430.txt    \n",
            "  inflating: bbc/business/461.txt    \n",
            "  inflating: bbc/business/425.txt    \n",
            "  inflating: bbc/business/452.txt    \n",
            "  inflating: bbc/business/444.txt    \n",
            "  inflating: bbc/business/435.txt    \n",
            "  inflating: bbc/business/454.txt    \n",
            "  inflating: bbc/business/429.txt    \n",
            "  inflating: bbc/business/428.txt    \n",
            "  inflating: bbc/business/439.txt    \n",
            "  inflating: bbc/business/437.txt    \n",
            "  inflating: bbc/business/432.txt    \n",
            "  inflating: bbc/business/447.txt    \n",
            "  inflating: bbc/business/434.txt    \n",
            "  inflating: bbc/business/455.txt    \n",
            "  inflating: bbc/business/446.txt    \n",
            "  inflating: bbc/business/451.txt    \n",
            "  inflating: bbc/business/442.txt    \n",
            "  inflating: bbc/business/433.txt    \n",
            "  inflating: bbc/business/464.txt    \n",
            "  inflating: bbc/business/443.txt    \n",
            "  inflating: bbc/business/424.txt    \n",
            "  inflating: bbc/business/456.txt    \n",
            "  inflating: bbc/business/445.txt    \n",
            "  inflating: bbc/business/380.txt    \n",
            "  inflating: bbc/business/427.txt    \n",
            "  inflating: bbc/business/397.txt    \n",
            "  inflating: bbc/business/399.txt    \n",
            "  inflating: bbc/business/383.txt    \n",
            "  inflating: bbc/business/396.txt    \n",
            "  inflating: bbc/business/378.txt    \n",
            "  inflating: bbc/business/387.txt    \n",
            "  inflating: bbc/business/440.txt    \n",
            "  inflating: bbc/business/386.txt    \n",
            "  inflating: bbc/business/395.txt    \n",
            "  inflating: bbc/business/438.txt    \n",
            "  inflating: bbc/business/401.txt    \n",
            "  inflating: bbc/business/413.txt    \n",
            "  inflating: bbc/business/406.txt    \n",
            "  inflating: bbc/business/419.txt    \n",
            "  inflating: bbc/business/407.txt    \n",
            "  inflating: bbc/business/400.txt    \n",
            "  inflating: bbc/business/410.txt    \n",
            "  inflating: bbc/business/398.txt    \n",
            "  inflating: bbc/business/388.txt    \n",
            "  inflating: bbc/business/385.txt    \n",
            "  inflating: bbc/business/409.txt    \n",
            "  inflating: bbc/business/420.txt    \n",
            "  inflating: bbc/business/393.txt    \n",
            "  inflating: bbc/business/390.txt    \n",
            "  inflating: bbc/business/405.txt    \n",
            "  inflating: bbc/business/402.txt    \n",
            "  inflating: bbc/business/381.txt    \n",
            "  inflating: bbc/business/415.txt    \n",
            "  inflating: bbc/business/411.txt    \n",
            "  inflating: bbc/business/404.txt    \n",
            "  inflating: bbc/business/384.txt    \n",
            "  inflating: bbc/business/391.txt    \n",
            "  inflating: bbc/business/403.txt    \n",
            "  inflating: bbc/business/414.txt    \n",
            "  inflating: bbc/business/418.txt    \n",
            "  inflating: bbc/business/375.txt    \n",
            "  inflating: bbc/business/392.txt    \n",
            "  inflating: bbc/business/377.txt    \n",
            "  inflating: bbc/business/382.txt    \n",
            "  inflating: bbc/business/389.txt    \n",
            "  inflating: bbc/business/417.txt    \n",
            "  inflating: bbc/business/376.txt    \n",
            "  inflating: bbc/business/331.txt    \n",
            "  inflating: bbc/business/412.txt    \n",
            "  inflating: bbc/business/416.txt    \n",
            "  inflating: bbc/business/394.txt    \n",
            "  inflating: bbc/business/408.txt    \n",
            "  inflating: bbc/business/371.txt    \n",
            "  inflating: bbc/business/363.txt    \n",
            "  inflating: bbc/business/373.txt    \n",
            "  inflating: bbc/business/367.txt    \n",
            "  inflating: bbc/business/379.txt    \n",
            "  inflating: bbc/business/365.txt    \n",
            "  inflating: bbc/business/351.txt    \n",
            "  inflating: bbc/business/374.txt    \n",
            "  inflating: bbc/business/372.txt    \n",
            "  inflating: bbc/business/358.txt    \n",
            "  inflating: bbc/business/368.txt    \n",
            "  inflating: bbc/business/343.txt    \n",
            "  inflating: bbc/business/330.txt    \n",
            "  inflating: bbc/business/369.txt    \n",
            "  inflating: bbc/business/366.txt    \n",
            "  inflating: bbc/business/349.txt    \n",
            "  inflating: bbc/business/364.txt    \n",
            "  inflating: bbc/business/347.txt    \n",
            "  inflating: bbc/business/332.txt    \n",
            "  inflating: bbc/business/357.txt    \n",
            "  inflating: bbc/business/350.txt    \n",
            "  inflating: bbc/business/345.txt    \n",
            "  inflating: bbc/business/348.txt    \n",
            "  inflating: bbc/business/360.txt    \n",
            "  inflating: bbc/business/344.txt    \n",
            "  inflating: bbc/business/339.txt    \n",
            "  inflating: bbc/business/337.txt    \n",
            "  inflating: bbc/business/359.txt    \n",
            "  inflating: bbc/business/333.txt    \n",
            "  inflating: bbc/business/341.txt    \n",
            "  inflating: bbc/business/338.txt    \n",
            "  inflating: bbc/business/336.txt    \n",
            "  inflating: bbc/business/355.txt    \n",
            "  inflating: bbc/business/352.txt    \n",
            "  inflating: bbc/business/361.txt    \n",
            "  inflating: bbc/business/346.txt    \n",
            "  inflating: bbc/business/370.txt    \n",
            "  inflating: bbc/business/354.txt    \n",
            "  inflating: bbc/business/356.txt    \n",
            "  inflating: bbc/business/353.txt    \n",
            "  inflating: bbc/business/335.txt    \n",
            "  inflating: bbc/business/362.txt    \n",
            "  inflating: bbc/business/334.txt    \n",
            "  inflating: bbc/business/327.txt    \n",
            "  inflating: bbc/business/319.txt    \n",
            "  inflating: bbc/business/326.txt    \n",
            "  inflating: bbc/business/306.txt    \n",
            "  inflating: bbc/business/340.txt    \n",
            "  inflating: bbc/business/329.txt    \n",
            "  inflating: bbc/business/314.txt    \n",
            "  inflating: bbc/business/309.txt    \n",
            "  inflating: bbc/business/301.txt    \n",
            "  inflating: bbc/business/321.txt    \n",
            "  inflating: bbc/business/303.txt    \n",
            "  inflating: bbc/business/318.txt    \n",
            "  inflating: bbc/business/288.txt    \n",
            "  inflating: bbc/business/313.txt    \n",
            "  inflating: bbc/business/311.txt    \n",
            "  inflating: bbc/business/317.txt    \n",
            "  inflating: bbc/tech/143.txt        \n",
            "  inflating: bbc/business/304.txt    \n",
            "  inflating: bbc/business/308.txt    \n",
            "  inflating: bbc/tech/178.txt        \n",
            "  inflating: bbc/tech/154.txt        \n",
            "  inflating: bbc/business/307.txt    \n",
            "  inflating: bbc/business/323.txt    \n",
            "  inflating: bbc/business/315.txt    \n",
            "  inflating: bbc/business/299.txt    \n",
            "  inflating: bbc/tech/141.txt        \n",
            "  inflating: bbc/tech/176.txt        \n",
            "  inflating: bbc/business/296.txt    \n",
            "  inflating: bbc/tech/166.txt        \n",
            "  inflating: bbc/business/295.txt    \n",
            "  inflating: bbc/tech/172.txt        \n",
            "  inflating: bbc/business/302.txt    \n",
            "  inflating: bbc/business/305.txt    \n",
            "  inflating: bbc/business/316.txt    \n",
            "  inflating: bbc/tech/139.txt        \n",
            "  inflating: bbc/business/289.txt    \n",
            "  inflating: bbc/business/291.txt    \n",
            "  inflating: bbc/business/300.txt    \n",
            "  inflating: bbc/entertainment/140.txt  \n",
            "  inflating: bbc/tech/152.txt        \n",
            "  inflating: bbc/business/294.txt    \n",
            "  inflating: bbc/tech/153.txt        \n",
            "  inflating: bbc/business/325.txt    \n",
            "  inflating: bbc/business/324.txt    \n",
            "  inflating: bbc/tech/160.txt        \n",
            "  inflating: bbc/tech/136.txt        \n",
            "  inflating: bbc/tech/123.txt        \n",
            "  inflating: bbc/tech/144.txt        \n",
            "  inflating: bbc/business/297.txt    \n",
            "  inflating: bbc/tech/115.txt        \n",
            "  inflating: bbc/business/342.txt    \n",
            "  inflating: bbc/business/310.txt    \n",
            "  inflating: bbc/tech/104.txt        \n",
            "  inflating: bbc/business/312.txt    \n",
            "  inflating: bbc/tech/125.txt        \n",
            "  inflating: bbc/business/322.txt    \n",
            "  inflating: bbc/business/281.txt    \n",
            "  inflating: bbc/business/328.txt    \n",
            "  inflating: bbc/business/282.txt    \n",
            "  inflating: bbc/business/320.txt    \n",
            "  inflating: bbc/tech/129.txt        \n",
            "  inflating: bbc/tech/175.txt        \n",
            "  inflating: bbc/tech/095.txt        \n",
            "  inflating: bbc/tech/128.txt        \n",
            "  inflating: bbc/business/290.txt    \n",
            "  inflating: bbc/tech/127.txt        \n",
            "  inflating: bbc/tech/105.txt        \n",
            "  inflating: bbc/business/246.txt    \n",
            "  inflating: bbc/business/271.txt    \n",
            "  inflating: bbc/business/298.txt    \n",
            "  inflating: bbc/business/257.txt    \n",
            "  inflating: bbc/tech/103.txt        \n",
            "  inflating: bbc/tech/135.txt        \n",
            "  inflating: bbc/business/273.txt    \n",
            "  inflating: bbc/business/270.txt    \n",
            "  inflating: bbc/business/258.txt    \n",
            "  inflating: bbc/business/263.txt    \n",
            "  inflating: bbc/tech/101.txt        \n",
            "  inflating: bbc/business/254.txt    \n",
            "  inflating: bbc/business/249.txt    \n",
            "  inflating: bbc/politics/184.txt    \n",
            "  inflating: bbc/tech/102.txt        \n",
            "  inflating: bbc/business/255.txt    \n",
            "  inflating: bbc/business/292.txt    \n",
            "  inflating: bbc/business/293.txt    \n",
            "  inflating: bbc/tech/130.txt        \n",
            "  inflating: bbc/tech/120.txt        \n",
            "  inflating: bbc/business/256.txt    \n",
            "  inflating: bbc/business/253.txt    \n",
            "  inflating: bbc/business/245.txt    \n",
            "  inflating: bbc/tech/108.txt        \n",
            "  inflating: bbc/politics/150.txt    \n",
            "  inflating: bbc/tech/121.txt        \n",
            "  inflating: bbc/business/268.txt    \n",
            "  inflating: bbc/tech/138.txt        \n",
            "  inflating: bbc/tech/114.txt        \n",
            "  inflating: bbc/tech/094.txt        \n",
            "  inflating: bbc/tech/097.txt        \n",
            "  inflating: bbc/tech/113.txt        \n",
            "  inflating: bbc/business/276.txt    \n",
            "  inflating: bbc/business/283.txt    \n",
            "  inflating: bbc/tech/112.txt        \n",
            "  inflating: bbc/entertainment/144.txt  \n",
            "  inflating: bbc/tech/106.txt        \n",
            "  inflating: bbc/business/259.txt    \n",
            "  inflating: bbc/entertainment/151.txt  \n",
            "  inflating: bbc/tech/099.txt        \n",
            "  inflating: bbc/business/252.txt    \n",
            "  inflating: bbc/business/280.txt    \n",
            "  inflating: bbc/business/247.txt    \n",
            "  inflating: bbc/entertainment/172.txt  \n",
            "  inflating: bbc/entertainment/154.txt  \n",
            "  inflating: bbc/business/279.txt    \n",
            "  inflating: bbc/entertainment/149.txt  \n",
            "  inflating: bbc/tech/119.txt        \n",
            "  inflating: bbc/tech/134.txt        \n",
            "  inflating: bbc/business/278.txt    \n",
            "  inflating: bbc/tech/109.txt        \n",
            "  inflating: bbc/entertainment/100.txt  \n",
            "  inflating: bbc/business/260.txt    \n",
            "  inflating: bbc/tech/124.txt        \n",
            "  inflating: bbc/tech/096.txt        \n",
            "  inflating: bbc/entertainment/196.txt  \n",
            "  inflating: bbc/entertainment/104.txt  \n",
            "  inflating: bbc/entertainment/165.txt  \n",
            "  inflating: bbc/entertainment/094.txt  \n",
            "  inflating: bbc/business/244.txt    \n",
            "  inflating: bbc/tech/098.txt        \n",
            "  inflating: bbc/tech/137.txt        \n",
            "  inflating: bbc/tech/131.txt        \n",
            "  inflating: bbc/tech/122.txt        \n",
            "  inflating: bbc/sport/003.txt       \n",
            "  inflating: bbc/sport/023.txt       \n",
            "  inflating: bbc/sport/011.txt       \n",
            "  inflating: bbc/entertainment/108.txt  \n",
            "  inflating: bbc/entertainment/091.txt  \n",
            "  inflating: bbc/sport/013.txt       \n",
            "  inflating: bbc/entertainment/117.txt  \n",
            "  inflating: bbc/sport/035.txt       \n",
            "  inflating: bbc/sport/009.txt       \n",
            "  inflating: bbc/entertainment/126.txt  \n",
            "  inflating: bbc/sport/012.txt       \n",
            "  inflating: bbc/entertainment/092.txt  \n",
            "  inflating: bbc/sport/030.txt       \n",
            "  inflating: bbc/sport/033.txt       \n",
            "  inflating: bbc/business/284.txt    \n",
            "  inflating: bbc/tech/133.txt        \n",
            "  inflating: bbc/tech/107.txt        \n",
            "  inflating: bbc/sport/005.txt       \n",
            "  inflating: bbc/entertainment/098.txt  \n",
            "  inflating: bbc/entertainment/088.txt  \n",
            "  inflating: bbc/tech/118.txt        \n",
            "  inflating: bbc/tech/111.txt        \n",
            "  inflating: bbc/entertainment/112.txt  \n",
            "  inflating: bbc/sport/014.txt       \n",
            "  inflating: bbc/entertainment/113.txt  \n",
            "  inflating: bbc/entertainment/115.txt  \n",
            "  inflating: bbc/entertainment/095.txt  \n",
            "  inflating: bbc/entertainment/086.txt  \n",
            "  inflating: bbc/entertainment/114.txt  \n",
            "  inflating: bbc/entertainment/125.txt  \n",
            "  inflating: bbc/tech/132.txt        \n",
            "  inflating: bbc/tech/084.txt        \n",
            "  inflating: bbc/tech/058.txt        \n",
            "  inflating: bbc/entertainment/087.txt  \n",
            "  inflating: bbc/tech/116.txt        \n",
            "  inflating: bbc/entertainment/110.txt  \n",
            "  inflating: bbc/entertainment/090.txt  \n",
            "  inflating: bbc/entertainment/102.txt  \n",
            "  inflating: bbc/tech/100.txt        \n",
            "  inflating: bbc/tech/110.txt        \n",
            "  inflating: bbc/entertainment/111.txt  \n",
            "  inflating: bbc/tech/117.txt        \n",
            "  inflating: bbc/entertainment/116.txt  \n",
            "  inflating: bbc/entertainment/103.txt  \n",
            "  inflating: bbc/tech/062.txt        \n",
            "  inflating: bbc/business/024.txt    \n",
            "  inflating: bbc/business/019.txt    \n",
            "  inflating: bbc/business/004.txt    \n",
            "  inflating: bbc/entertainment/119.txt  \n",
            "  inflating: bbc/business/012.txt    \n",
            "  inflating: bbc/tech/126.txt        \n",
            "  inflating: bbc/business/002.txt    \n",
            "  inflating: bbc/business/011.txt    \n",
            "  inflating: bbc/tech/080.txt        \n",
            "  inflating: bbc/business/014.txt    \n",
            "  inflating: bbc/business/025.txt    \n",
            "  inflating: bbc/tech/086.txt        \n",
            "  inflating: bbc/business/001.txt    \n",
            "  inflating: bbc/business/003.txt    \n",
            "  inflating: bbc/tech/061.txt        \n",
            "  inflating: bbc/entertainment/123.txt  \n",
            "  inflating: bbc/tech/077.txt        \n",
            "  inflating: bbc/entertainment/121.txt  \n",
            "  inflating: bbc/tech/053.txt        \n",
            "  inflating: bbc/tech/082.txt        \n",
            "  inflating: bbc/entertainment/109.txt  \n",
            "  inflating: bbc/entertainment/128.txt  \n",
            "  inflating: bbc/entertainment/105.txt  \n",
            "  inflating: bbc/tech/063.txt        \n",
            "  inflating: bbc/entertainment/127.txt  \n",
            "  inflating: bbc/tech/068.txt        \n",
            "  inflating: bbc/entertainment/129.txt  \n",
            "  inflating: bbc/tech/081.txt        \n",
            "  inflating: bbc/tech/055.txt        \n",
            "  inflating: bbc/entertainment/120.txt  \n",
            "  inflating: bbc/entertainment/122.txt  \n",
            "  inflating: bbc/entertainment/106.txt  \n",
            "  inflating: bbc/entertainment/099.txt  \n",
            "  inflating: bbc/tech/052.txt        \n",
            "  inflating: bbc/tech/059.txt        \n",
            "  inflating: bbc/tech/066.txt        \n",
            "  inflating: bbc/entertainment/096.txt  \n",
            "  inflating: bbc/tech/057.txt        \n",
            "  inflating: bbc/tech/093.txt        \n",
            "  inflating: bbc/tech/065.txt        \n",
            "  inflating: bbc/entertainment/107.txt  \n",
            "  inflating: bbc/tech/073.txt        \n",
            "  inflating: bbc/entertainment/101.txt  \n",
            "  inflating: bbc/entertainment/124.txt  \n",
            "  inflating: bbc/tech/078.txt        \n",
            "  inflating: bbc/entertainment/045.txt  \n",
            "  inflating: bbc/tech/072.txt        \n",
            "  inflating: bbc/entertainment/152.txt  \n",
            "  inflating: bbc/entertainment/097.txt  \n",
            "  inflating: bbc/entertainment/089.txt  \n",
            "  inflating: bbc/entertainment/118.txt  \n",
            "  inflating: bbc/tech/069.txt        \n",
            "  inflating: bbc/entertainment/074.txt  \n",
            "  inflating: bbc/entertainment/052.txt  \n",
            "  inflating: bbc/entertainment/085.txt  \n",
            "  inflating: bbc/sport/277.txt       \n",
            "  inflating: bbc/entertainment/093.txt  \n",
            "  inflating: bbc/sport/301.txt       \n",
            "  inflating: bbc/entertainment/073.txt  \n",
            "  inflating: bbc/tech/090.txt        \n",
            "  inflating: bbc/entertainment/066.txt  \n",
            "  inflating: bbc/tech/092.txt        \n",
            "  inflating: bbc/tech/070.txt        \n",
            "  inflating: bbc/tech/087.txt        \n",
            "  inflating: bbc/tech/091.txt        \n",
            "  inflating: bbc/tech/076.txt        \n",
            "  inflating: bbc/tech/085.txt        \n",
            "  inflating: bbc/tech/075.txt        \n",
            "  inflating: bbc/tech/054.txt        \n",
            "  inflating: bbc/tech/056.txt        \n",
            "  inflating: bbc/entertainment/082.txt  \n",
            "  inflating: bbc/tech/089.txt        \n",
            "  inflating: bbc/entertainment/076.txt  \n",
            "  inflating: bbc/tech/083.txt        \n",
            "  inflating: bbc/tech/079.txt        \n",
            "  inflating: bbc/entertainment/042.txt  \n",
            "  inflating: bbc/entertainment/053.txt  \n",
            "  inflating: bbc/entertainment/083.txt  \n",
            "  inflating: bbc/entertainment/054.txt  \n",
            "  inflating: bbc/tech/060.txt        \n",
            "  inflating: bbc/entertainment/068.txt  \n",
            "  inflating: bbc/entertainment/072.txt  \n",
            "  inflating: bbc/entertainment/078.txt  \n",
            "  inflating: bbc/tech/030.txt        \n",
            "  inflating: bbc/tech/074.txt        \n",
            "  inflating: bbc/entertainment/041.txt  \n",
            "  inflating: bbc/entertainment/065.txt  \n",
            "  inflating: bbc/tech/064.txt        \n",
            "  inflating: bbc/tech/071.txt        \n",
            "  inflating: bbc/entertainment/048.txt  \n",
            "  inflating: bbc/entertainment/081.txt  \n",
            "  inflating: bbc/tech/088.txt        \n",
            "  inflating: bbc/entertainment/064.txt  \n",
            "  inflating: bbc/tech/015.txt        \n",
            "  inflating: bbc/entertainment/079.txt  \n",
            "  inflating: bbc/tech/010.txt        \n",
            "  inflating: bbc/tech/032.txt        \n",
            "  inflating: bbc/entertainment/049.txt  \n",
            "  inflating: bbc/entertainment/080.txt  \n",
            "  inflating: bbc/tech/046.txt        \n",
            "  inflating: bbc/entertainment/050.txt  \n",
            "  inflating: bbc/tech/041.txt        \n",
            "  inflating: bbc/tech/021.txt        \n",
            "  inflating: bbc/tech/067.txt        \n",
            "  inflating: bbc/entertainment/084.txt  \n",
            "  inflating: bbc/tech/033.txt        \n",
            "  inflating: bbc/tech/014.txt        \n",
            "  inflating: bbc/tech/045.txt        \n",
            "  inflating: bbc/entertainment/058.txt  \n",
            "  inflating: bbc/entertainment/061.txt  \n",
            "  inflating: bbc/tech/008.txt        \n",
            "  inflating: bbc/entertainment/067.txt  \n",
            "  inflating: bbc/entertainment/062.txt  \n",
            "  inflating: bbc/entertainment/051.txt  \n",
            "  inflating: bbc/entertainment/071.txt  \n",
            "  inflating: bbc/entertainment/055.txt  \n",
            "  inflating: bbc/tech/018.txt        \n",
            "  inflating: bbc/tech/026.txt        \n",
            "  inflating: bbc/tech/039.txt        \n",
            "  inflating: bbc/entertainment/046.txt  \n",
            "  inflating: bbc/entertainment/070.txt  \n",
            "  inflating: bbc/tech/027.txt        \n",
            "  inflating: bbc/entertainment/047.txt  \n",
            "  inflating: bbc/tech/035.txt        \n",
            "  inflating: bbc/tech/023.txt        \n",
            "  inflating: bbc/tech/047.txt        \n",
            "  inflating: bbc/entertainment/069.txt  \n",
            "  inflating: bbc/tech/050.txt        \n",
            "  inflating: bbc/entertainment/056.txt  \n",
            "  inflating: bbc/tech/034.txt        \n",
            "  inflating: bbc/entertainment/063.txt  \n",
            "  inflating: bbc/entertainment/060.txt  \n",
            "  inflating: bbc/tech/028.txt        \n",
            "  inflating: bbc/entertainment/075.txt  \n",
            "  inflating: bbc/tech/024.txt        \n",
            "  inflating: bbc/tech/040.txt        \n",
            "  inflating: bbc/entertainment/057.txt  \n",
            "  inflating: bbc/entertainment/059.txt  \n",
            "  inflating: bbc/tech/011.txt        \n",
            "  inflating: bbc/tech/007.txt        \n",
            "  inflating: bbc/entertainment/043.txt  \n",
            "  inflating: bbc/entertainment/044.txt  \n",
            "  inflating: bbc/tech/038.txt        \n",
            "  inflating: bbc/entertainment/017.txt  \n",
            "  inflating: bbc/entertainment/030.txt  \n",
            "  inflating: bbc/tech/042.txt        \n",
            "  inflating: bbc/tech/043.txt        \n",
            "  inflating: bbc/tech/036.txt        \n",
            "  inflating: bbc/entertainment/025.txt  \n",
            "  inflating: bbc/tech/013.txt        \n",
            "  inflating: bbc/entertainment/029.txt  \n",
            "  inflating: bbc/tech/048.txt        \n",
            "  inflating: bbc/entertainment/077.txt  \n",
            "  inflating: bbc/entertainment/039.txt  \n",
            "  inflating: bbc/entertainment/031.txt  \n",
            "  inflating: bbc/tech/012.txt        \n",
            "  inflating: bbc/tech/044.txt        \n",
            "  inflating: bbc/entertainment/002.txt  \n",
            "  inflating: bbc/entertainment/037.txt  \n",
            "  inflating: bbc/tech/051.txt        \n",
            "  inflating: bbc/tech/049.txt        \n",
            "  inflating: bbc/tech/009.txt        \n",
            "  inflating: bbc/entertainment/040.txt  \n",
            "  inflating: bbc/entertainment/026.txt  \n",
            "  inflating: bbc/entertainment/004.txt  \n",
            "  inflating: bbc/tech/020.txt        \n",
            "  inflating: bbc/entertainment/028.txt  \n",
            "  inflating: bbc/entertainment/003.txt  \n",
            "  inflating: bbc/tech/016.txt        \n",
            "  inflating: bbc/entertainment/038.txt  \n",
            "  inflating: bbc/tech/037.txt        \n",
            "  inflating: bbc/entertainment/019.txt  \n",
            "  inflating: bbc/tech/025.txt        \n",
            "  inflating: bbc/tech/019.txt        \n",
            "  inflating: bbc/tech/017.txt        \n",
            "  inflating: bbc/entertainment/036.txt  \n",
            "  inflating: bbc/entertainment/015.txt  \n",
            "  inflating: bbc/entertainment/006.txt  \n",
            "  inflating: bbc/tech/022.txt        \n",
            "  inflating: bbc/tech/004.txt        \n",
            "  inflating: bbc/tech/029.txt        \n",
            "  inflating: bbc/entertainment/020.txt  \n",
            "  inflating: bbc/tech/006.txt        \n",
            "  inflating: bbc/entertainment/013.txt  \n",
            "  inflating: bbc/tech/031.txt        \n",
            "  inflating: bbc/entertainment/009.txt  \n",
            "  inflating: bbc/entertainment/033.txt  \n",
            "  inflating: bbc/entertainment/014.txt  \n",
            "  inflating: bbc/entertainment/032.txt  \n",
            "  inflating: bbc/tech/001.txt        \n",
            "  inflating: bbc/entertainment/027.txt  \n",
            "  inflating: bbc/tech/005.txt        \n",
            "  inflating: bbc/tech/003.txt        \n",
            "  inflating: bbc/entertainment/008.txt  \n",
            "  inflating: bbc/entertainment/010.txt  \n",
            "  inflating: bbc/entertainment/007.txt  \n",
            "  inflating: bbc/entertainment/023.txt  \n",
            "  inflating: bbc/entertainment/018.txt  \n",
            "  inflating: bbc/entertainment/005.txt  \n",
            "  inflating: bbc/entertainment/024.txt  \n",
            "  inflating: bbc/entertainment/011.txt  \n",
            "  inflating: bbc/entertainment/034.txt  \n",
            "  inflating: bbc/entertainment/012.txt  \n",
            "  inflating: bbc/entertainment/022.txt  \n",
            "  inflating: bbc/entertainment/016.txt  \n",
            "  inflating: bbc/entertainment/021.txt  \n",
            "  inflating: bbc/sport/248.txt       \n",
            "  inflating: bbc/tech/002.txt        \n",
            "  inflating: bbc/entertainment/035.txt  \n",
            "  inflating: bbc/entertainment/001.txt  \n",
            "  inflating: bbc/sport/243.txt       \n",
            "  inflating: bbc/sport/261.txt       \n",
            "  inflating: bbc/sport/239.txt       \n",
            "  inflating: bbc/sport/231.txt       \n",
            "  inflating: bbc/sport/256.txt       \n",
            "  inflating: bbc/sport/253.txt       \n",
            "  inflating: bbc/sport/259.txt       \n",
            "  inflating: bbc/sport/236.txt       \n",
            "  inflating: bbc/sport/233.txt       \n",
            "  inflating: bbc/sport/221.txt       \n",
            "  inflating: bbc/sport/249.txt       \n",
            "  inflating: bbc/sport/257.txt       \n",
            "  inflating: bbc/sport/226.txt       \n",
            "  inflating: bbc/sport/250.txt       \n",
            "  inflating: bbc/sport/245.txt       \n",
            "  inflating: bbc/sport/232.txt       \n",
            "  inflating: bbc/sport/223.txt       \n",
            "  inflating: bbc/sport/251.txt       \n",
            "  inflating: bbc/politics/291.txt    \n",
            "  inflating: bbc/sport/237.txt       \n",
            "  inflating: bbc/sport/228.txt       \n",
            "  inflating: bbc/sport/217.txt       \n",
            "  inflating: bbc/sport/254.txt       \n",
            "  inflating: bbc/sport/252.txt       \n",
            "  inflating: bbc/sport/220.txt       \n",
            "  inflating: bbc/sport/258.txt       \n",
            "  inflating: bbc/sport/222.txt       \n",
            "  inflating: bbc/sport/230.txt       \n",
            "  inflating: bbc/sport/262.txt       \n",
            "  inflating: bbc/sport/234.txt       \n",
            "  inflating: bbc/sport/263.txt       \n",
            "  inflating: bbc/sport/260.txt       \n",
            "  inflating: bbc/sport/264.txt       \n",
            "  inflating: bbc/sport/326.txt       \n",
            "  inflating: bbc/sport/224.txt       \n",
            "  inflating: bbc/sport/247.txt       \n",
            "  inflating: bbc/sport/242.txt       \n",
            "  inflating: bbc/sport/225.txt       \n",
            "  inflating: bbc/sport/241.txt       \n",
            "  inflating: bbc/sport/229.txt       \n",
            "  inflating: bbc/sport/218.txt       \n",
            "  inflating: bbc/sport/244.txt       \n",
            "  inflating: bbc/sport/240.txt       \n",
            "  inflating: bbc/sport/219.txt       \n",
            "  inflating: bbc/sport/201.txt       \n",
            "  inflating: bbc/sport/200.txt       \n",
            "  inflating: bbc/sport/238.txt       \n",
            "  inflating: bbc/sport/213.txt       \n",
            "  inflating: bbc/sport/176.txt       \n",
            "  inflating: bbc/tech/182.txt        \n",
            "  inflating: bbc/sport/175.txt       \n",
            "  inflating: bbc/sport/191.txt       \n",
            "  inflating: bbc/sport/192.txt       \n",
            "  inflating: bbc/sport/207.txt       \n",
            "  inflating: bbc/politics/169.txt    \n",
            "  inflating: bbc/sport/178.txt       \n",
            "  inflating: bbc/sport/174.txt       \n",
            "  inflating: bbc/sport/184.txt       \n",
            "  inflating: bbc/sport/181.txt       \n",
            "  inflating: bbc/politics/154.txt    \n",
            "  inflating: bbc/politics/144.txt    \n",
            "  inflating: bbc/politics/147.txt    \n",
            "  inflating: bbc/sport/186.txt       \n",
            "  inflating: bbc/entertainment/269.txt  \n",
            "  inflating: bbc/politics/178.txt    \n",
            "  inflating: bbc/sport/211.txt       \n",
            "  inflating: bbc/sport/177.txt       \n",
            "  inflating: bbc/politics/146.txt    \n",
            "  inflating: bbc/sport/198.txt       \n",
            "  inflating: bbc/politics/164.txt    \n",
            "  inflating: bbc/sport/208.txt       \n",
            "  inflating: bbc/sport/190.txt       \n",
            "  inflating: bbc/sport/173.txt       \n",
            "  inflating: bbc/sport/197.txt       \n",
            "  inflating: bbc/politics/161.txt    \n",
            "  inflating: bbc/sport/183.txt       \n",
            "  inflating: bbc/politics/158.txt    \n",
            "  inflating: bbc/sport/205.txt       \n",
            "  inflating: bbc/sport/215.txt       \n",
            "  inflating: bbc/politics/172.txt    \n",
            "  inflating: bbc/sport/182.txt       \n",
            "  inflating: bbc/politics/177.txt    \n",
            "  inflating: bbc/sport/206.txt       \n",
            "  inflating: bbc/politics/156.txt    \n",
            "  inflating: bbc/politics/170.txt    \n",
            "  inflating: bbc/politics/175.txt    \n",
            "  inflating: bbc/politics/183.txt    \n",
            "  inflating: bbc/sport/204.txt       \n",
            "  inflating: bbc/sport/210.txt       \n",
            "  inflating: bbc/politics/162.txt    \n",
            "  inflating: bbc/sport/179.txt       \n",
            "  inflating: bbc/sport/235.txt       \n",
            "  inflating: bbc/sport/199.txt       \n",
            "  inflating: bbc/politics/181.txt    \n",
            "  inflating: bbc/politics/155.txt    \n",
            "  inflating: bbc/sport/214.txt       \n",
            "  inflating: bbc/sport/193.txt       \n",
            "  inflating: bbc/sport/180.txt       \n",
            "  inflating: bbc/politics/102.txt    \n",
            "  inflating: bbc/politics/173.txt    \n",
            "  inflating: bbc/sport/194.txt       \n",
            "  inflating: bbc/politics/159.txt    \n",
            "  inflating: bbc/politics/185.txt    \n",
            "  inflating: bbc/sport/216.txt       \n",
            "  inflating: bbc/sport/187.txt       \n",
            "  inflating: bbc/sport/196.txt       \n",
            "  inflating: bbc/politics/149.txt    \n",
            "  inflating: bbc/politics/180.txt    \n",
            "  inflating: bbc/sport/195.txt       \n",
            "  inflating: bbc/politics/122.txt    \n",
            "  inflating: bbc/politics/108.txt    \n",
            "  inflating: bbc/sport/209.txt       \n",
            "  inflating: bbc/sport/203.txt       \n",
            "  inflating: bbc/sport/188.txt       \n",
            "  inflating: bbc/sport/189.txt       \n",
            "  inflating: bbc/politics/167.txt    \n",
            "  inflating: bbc/sport/212.txt       \n",
            "  inflating: bbc/sport/185.txt       \n",
            "  inflating: bbc/sport/158.txt       \n",
            "  inflating: bbc/politics/179.txt    \n",
            "  inflating: bbc/sport/202.txt       \n",
            "  inflating: bbc/sport/140.txt       \n",
            "  inflating: bbc/politics/125.txt    \n",
            "  inflating: bbc/politics/112.txt    \n",
            "  inflating: bbc/sport/165.txt       \n",
            "  inflating: bbc/politics/127.txt    \n",
            "  inflating: bbc/politics/132.txt    \n",
            "  inflating: bbc/politics/118.txt    \n",
            "  inflating: bbc/politics/130.txt    \n",
            "  inflating: bbc/politics/107.txt    \n",
            "  inflating: bbc/sport/136.txt       \n",
            "  inflating: bbc/politics/110.txt    \n",
            "  inflating: bbc/sport/146.txt       \n",
            "  inflating: bbc/sport/153.txt       \n",
            "  inflating: bbc/politics/134.txt    \n",
            "  inflating: bbc/politics/142.txt    \n",
            "  inflating: bbc/sport/157.txt       \n",
            "  inflating: bbc/politics/109.txt    \n",
            "  inflating: bbc/sport/163.txt       \n",
            "  inflating: bbc/politics/138.txt    \n",
            "  inflating: bbc/politics/117.txt    \n",
            "  inflating: bbc/politics/137.txt    \n",
            "  inflating: bbc/sport/169.txt       \n",
            "  inflating: bbc/sport/155.txt       \n",
            "  inflating: bbc/politics/114.txt    \n",
            "  inflating: bbc/politics/136.txt    \n",
            "  inflating: bbc/politics/106.txt    \n",
            "  inflating: bbc/sport/141.txt       \n",
            "  inflating: bbc/sport/159.txt       \n",
            "  inflating: bbc/sport/145.txt       \n",
            "  inflating: bbc/sport/149.txt       \n",
            "  inflating: bbc/politics/126.txt    \n",
            "  inflating: bbc/sport/152.txt       \n",
            "  inflating: bbc/politics/097.txt    \n",
            "  inflating: bbc/sport/134.txt       \n",
            "  inflating: bbc/sport/168.txt       \n",
            "  inflating: bbc/politics/104.txt    \n",
            "  inflating: bbc/politics/124.txt    \n",
            "  inflating: bbc/sport/150.txt       \n",
            "  inflating: bbc/politics/105.txt    \n",
            "  inflating: bbc/politics/103.txt    \n",
            "  inflating: bbc/sport/160.txt       \n",
            "  inflating: bbc/politics/129.txt    \n",
            "  inflating: bbc/sport/130.txt       \n",
            "  inflating: bbc/politics/135.txt    \n",
            "  inflating: bbc/politics/101.txt    \n",
            "  inflating: bbc/sport/172.txt       \n",
            "  inflating: bbc/sport/161.txt       \n",
            "  inflating: bbc/sport/142.txt       \n",
            "  inflating: bbc/politics/119.txt    \n",
            "  inflating: bbc/sport/148.txt       \n",
            "  inflating: bbc/politics/141.txt    \n",
            "  inflating: bbc/sport/132.txt       \n",
            "  inflating: bbc/sport/162.txt       \n",
            "  inflating: bbc/sport/138.txt       \n",
            "  inflating: bbc/sport/154.txt       \n",
            "  inflating: bbc/sport/143.txt       \n",
            "  inflating: bbc/politics/115.txt    \n",
            "  inflating: bbc/politics/139.txt    \n",
            "  inflating: bbc/sport/137.txt       \n",
            "  inflating: bbc/sport/147.txt       \n",
            "  inflating: bbc/politics/121.txt    \n",
            "  inflating: bbc/politics/131.txt    \n",
            "  inflating: bbc/sport/156.txt       \n",
            "  inflating: bbc/sport/167.txt       \n",
            "  inflating: bbc/politics/128.txt    \n",
            "  inflating: bbc/politics/100.txt    \n",
            "  inflating: bbc/politics/120.txt    \n",
            "  inflating: bbc/sport/164.txt       \n",
            "  inflating: bbc/politics/098.txt    \n",
            "  inflating: bbc/politics/140.txt    \n",
            "  inflating: bbc/politics/133.txt    \n",
            "  inflating: bbc/sport/135.txt       \n",
            "  inflating: bbc/politics/099.txt    \n",
            "  inflating: bbc/sport/144.txt       \n",
            "  inflating: bbc/politics/116.txt    \n",
            "  inflating: bbc/sport/129.txt       \n",
            "  inflating: bbc/sport/131.txt       \n",
            "  inflating: bbc/politics/113.txt    \n",
            "  inflating: bbc/politics/087.txt    \n",
            "  inflating: bbc/politics/091.txt    \n",
            "  inflating: bbc/sport/166.txt       \n",
            "  inflating: bbc/politics/071.txt    \n",
            "  inflating: bbc/sport/128.txt       \n",
            "  inflating: bbc/sport/151.txt       \n",
            "  inflating: bbc/sport/139.txt       \n",
            "  inflating: bbc/politics/123.txt    \n",
            "  inflating: bbc/politics/090.txt    \n",
            "  inflating: bbc/politics/063.txt    \n",
            "  inflating: bbc/politics/064.txt    \n",
            "  inflating: bbc/politics/111.txt    \n",
            "  inflating: bbc/sport/100.txt       \n",
            "  inflating: bbc/sport/170.txt       \n",
            "  inflating: bbc/sport/171.txt       \n",
            "  inflating: bbc/sport/120.txt       \n",
            "  inflating: bbc/sport/133.txt       \n",
            "  inflating: bbc/politics/074.txt    \n",
            "  inflating: bbc/politics/084.txt    \n",
            "  inflating: bbc/politics/075.txt    \n",
            "  inflating: bbc/politics/065.txt    \n",
            "  inflating: bbc/politics/078.txt    \n",
            "  inflating: bbc/sport/106.txt       \n",
            "  inflating: bbc/sport/092.txt       \n",
            "  inflating: bbc/sport/103.txt       \n",
            "  inflating: bbc/politics/069.txt    \n",
            "  inflating: bbc/politics/085.txt    \n",
            "  inflating: bbc/politics/080.txt    \n",
            "  inflating: bbc/sport/121.txt       \n",
            "  inflating: bbc/politics/079.txt    \n",
            "  inflating: bbc/sport/109.txt       \n",
            "  inflating: bbc/politics/089.txt    \n",
            "  inflating: bbc/sport/115.txt       \n",
            "  inflating: bbc/sport/126.txt       \n",
            "  inflating: bbc/politics/062.txt    \n",
            "  inflating: bbc/politics/068.txt    \n",
            "  inflating: bbc/politics/081.txt    \n",
            "  inflating: bbc/sport/081.txt       \n",
            "  inflating: bbc/politics/088.txt    \n",
            "  inflating: bbc/politics/067.txt    \n",
            "  inflating: bbc/sport/087.txt       \n",
            "  inflating: bbc/politics/082.txt    \n",
            "  inflating: bbc/politics/092.txt    \n",
            "  inflating: bbc/sport/108.txt       \n",
            "  inflating: bbc/sport/125.txt       \n",
            "  inflating: bbc/sport/090.txt       \n",
            "  inflating: bbc/sport/094.txt       \n",
            "  inflating: bbc/sport/088.txt       \n",
            "  inflating: bbc/politics/093.txt    \n",
            "  inflating: bbc/politics/076.txt    \n",
            "  inflating: bbc/politics/077.txt    \n",
            "  inflating: bbc/sport/102.txt       \n",
            "  inflating: bbc/politics/083.txt    \n",
            "  inflating: bbc/sport/123.txt       \n",
            "  inflating: bbc/sport/098.txt       \n",
            "  inflating: bbc/sport/127.txt       \n",
            "  inflating: bbc/sport/104.txt       \n",
            "  inflating: bbc/politics/066.txt    \n",
            "  inflating: bbc/politics/070.txt    \n",
            "  inflating: bbc/politics/094.txt    \n",
            "  inflating: bbc/politics/073.txt    \n",
            "  inflating: bbc/sport/110.txt       \n",
            "  inflating: bbc/sport/124.txt       \n",
            "  inflating: bbc/sport/084.txt       \n",
            "  inflating: bbc/politics/072.txt    \n",
            "  inflating: bbc/sport/089.txt       \n",
            "  inflating: bbc/politics/035.txt    \n",
            "  inflating: bbc/politics/095.txt    \n",
            "  inflating: bbc/politics/086.txt    \n",
            "  inflating: bbc/sport/095.txt       \n",
            "  inflating: bbc/sport/111.txt       \n",
            "  inflating: bbc/politics/055.txt    \n",
            "  inflating: bbc/sport/117.txt       \n",
            "  inflating: bbc/politics/060.txt    \n",
            "  inflating: bbc/politics/061.txt    \n",
            "  inflating: bbc/politics/021.txt    \n",
            "  inflating: bbc/sport/116.txt       \n",
            "  inflating: bbc/politics/050.txt    \n",
            "  inflating: bbc/politics/043.txt    \n",
            "  inflating: bbc/politics/018.txt    \n",
            "  inflating: bbc/sport/085.txt       \n",
            "  inflating: bbc/sport/113.txt       \n",
            "  inflating: bbc/politics/039.txt    \n",
            "  inflating: bbc/sport/101.txt       \n",
            "  inflating: bbc/politics/017.txt    \n",
            "  inflating: bbc/politics/020.txt    \n",
            "  inflating: bbc/politics/034.txt    \n",
            "  inflating: bbc/sport/082.txt       \n",
            "  inflating: bbc/sport/107.txt       \n",
            "  inflating: bbc/sport/091.txt       \n",
            "  inflating: bbc/sport/119.txt       \n",
            "  inflating: bbc/sport/114.txt       \n",
            "  inflating: bbc/politics/056.txt    \n",
            "  inflating: bbc/politics/015.txt    \n",
            "  inflating: bbc/sport/097.txt       \n",
            "  inflating: bbc/politics/038.txt    \n",
            "  inflating: bbc/sport/118.txt       \n",
            "  inflating: bbc/sport/112.txt       \n",
            "  inflating: bbc/politics/051.txt    \n",
            "  inflating: bbc/politics/048.txt    \n",
            "  inflating: bbc/politics/049.txt    \n",
            "  inflating: bbc/sport/099.txt       \n",
            "  inflating: bbc/sport/105.txt       \n",
            "  inflating: bbc/politics/033.txt    \n",
            "  inflating: bbc/sport/122.txt       \n",
            "  inflating: bbc/sport/083.txt       \n",
            "  inflating: bbc/politics/058.txt    \n",
            "  inflating: bbc/sport/077.txt       \n",
            "  inflating: bbc/politics/040.txt    \n",
            "  inflating: bbc/politics/025.txt    \n",
            "  inflating: bbc/sport/096.txt       \n",
            "  inflating: bbc/sport/093.txt       \n",
            "  inflating: bbc/sport/080.txt       \n",
            "  inflating: bbc/sport/040.txt       \n",
            "  inflating: bbc/sport/401.txt       \n",
            "  inflating: bbc/politics/026.txt    \n",
            "  inflating: bbc/politics/041.txt    \n",
            "  inflating: bbc/politics/019.txt    \n",
            "  inflating: bbc/politics/029.txt    \n",
            "  inflating: bbc/politics/023.txt    \n",
            "  inflating: bbc/politics/052.txt    \n",
            "  inflating: bbc/politics/027.txt    \n",
            "  inflating: bbc/sport/037.txt       \n",
            "  inflating: bbc/sport/066.txt       \n",
            "  inflating: bbc/politics/016.txt    \n",
            "  inflating: bbc/sport/047.txt       \n",
            "  inflating: bbc/politics/053.txt    \n",
            "  inflating: bbc/politics/096.txt    \n",
            "  inflating: bbc/sport/086.txt       \n",
            "  inflating: bbc/sport/045.txt       \n",
            "  inflating: bbc/sport/056.txt       \n",
            "  inflating: bbc/tech/265.txt        \n",
            "  inflating: bbc/politics/037.txt    \n",
            "  inflating: bbc/sport/076.txt       \n",
            "  inflating: bbc/sport/038.txt       \n",
            "  inflating: bbc/sport/053.txt       \n",
            "  inflating: bbc/politics/042.txt    \n",
            "  inflating: bbc/sport/046.txt       \n",
            "  inflating: bbc/sport/048.txt       \n",
            "  inflating: bbc/sport/057.txt       \n",
            "  inflating: bbc/politics/030.txt    \n",
            "  inflating: bbc/sport/078.txt       \n",
            "  inflating: bbc/politics/014.txt    \n",
            "  inflating: bbc/sport/071.txt       \n",
            "  inflating: bbc/politics/059.txt    \n",
            "  inflating: bbc/politics/046.txt    \n",
            "  inflating: bbc/politics/054.txt    \n",
            "  inflating: bbc/sport/061.txt       \n",
            "  inflating: bbc/politics/024.txt    \n",
            "  inflating: bbc/sport/079.txt       \n",
            "  inflating: bbc/politics/031.txt    \n",
            "  inflating: bbc/sport/042.txt       \n",
            "  inflating: bbc/sport/064.txt       \n",
            "  inflating: bbc/sport/062.txt       \n",
            "  inflating: bbc/politics/047.txt    \n",
            "  inflating: bbc/politics/045.txt    \n",
            "  inflating: bbc/sport/041.txt       \n",
            "  inflating: bbc/politics/044.txt    \n",
            "  inflating: bbc/sport/051.txt       \n",
            "  inflating: bbc/sport/036.txt       \n",
            "  inflating: bbc/politics/032.txt    \n",
            "  inflating: bbc/politics/036.txt    \n",
            "  inflating: bbc/sport/065.txt       \n",
            "  inflating: bbc/sport/070.txt       \n",
            "  inflating: bbc/politics/057.txt    \n",
            "  inflating: bbc/sport/063.txt       \n",
            "  inflating: bbc/sport/058.txt       \n",
            "  inflating: bbc/politics/010.txt    \n",
            "  inflating: bbc/politics/009.txt    \n",
            "  inflating: bbc/politics/006.txt    \n",
            "  inflating: bbc/politics/028.txt    \n",
            "  inflating: bbc/sport/049.txt       \n",
            "  inflating: bbc/sport/055.txt       \n",
            "  inflating: bbc/sport/043.txt       \n",
            "  inflating: bbc/politics/022.txt    \n",
            "  inflating: bbc/politics/012.txt    \n",
            "  inflating: bbc/politics/013.txt    \n",
            "  inflating: bbc/sport/067.txt       \n",
            "  inflating: bbc/sport/044.txt       \n",
            "  inflating: bbc/sport/068.txt       \n",
            "  inflating: bbc/politics/004.txt    \n",
            "  inflating: bbc/sport/069.txt       \n",
            "  inflating: bbc/sport/073.txt       \n",
            "  inflating: bbc/politics/003.txt    \n",
            "  inflating: bbc/politics/005.txt    \n",
            "  inflating: bbc/politics/007.txt    \n",
            "  inflating: bbc/sport/052.txt       \n",
            "  inflating: bbc/sport/074.txt       \n",
            "  inflating: bbc/sport/075.txt       \n",
            "  inflating: bbc/politics/001.txt    \n",
            "  inflating: bbc/politics/008.txt    \n",
            "  inflating: bbc/politics/011.txt    \n",
            "  inflating: bbc/politics/002.txt    \n",
            "  inflating: bbc/sport/054.txt       \n",
            "  inflating: bbc/sport/027.txt       \n",
            "  inflating: bbc/sport/025.txt       \n",
            "  inflating: bbc/sport/018.txt       \n",
            "  inflating: bbc/sport/028.txt       \n",
            "  inflating: bbc/sport/050.txt       \n",
            "  inflating: bbc/sport/059.txt       \n",
            "  inflating: bbc/sport/021.txt       \n",
            "  inflating: bbc/sport/022.txt       \n",
            "  inflating: bbc/sport/019.txt       \n",
            "  inflating: bbc/sport/039.txt       \n",
            "  inflating: bbc/sport/017.txt       \n",
            "  inflating: bbc/sport/002.txt       \n",
            "  inflating: bbc/sport/015.txt       \n",
            "  inflating: bbc/sport/072.txt       \n",
            "  inflating: bbc/sport/004.txt       \n",
            "  inflating: bbc/sport/007.txt       \n",
            "  inflating: bbc/business/286.txt    \n",
            "  inflating: bbc/sport/029.txt       \n",
            "  inflating: bbc/sport/032.txt       \n",
            "  inflating: bbc/sport/008.txt       \n",
            "  inflating: bbc/business/285.txt    \n",
            "  inflating: bbc/sport/001.txt       \n",
            "  inflating: bbc/sport/034.txt       \n",
            "  inflating: bbc/sport/031.txt       \n",
            "  inflating: bbc/sport/016.txt       \n",
            "  inflating: bbc/sport/010.txt       \n",
            "  inflating: bbc/sport/060.txt       \n",
            "  inflating: bbc/sport/026.txt       \n",
            "  inflating: bbc/business/250.txt    \n",
            "  inflating: bbc/sport/006.txt       \n",
            "  inflating: bbc/business/272.txt    \n",
            "  inflating: bbc/business/262.txt    \n",
            "  inflating: bbc/business/264.txt    \n",
            "  inflating: bbc/sport/020.txt       \n",
            "  inflating: bbc/business/248.txt    \n",
            "  inflating: bbc/business/277.txt    \n",
            "  inflating: bbc/business/269.txt    \n",
            "  inflating: bbc/business/261.txt    \n",
            "  inflating: bbc/business/266.txt    \n",
            "  inflating: bbc/sport/024.txt       \n",
            "  inflating: bbc/business/267.txt    \n",
            "  inflating: bbc/business/287.txt    \n",
            "  inflating: bbc/business/221.txt    \n",
            "  inflating: bbc/business/274.txt    \n",
            "  inflating: bbc/business/216.txt    \n",
            "  inflating: bbc/business/251.txt    \n",
            "  inflating: bbc/business/209.txt    \n",
            "  inflating: bbc/business/265.txt    \n",
            "  inflating: bbc/business/233.txt    \n",
            "  inflating: bbc/business/241.txt    \n",
            "  inflating: bbc/business/204.txt    \n",
            "  inflating: bbc/business/205.txt    \n",
            "  inflating: bbc/business/214.txt    \n",
            "  inflating: bbc/business/235.txt    \n",
            "  inflating: bbc/business/206.txt    \n",
            "  inflating: bbc/business/275.txt    \n",
            "  inflating: bbc/business/238.txt    \n",
            "  inflating: bbc/business/208.txt    \n",
            "  inflating: bbc/business/239.txt    \n",
            "  inflating: bbc/business/211.txt    \n",
            "  inflating: bbc/business/234.txt    \n",
            "  inflating: bbc/business/215.txt    \n",
            "  inflating: bbc/business/220.txt    \n",
            "  inflating: bbc/business/227.txt    \n",
            "  inflating: bbc/business/207.txt    \n",
            "  inflating: bbc/business/232.txt    \n",
            "  inflating: bbc/business/217.txt    \n",
            "  inflating: bbc/business/243.txt    \n",
            "  inflating: bbc/business/219.txt    \n",
            "  inflating: bbc/business/225.txt    \n",
            "  inflating: bbc/business/240.txt    \n",
            "  inflating: bbc/business/222.txt    \n",
            "  inflating: bbc/business/213.txt    \n",
            "  inflating: bbc/business/236.txt    \n",
            "  inflating: bbc/business/226.txt    \n",
            "  inflating: bbc/business/223.txt    \n",
            "  inflating: bbc/business/224.txt    \n",
            "  inflating: bbc/business/237.txt    \n",
            "  inflating: bbc/business/229.txt    \n",
            "  inflating: bbc/business/230.txt    \n",
            "  inflating: bbc/business/174.txt    \n",
            "  inflating: bbc/business/210.txt    \n",
            "  inflating: bbc/business/218.txt    \n",
            "  inflating: bbc/business/231.txt    \n",
            "  inflating: bbc/business/212.txt    \n",
            "  inflating: bbc/business/160.txt    \n",
            "  inflating: bbc/business/228.txt    \n",
            "  inflating: bbc/business/199.txt    \n",
            "  inflating: bbc/business/200.txt    \n",
            "  inflating: bbc/business/192.txt    \n",
            "  inflating: bbc/business/183.txt    \n",
            "  inflating: bbc/business/178.txt    \n",
            "  inflating: bbc/business/191.txt    \n",
            "  inflating: bbc/business/242.txt    \n",
            "  inflating: bbc/business/179.txt    \n",
            "  inflating: bbc/business/203.txt    \n",
            "  inflating: bbc/business/172.txt    \n",
            "  inflating: bbc/business/162.txt    \n",
            "  inflating: bbc/business/177.txt    \n",
            "  inflating: bbc/business/165.txt    \n",
            "  inflating: bbc/business/193.txt    \n",
            "  inflating: bbc/business/202.txt    \n",
            "  inflating: bbc/business/166.txt    \n",
            "  inflating: bbc/business/187.txt    \n",
            "  inflating: bbc/business/173.txt    \n",
            "  inflating: bbc/business/190.txt    \n",
            "  inflating: bbc/business/194.txt    \n",
            "  inflating: bbc/business/169.txt    \n",
            "  inflating: bbc/business/180.txt    \n",
            "  inflating: bbc/business/201.txt    \n",
            "  inflating: bbc/business/171.txt    \n",
            "  inflating: bbc/business/186.txt    \n",
            "  inflating: bbc/business/197.txt    \n",
            "  inflating: bbc/business/163.txt    \n",
            "  inflating: bbc/business/175.txt    \n",
            "  inflating: bbc/business/195.txt    \n",
            "  inflating: bbc/business/168.txt    \n",
            "  inflating: bbc/business/170.txt    \n",
            "  inflating: bbc/business/188.txt    \n",
            "  inflating: bbc/business/182.txt    \n",
            "  inflating: bbc/business/196.txt    \n",
            "  inflating: bbc/business/164.txt    \n",
            "  inflating: bbc/business/176.txt    \n",
            "  inflating: bbc/business/167.txt    \n",
            "  inflating: bbc/business/126.txt    \n",
            "  inflating: bbc/business/161.txt    \n",
            "  inflating: bbc/business/181.txt    \n",
            "  inflating: bbc/business/184.txt    \n",
            "  inflating: bbc/business/158.txt    \n",
            "  inflating: bbc/business/198.txt    \n",
            "  inflating: bbc/business/185.txt    \n",
            "  inflating: bbc/business/143.txt    \n",
            "  inflating: bbc/business/155.txt    \n",
            "  inflating: bbc/business/131.txt    \n",
            "  inflating: bbc/business/138.txt    \n",
            "  inflating: bbc/business/148.txt    \n",
            "  inflating: bbc/politics/372.txt    \n",
            "  inflating: bbc/business/141.txt    \n",
            "  inflating: bbc/business/132.txt    \n",
            "  inflating: bbc/business/116.txt    \n",
            "  inflating: bbc/business/156.txt    \n",
            "  inflating: bbc/business/119.txt    \n",
            "  inflating: bbc/business/124.txt    \n",
            "  inflating: bbc/business/136.txt    \n",
            "  inflating: bbc/business/130.txt    \n",
            "  inflating: bbc/business/146.txt    \n",
            "  inflating: bbc/business/144.txt    \n",
            "  inflating: bbc/business/120.txt    \n",
            "  inflating: bbc/business/123.txt    \n",
            "  inflating: bbc/business/122.txt    \n",
            "  inflating: bbc/business/125.txt    \n",
            "  inflating: bbc/business/154.txt    \n",
            "  inflating: bbc/business/140.txt    \n",
            "  inflating: bbc/business/151.txt    \n",
            "  inflating: bbc/business/147.txt    \n",
            "  inflating: bbc/business/157.txt    \n",
            "  inflating: bbc/business/129.txt    \n",
            "  inflating: bbc/business/139.txt    \n",
            "  inflating: bbc/business/189.txt    \n",
            "  inflating: bbc/business/137.txt    \n",
            "  inflating: bbc/business/150.txt    \n",
            "  inflating: bbc/business/135.txt    \n",
            "  inflating: bbc/business/133.txt    \n",
            "  inflating: bbc/business/152.txt    \n",
            "  inflating: bbc/business/128.txt    \n",
            "  inflating: bbc/business/118.txt    \n",
            "  inflating: bbc/business/153.txt    \n",
            "  inflating: bbc/business/145.txt    \n",
            "  inflating: bbc/business/127.txt    \n",
            "  inflating: bbc/business/149.txt    \n",
            "  inflating: bbc/business/074.txt    \n",
            "  inflating: bbc/business/121.txt    \n",
            "  inflating: bbc/business/111.txt    \n",
            "  inflating: bbc/business/080.txt    \n",
            "  inflating: bbc/business/103.txt    \n",
            "  inflating: bbc/business/159.txt    \n",
            "  inflating: bbc/business/117.txt    \n",
            "  inflating: bbc/business/134.txt    \n",
            "  inflating: bbc/business/090.txt    \n",
            "  inflating: bbc/business/094.txt    \n",
            "  inflating: bbc/business/089.txt    \n",
            "  inflating: bbc/business/096.txt    \n",
            "  inflating: bbc/business/091.txt    \n",
            "  inflating: bbc/business/108.txt    \n",
            "  inflating: bbc/business/086.txt    \n",
            "  inflating: bbc/business/114.txt    \n",
            "  inflating: bbc/sport/508.txt       \n",
            "  inflating: bbc/business/085.txt    \n",
            "  inflating: bbc/business/083.txt    \n",
            "  inflating: bbc/business/142.txt    \n",
            "  inflating: bbc/business/101.txt    \n",
            "  inflating: bbc/business/105.txt    \n",
            "  inflating: bbc/business/115.txt    \n",
            "  inflating: bbc/business/098.txt    \n",
            "  inflating: bbc/business/082.txt    \n",
            "  inflating: bbc/business/100.txt    \n",
            "  inflating: bbc/business/093.txt    \n",
            "  inflating: bbc/business/109.txt    \n",
            "  inflating: bbc/business/106.txt    \n",
            "  inflating: bbc/business/076.txt    \n",
            "  inflating: bbc/business/102.txt    \n",
            "  inflating: bbc/business/088.txt    \n",
            "  inflating: bbc/business/087.txt    \n",
            "  inflating: bbc/business/084.txt    \n",
            "  inflating: bbc/business/075.txt    \n",
            "  inflating: bbc/business/113.txt    \n",
            "  inflating: bbc/business/112.txt    \n",
            "  inflating: bbc/business/107.txt    \n",
            "  inflating: bbc/business/104.txt    \n",
            "  inflating: bbc/business/078.txt    \n",
            "  inflating: bbc/sport/501.txt       \n",
            "  inflating: bbc/business/045.txt    \n",
            "  inflating: bbc/business/092.txt    \n",
            "  inflating: bbc/business/095.txt    \n",
            "  inflating: bbc/business/097.txt    \n",
            "  inflating: bbc/business/057.txt    \n",
            "  inflating: bbc/business/030.txt    \n",
            "  inflating: bbc/business/077.txt    \n",
            "  inflating: bbc/business/081.txt    \n",
            "  inflating: bbc/business/099.txt    \n",
            "  inflating: bbc/business/073.txt    \n",
            "  inflating: bbc/business/062.txt    \n",
            "  inflating: bbc/business/048.txt    \n",
            "  inflating: bbc/business/055.txt    \n",
            "  inflating: bbc/business/034.txt    \n",
            "  inflating: bbc/business/110.txt    \n",
            "  inflating: bbc/business/056.txt    \n",
            "  inflating: bbc/business/065.txt    \n",
            "  inflating: bbc/business/068.txt    \n",
            "  inflating: bbc/business/033.txt    \n",
            "  inflating: bbc/business/050.txt    \n",
            "  inflating: bbc/business/070.txt    \n",
            "  inflating: bbc/business/061.txt    \n",
            "  inflating: bbc/business/051.txt    \n",
            "  inflating: bbc/business/059.txt    \n",
            "  inflating: bbc/business/066.txt    \n",
            "  inflating: bbc/business/079.txt    \n",
            "  inflating: bbc/business/049.txt    \n",
            "  inflating: bbc/business/037.txt    \n",
            "  inflating: bbc/tech/393.txt        \n",
            "  inflating: bbc/business/041.txt    \n",
            "  inflating: bbc/business/054.txt    \n",
            "  inflating: bbc/business/035.txt    \n",
            "  inflating: bbc/business/064.txt    \n",
            "  inflating: bbc/business/069.txt    \n",
            "  inflating: bbc/business/060.txt    \n",
            "  inflating: bbc/business/043.txt    \n",
            "  inflating: bbc/business/046.txt    \n",
            "  inflating: bbc/business/052.txt    \n",
            "  inflating: bbc/business/047.txt    \n",
            "  inflating: bbc/business/072.txt    \n",
            "  inflating: bbc/business/071.txt    \n",
            "  inflating: bbc/business/039.txt    \n",
            "  inflating: bbc/business/036.txt    \n",
            "  inflating: bbc/business/042.txt    \n",
            "  inflating: bbc/business/063.txt    \n",
            "  inflating: bbc/business/038.txt    \n",
            "  inflating: bbc/business/031.txt    \n",
            "  inflating: bbc/business/067.txt    \n",
            "  inflating: bbc/business/029.txt    \n",
            "  inflating: bbc/business/053.txt    \n",
            "  inflating: bbc/business/040.txt    \n",
            "  inflating: bbc/business/005.txt    \n",
            "  inflating: bbc/business/032.txt    \n",
            "  inflating: bbc/business/026.txt    \n",
            "  inflating: bbc/business/020.txt    \n",
            "  inflating: bbc/business/013.txt    \n",
            "  inflating: bbc/business/044.txt    \n",
            "  inflating: bbc/business/010.txt    \n",
            "  inflating: bbc/business/018.txt    \n",
            "  inflating: bbc/business/058.txt    \n",
            "  inflating: bbc/business/007.txt    \n",
            "  inflating: bbc/business/009.txt    \n",
            "  inflating: bbc/business/015.txt    \n",
            "  inflating: bbc/business/006.txt    \n",
            "  inflating: bbc/business/016.txt    \n",
            "  inflating: bbc/business/027.txt    \n",
            "  inflating: bbc/business/017.txt    \n",
            "  inflating: bbc/business/008.txt    \n",
            "  inflating: bbc/business/023.txt    \n",
            "  inflating: bbc/business/021.txt    \n",
            "  inflating: bbc/business/028.txt    \n",
            "  inflating: bbc/business/022.txt    \n"
          ]
        }
      ]
    },
    {
      "cell_type": "markdown",
      "source": [
        "### Dataset First View"
      ],
      "metadata": {
        "id": "x71ZqKXriCWQ"
      }
    },
    {
      "cell_type": "code",
      "source": [
        "bbc_folder = '/content/bbc'"
      ],
      "metadata": {
        "id": "yw5hePf2Lbh5"
      },
      "execution_count": null,
      "outputs": []
    },
    {
      "cell_type": "code",
      "source": [
        "bbc_sub_f = ['business', 'entertainment', 'politics', 'sport', 'tech']\n",
        "\n",
        "bbc_df = pd.DataFrame\n",
        "\n",
        "for bbc_sub_f in bbc_sub_f:\n",
        "  news_folder = bbc_folder + '/' + bbc_sub_f\n",
        "  for filename in os.listdir(news_folder):\n",
        "\n",
        "    filepath = os.path.join(news_folder, filename)"
      ],
      "metadata": {
        "id": "V5s0QTCoL1Sq"
      },
      "execution_count": 8,
      "outputs": []
    },
    {
      "cell_type": "code",
      "source": [
        "    # Traversing over text files and storing the articles into the dataframe\n",
        "    try:\n",
        "      data = open(filepath,'r').read()\n",
        "\n",
        "      # escape characters to be ignored in the text\n",
        "      escape = ['\\n']\n",
        "\n",
        "      # removing escape characters from text\n",
        "      for elem in escape:\n",
        "        data = data.replace(elem, ' ')\n",
        "\n",
        "      # Storing article to the dataframe\n",
        "      dict1 = {'Filename': filename.split('.')[0], 'Contents': data.lower(), 'Category':bbc_sub_f}\n",
        "      bbc = bbc.append(dict1, ignore_index=True, verify_integrity = True)\n",
        "\n",
        "    # Ignore exception, if any\n",
        "    except:\n",
        "      pass"
      ],
      "metadata": {
        "id": "0TR0ooy6WYH_"
      },
      "execution_count": 9,
      "outputs": []
    },
    {
      "cell_type": "code",
      "source": [
        "# Dataset First Look\n"
      ],
      "metadata": {
        "id": "LWNFOSvLl09H",
        "colab": {
          "base_uri": "https://localhost:8080/",
          "height": 333
        },
        "outputId": "92f4cec4-f6bd-4abc-80be-d356393b0657"
      },
      "execution_count": null,
      "outputs": [
        {
          "output_type": "error",
          "ename": "FileNotFoundError",
          "evalue": "[Errno 2] No such file or directory: '/content/bbc/articles.csv'",
          "traceback": [
            "\u001b[0;31m---------------------------------------------------------------------------\u001b[0m",
            "\u001b[0;31mFileNotFoundError\u001b[0m                         Traceback (most recent call last)",
            "\u001b[0;32m/tmp/ipython-input-6-1773273108.py\u001b[0m in \u001b[0;36m<cell line: 0>\u001b[0;34m()\u001b[0m\n\u001b[1;32m      1\u001b[0m \u001b[0;31m# Dataset First Look\u001b[0m\u001b[0;34m\u001b[0m\u001b[0;34m\u001b[0m\u001b[0m\n\u001b[0;32m----> 2\u001b[0;31m \u001b[0marticles_df\u001b[0m\u001b[0;34m=\u001b[0m \u001b[0mpd\u001b[0m\u001b[0;34m.\u001b[0m\u001b[0mread_csv\u001b[0m\u001b[0;34m(\u001b[0m\u001b[0;34m'/content/bbc/articles.csv'\u001b[0m\u001b[0;34m)\u001b[0m\u001b[0;34m\u001b[0m\u001b[0;34m\u001b[0m\u001b[0m\n\u001b[0m",
            "\u001b[0;32m/usr/local/lib/python3.11/dist-packages/pandas/io/parsers/readers.py\u001b[0m in \u001b[0;36mread_csv\u001b[0;34m(filepath_or_buffer, sep, delimiter, header, names, index_col, usecols, dtype, engine, converters, true_values, false_values, skipinitialspace, skiprows, skipfooter, nrows, na_values, keep_default_na, na_filter, verbose, skip_blank_lines, parse_dates, infer_datetime_format, keep_date_col, date_parser, date_format, dayfirst, cache_dates, iterator, chunksize, compression, thousands, decimal, lineterminator, quotechar, quoting, doublequote, escapechar, comment, encoding, encoding_errors, dialect, on_bad_lines, delim_whitespace, low_memory, memory_map, float_precision, storage_options, dtype_backend)\u001b[0m\n\u001b[1;32m   1024\u001b[0m     \u001b[0mkwds\u001b[0m\u001b[0;34m.\u001b[0m\u001b[0mupdate\u001b[0m\u001b[0;34m(\u001b[0m\u001b[0mkwds_defaults\u001b[0m\u001b[0;34m)\u001b[0m\u001b[0;34m\u001b[0m\u001b[0;34m\u001b[0m\u001b[0m\n\u001b[1;32m   1025\u001b[0m \u001b[0;34m\u001b[0m\u001b[0m\n\u001b[0;32m-> 1026\u001b[0;31m     \u001b[0;32mreturn\u001b[0m \u001b[0m_read\u001b[0m\u001b[0;34m(\u001b[0m\u001b[0mfilepath_or_buffer\u001b[0m\u001b[0;34m,\u001b[0m \u001b[0mkwds\u001b[0m\u001b[0;34m)\u001b[0m\u001b[0;34m\u001b[0m\u001b[0;34m\u001b[0m\u001b[0m\n\u001b[0m\u001b[1;32m   1027\u001b[0m \u001b[0;34m\u001b[0m\u001b[0m\n\u001b[1;32m   1028\u001b[0m \u001b[0;34m\u001b[0m\u001b[0m\n",
            "\u001b[0;32m/usr/local/lib/python3.11/dist-packages/pandas/io/parsers/readers.py\u001b[0m in \u001b[0;36m_read\u001b[0;34m(filepath_or_buffer, kwds)\u001b[0m\n\u001b[1;32m    618\u001b[0m \u001b[0;34m\u001b[0m\u001b[0m\n\u001b[1;32m    619\u001b[0m     \u001b[0;31m# Create the parser.\u001b[0m\u001b[0;34m\u001b[0m\u001b[0;34m\u001b[0m\u001b[0m\n\u001b[0;32m--> 620\u001b[0;31m     \u001b[0mparser\u001b[0m \u001b[0;34m=\u001b[0m \u001b[0mTextFileReader\u001b[0m\u001b[0;34m(\u001b[0m\u001b[0mfilepath_or_buffer\u001b[0m\u001b[0;34m,\u001b[0m \u001b[0;34m**\u001b[0m\u001b[0mkwds\u001b[0m\u001b[0;34m)\u001b[0m\u001b[0;34m\u001b[0m\u001b[0;34m\u001b[0m\u001b[0m\n\u001b[0m\u001b[1;32m    621\u001b[0m \u001b[0;34m\u001b[0m\u001b[0m\n\u001b[1;32m    622\u001b[0m     \u001b[0;32mif\u001b[0m \u001b[0mchunksize\u001b[0m \u001b[0;32mor\u001b[0m \u001b[0miterator\u001b[0m\u001b[0;34m:\u001b[0m\u001b[0;34m\u001b[0m\u001b[0;34m\u001b[0m\u001b[0m\n",
            "\u001b[0;32m/usr/local/lib/python3.11/dist-packages/pandas/io/parsers/readers.py\u001b[0m in \u001b[0;36m__init__\u001b[0;34m(self, f, engine, **kwds)\u001b[0m\n\u001b[1;32m   1618\u001b[0m \u001b[0;34m\u001b[0m\u001b[0m\n\u001b[1;32m   1619\u001b[0m         \u001b[0mself\u001b[0m\u001b[0;34m.\u001b[0m\u001b[0mhandles\u001b[0m\u001b[0;34m:\u001b[0m \u001b[0mIOHandles\u001b[0m \u001b[0;34m|\u001b[0m \u001b[0;32mNone\u001b[0m \u001b[0;34m=\u001b[0m \u001b[0;32mNone\u001b[0m\u001b[0;34m\u001b[0m\u001b[0;34m\u001b[0m\u001b[0m\n\u001b[0;32m-> 1620\u001b[0;31m         \u001b[0mself\u001b[0m\u001b[0;34m.\u001b[0m\u001b[0m_engine\u001b[0m \u001b[0;34m=\u001b[0m \u001b[0mself\u001b[0m\u001b[0;34m.\u001b[0m\u001b[0m_make_engine\u001b[0m\u001b[0;34m(\u001b[0m\u001b[0mf\u001b[0m\u001b[0;34m,\u001b[0m \u001b[0mself\u001b[0m\u001b[0;34m.\u001b[0m\u001b[0mengine\u001b[0m\u001b[0;34m)\u001b[0m\u001b[0;34m\u001b[0m\u001b[0;34m\u001b[0m\u001b[0m\n\u001b[0m\u001b[1;32m   1621\u001b[0m \u001b[0;34m\u001b[0m\u001b[0m\n\u001b[1;32m   1622\u001b[0m     \u001b[0;32mdef\u001b[0m \u001b[0mclose\u001b[0m\u001b[0;34m(\u001b[0m\u001b[0mself\u001b[0m\u001b[0;34m)\u001b[0m \u001b[0;34m->\u001b[0m \u001b[0;32mNone\u001b[0m\u001b[0;34m:\u001b[0m\u001b[0;34m\u001b[0m\u001b[0;34m\u001b[0m\u001b[0m\n",
            "\u001b[0;32m/usr/local/lib/python3.11/dist-packages/pandas/io/parsers/readers.py\u001b[0m in \u001b[0;36m_make_engine\u001b[0;34m(self, f, engine)\u001b[0m\n\u001b[1;32m   1878\u001b[0m                 \u001b[0;32mif\u001b[0m \u001b[0;34m\"b\"\u001b[0m \u001b[0;32mnot\u001b[0m \u001b[0;32min\u001b[0m \u001b[0mmode\u001b[0m\u001b[0;34m:\u001b[0m\u001b[0;34m\u001b[0m\u001b[0;34m\u001b[0m\u001b[0m\n\u001b[1;32m   1879\u001b[0m                     \u001b[0mmode\u001b[0m \u001b[0;34m+=\u001b[0m \u001b[0;34m\"b\"\u001b[0m\u001b[0;34m\u001b[0m\u001b[0;34m\u001b[0m\u001b[0m\n\u001b[0;32m-> 1880\u001b[0;31m             self.handles = get_handle(\n\u001b[0m\u001b[1;32m   1881\u001b[0m                 \u001b[0mf\u001b[0m\u001b[0;34m,\u001b[0m\u001b[0;34m\u001b[0m\u001b[0;34m\u001b[0m\u001b[0m\n\u001b[1;32m   1882\u001b[0m                 \u001b[0mmode\u001b[0m\u001b[0;34m,\u001b[0m\u001b[0;34m\u001b[0m\u001b[0;34m\u001b[0m\u001b[0m\n",
            "\u001b[0;32m/usr/local/lib/python3.11/dist-packages/pandas/io/common.py\u001b[0m in \u001b[0;36mget_handle\u001b[0;34m(path_or_buf, mode, encoding, compression, memory_map, is_text, errors, storage_options)\u001b[0m\n\u001b[1;32m    871\u001b[0m         \u001b[0;32mif\u001b[0m \u001b[0mioargs\u001b[0m\u001b[0;34m.\u001b[0m\u001b[0mencoding\u001b[0m \u001b[0;32mand\u001b[0m \u001b[0;34m\"b\"\u001b[0m \u001b[0;32mnot\u001b[0m \u001b[0;32min\u001b[0m \u001b[0mioargs\u001b[0m\u001b[0;34m.\u001b[0m\u001b[0mmode\u001b[0m\u001b[0;34m:\u001b[0m\u001b[0;34m\u001b[0m\u001b[0;34m\u001b[0m\u001b[0m\n\u001b[1;32m    872\u001b[0m             \u001b[0;31m# Encoding\u001b[0m\u001b[0;34m\u001b[0m\u001b[0;34m\u001b[0m\u001b[0m\n\u001b[0;32m--> 873\u001b[0;31m             handle = open(\n\u001b[0m\u001b[1;32m    874\u001b[0m                 \u001b[0mhandle\u001b[0m\u001b[0;34m,\u001b[0m\u001b[0;34m\u001b[0m\u001b[0;34m\u001b[0m\u001b[0m\n\u001b[1;32m    875\u001b[0m                 \u001b[0mioargs\u001b[0m\u001b[0;34m.\u001b[0m\u001b[0mmode\u001b[0m\u001b[0;34m,\u001b[0m\u001b[0;34m\u001b[0m\u001b[0;34m\u001b[0m\u001b[0m\n",
            "\u001b[0;31mFileNotFoundError\u001b[0m: [Errno 2] No such file or directory: '/content/bbc/articles.csv'"
          ]
        }
      ]
    },
    {
      "cell_type": "markdown",
      "source": [
        "### Dataset Rows & Columns count"
      ],
      "metadata": {
        "id": "7hBIi_osiCS2"
      }
    },
    {
      "cell_type": "code",
      "source": [
        "# Dataset Rows & Columns count"
      ],
      "metadata": {
        "id": "Kllu7SJgmLij"
      },
      "execution_count": null,
      "outputs": []
    },
    {
      "cell_type": "markdown",
      "source": [
        "### Dataset Information"
      ],
      "metadata": {
        "id": "JlHwYmJAmNHm"
      }
    },
    {
      "cell_type": "code",
      "source": [
        "# Dataset Info"
      ],
      "metadata": {
        "id": "e9hRXRi6meOf"
      },
      "execution_count": null,
      "outputs": []
    },
    {
      "cell_type": "markdown",
      "source": [
        "#### Duplicate Values"
      ],
      "metadata": {
        "id": "35m5QtbWiB9F"
      }
    },
    {
      "cell_type": "code",
      "source": [
        "# Dataset Duplicate Value Count"
      ],
      "metadata": {
        "id": "1sLdpKYkmox0"
      },
      "execution_count": null,
      "outputs": []
    },
    {
      "cell_type": "markdown",
      "source": [
        "#### Missing Values/Null Values"
      ],
      "metadata": {
        "id": "PoPl-ycgm1ru"
      }
    },
    {
      "cell_type": "code",
      "source": [
        "# Missing Values/Null Values Count"
      ],
      "metadata": {
        "id": "GgHWkxvamxVg"
      },
      "execution_count": null,
      "outputs": []
    },
    {
      "cell_type": "code",
      "source": [
        "# Visualizing the missing values"
      ],
      "metadata": {
        "id": "3q5wnI3om9sJ"
      },
      "execution_count": null,
      "outputs": []
    },
    {
      "cell_type": "markdown",
      "source": [
        "### What did you know about your dataset?"
      ],
      "metadata": {
        "id": "H0kj-8xxnORC"
      }
    },
    {
      "cell_type": "markdown",
      "source": [
        "Answer Here"
      ],
      "metadata": {
        "id": "gfoNAAC-nUe_"
      }
    },
    {
      "cell_type": "markdown",
      "source": [
        "## ***2. Understanding Your Variables***"
      ],
      "metadata": {
        "id": "nA9Y7ga8ng1Z"
      }
    },
    {
      "cell_type": "code",
      "source": [
        "# Dataset Columns"
      ],
      "metadata": {
        "id": "j7xfkqrt5Ag5"
      },
      "execution_count": null,
      "outputs": []
    },
    {
      "cell_type": "code",
      "source": [
        "# Dataset Describe"
      ],
      "metadata": {
        "id": "DnOaZdaE5Q5t"
      },
      "execution_count": null,
      "outputs": []
    },
    {
      "cell_type": "markdown",
      "source": [
        "### Variables Description"
      ],
      "metadata": {
        "id": "PBTbrJXOngz2"
      }
    },
    {
      "cell_type": "markdown",
      "source": [
        "Answer Here"
      ],
      "metadata": {
        "id": "aJV4KIxSnxay"
      }
    },
    {
      "cell_type": "markdown",
      "source": [
        "### Check Unique Values for each variable."
      ],
      "metadata": {
        "id": "u3PMJOP6ngxN"
      }
    },
    {
      "cell_type": "code",
      "source": [
        "# Check Unique Values for each variable."
      ],
      "metadata": {
        "id": "zms12Yq5n-jE"
      },
      "execution_count": null,
      "outputs": []
    },
    {
      "cell_type": "markdown",
      "source": [
        "## 3. ***Data Wrangling***"
      ],
      "metadata": {
        "id": "dauF4eBmngu3"
      }
    },
    {
      "cell_type": "markdown",
      "source": [
        "### Data Wrangling Code"
      ],
      "metadata": {
        "id": "bKJF3rekwFvQ"
      }
    },
    {
      "cell_type": "code",
      "source": [
        "# Write your code to make your dataset analysis ready."
      ],
      "metadata": {
        "id": "wk-9a2fpoLcV"
      },
      "execution_count": null,
      "outputs": []
    },
    {
      "cell_type": "markdown",
      "source": [
        "### What all manipulations have you done and insights you found?"
      ],
      "metadata": {
        "id": "MSa1f5Uengrz"
      }
    },
    {
      "cell_type": "markdown",
      "source": [
        "Answer Here."
      ],
      "metadata": {
        "id": "LbyXE7I1olp8"
      }
    },
    {
      "cell_type": "markdown",
      "source": [
        "## ***4. Data Vizualization, Storytelling & Experimenting with charts : Understand the relationships between variables***"
      ],
      "metadata": {
        "id": "GF8Ens_Soomf"
      }
    },
    {
      "cell_type": "markdown",
      "source": [
        "#### Chart - 1"
      ],
      "metadata": {
        "id": "0wOQAZs5pc--"
      }
    },
    {
      "cell_type": "code",
      "source": [
        "# Chart - 1 visualization code"
      ],
      "metadata": {
        "id": "7v_ESjsspbW7"
      },
      "execution_count": null,
      "outputs": []
    },
    {
      "cell_type": "markdown",
      "source": [
        "##### 1. Why did you pick the specific chart?"
      ],
      "metadata": {
        "id": "K5QZ13OEpz2H"
      }
    },
    {
      "cell_type": "markdown",
      "source": [
        "Answer Here."
      ],
      "metadata": {
        "id": "XESiWehPqBRc"
      }
    },
    {
      "cell_type": "markdown",
      "source": [
        "##### 2. What is/are the insight(s) found from the chart?"
      ],
      "metadata": {
        "id": "lQ7QKXXCp7Bj"
      }
    },
    {
      "cell_type": "markdown",
      "source": [
        "Answer Here"
      ],
      "metadata": {
        "id": "C_j1G7yiqdRP"
      }
    },
    {
      "cell_type": "markdown",
      "source": [
        "##### 3. Will the gained insights help creating a positive business impact?\n",
        "Are there any insights that lead to negative growth? Justify with specific reason."
      ],
      "metadata": {
        "id": "448CDAPjqfQr"
      }
    },
    {
      "cell_type": "markdown",
      "source": [
        "Answer Here"
      ],
      "metadata": {
        "id": "3cspy4FjqxJW"
      }
    },
    {
      "cell_type": "markdown",
      "source": [
        "#### Chart - 2"
      ],
      "metadata": {
        "id": "KSlN3yHqYklG"
      }
    },
    {
      "cell_type": "code",
      "source": [
        "# Chart - 2 visualization code"
      ],
      "metadata": {
        "id": "R4YgtaqtYklH"
      },
      "execution_count": null,
      "outputs": []
    },
    {
      "cell_type": "markdown",
      "source": [
        "##### 1. Why did you pick the specific chart?"
      ],
      "metadata": {
        "id": "t6dVpIINYklI"
      }
    },
    {
      "cell_type": "markdown",
      "source": [
        "Answer Here."
      ],
      "metadata": {
        "id": "5aaW0BYyYklI"
      }
    },
    {
      "cell_type": "markdown",
      "source": [
        "##### 2. What is/are the insight(s) found from the chart?"
      ],
      "metadata": {
        "id": "ijmpgYnKYklI"
      }
    },
    {
      "cell_type": "markdown",
      "source": [
        "Answer Here"
      ],
      "metadata": {
        "id": "PSx9atu2YklI"
      }
    },
    {
      "cell_type": "markdown",
      "source": [
        "##### 3. Will the gained insights help creating a positive business impact?\n",
        "Are there any insights that lead to negative growth? Justify with specific reason."
      ],
      "metadata": {
        "id": "-JiQyfWJYklI"
      }
    },
    {
      "cell_type": "markdown",
      "source": [
        "Answer Here"
      ],
      "metadata": {
        "id": "BcBbebzrYklV"
      }
    },
    {
      "cell_type": "markdown",
      "source": [
        "#### Chart - 3"
      ],
      "metadata": {
        "id": "EM7whBJCYoAo"
      }
    },
    {
      "cell_type": "code",
      "source": [
        "# Chart - 3 visualization code"
      ],
      "metadata": {
        "id": "t6GMdE67YoAp"
      },
      "execution_count": null,
      "outputs": []
    },
    {
      "cell_type": "markdown",
      "source": [
        "##### 1. Why did you pick the specific chart?"
      ],
      "metadata": {
        "id": "fge-S5ZAYoAp"
      }
    },
    {
      "cell_type": "markdown",
      "source": [
        "Answer Here."
      ],
      "metadata": {
        "id": "5dBItgRVYoAp"
      }
    },
    {
      "cell_type": "markdown",
      "source": [
        "##### 2. What is/are the insight(s) found from the chart?"
      ],
      "metadata": {
        "id": "85gYPyotYoAp"
      }
    },
    {
      "cell_type": "markdown",
      "source": [
        "Answer Here"
      ],
      "metadata": {
        "id": "4jstXR6OYoAp"
      }
    },
    {
      "cell_type": "markdown",
      "source": [
        "##### 3. Will the gained insights help creating a positive business impact?\n",
        "Are there any insights that lead to negative growth? Justify with specific reason."
      ],
      "metadata": {
        "id": "RoGjAbkUYoAp"
      }
    },
    {
      "cell_type": "markdown",
      "source": [
        "Answer Here"
      ],
      "metadata": {
        "id": "zfJ8IqMcYoAp"
      }
    },
    {
      "cell_type": "markdown",
      "source": [
        "#### Chart - 4"
      ],
      "metadata": {
        "id": "4Of9eVA-YrdM"
      }
    },
    {
      "cell_type": "code",
      "source": [
        "# Chart - 4 visualization code"
      ],
      "metadata": {
        "id": "irlUoxc8YrdO"
      },
      "execution_count": null,
      "outputs": []
    },
    {
      "cell_type": "markdown",
      "source": [
        "##### 1. Why did you pick the specific chart?"
      ],
      "metadata": {
        "id": "iky9q4vBYrdO"
      }
    },
    {
      "cell_type": "markdown",
      "source": [
        "Answer Here."
      ],
      "metadata": {
        "id": "aJRCwT6DYrdO"
      }
    },
    {
      "cell_type": "markdown",
      "source": [
        "##### 2. What is/are the insight(s) found from the chart?"
      ],
      "metadata": {
        "id": "F6T5p64dYrdO"
      }
    },
    {
      "cell_type": "markdown",
      "source": [
        "Answer Here"
      ],
      "metadata": {
        "id": "Xx8WAJvtYrdO"
      }
    },
    {
      "cell_type": "markdown",
      "source": [
        "##### 3. Will the gained insights help creating a positive business impact?\n",
        "Are there any insights that lead to negative growth? Justify with specific reason."
      ],
      "metadata": {
        "id": "y-Ehk30pYrdP"
      }
    },
    {
      "cell_type": "markdown",
      "source": [
        "Answer Here"
      ],
      "metadata": {
        "id": "jLNxxz7MYrdP"
      }
    },
    {
      "cell_type": "markdown",
      "source": [
        "#### Chart - 5"
      ],
      "metadata": {
        "id": "bamQiAODYuh1"
      }
    },
    {
      "cell_type": "code",
      "source": [
        "# Chart - 5 visualization code"
      ],
      "metadata": {
        "id": "TIJwrbroYuh3"
      },
      "execution_count": null,
      "outputs": []
    },
    {
      "cell_type": "markdown",
      "source": [
        "##### 1. Why did you pick the specific chart?"
      ],
      "metadata": {
        "id": "QHF8YVU7Yuh3"
      }
    },
    {
      "cell_type": "markdown",
      "source": [
        "Answer Here."
      ],
      "metadata": {
        "id": "dcxuIMRPYuh3"
      }
    },
    {
      "cell_type": "markdown",
      "source": [
        "##### 2. What is/are the insight(s) found from the chart?"
      ],
      "metadata": {
        "id": "GwzvFGzlYuh3"
      }
    },
    {
      "cell_type": "markdown",
      "source": [
        "Answer Here"
      ],
      "metadata": {
        "id": "uyqkiB8YYuh3"
      }
    },
    {
      "cell_type": "markdown",
      "source": [
        "##### 3. Will the gained insights help creating a positive business impact?\n",
        "Are there any insights that lead to negative growth? Justify with specific reason."
      ],
      "metadata": {
        "id": "qYpmQ266Yuh3"
      }
    },
    {
      "cell_type": "markdown",
      "source": [
        "Answer Here"
      ],
      "metadata": {
        "id": "_WtzZ_hCYuh4"
      }
    },
    {
      "cell_type": "markdown",
      "source": [
        "#### Chart - 6"
      ],
      "metadata": {
        "id": "OH-pJp9IphqM"
      }
    },
    {
      "cell_type": "code",
      "source": [
        "# Chart - 6 visualization code"
      ],
      "metadata": {
        "id": "kuRf4wtuphqN"
      },
      "execution_count": null,
      "outputs": []
    },
    {
      "cell_type": "markdown",
      "source": [
        "##### 1. Why did you pick the specific chart?"
      ],
      "metadata": {
        "id": "bbFf2-_FphqN"
      }
    },
    {
      "cell_type": "markdown",
      "source": [
        "Answer Here."
      ],
      "metadata": {
        "id": "loh7H2nzphqN"
      }
    },
    {
      "cell_type": "markdown",
      "source": [
        "##### 2. What is/are the insight(s) found from the chart?"
      ],
      "metadata": {
        "id": "_ouA3fa0phqN"
      }
    },
    {
      "cell_type": "markdown",
      "source": [
        "Answer Here"
      ],
      "metadata": {
        "id": "VECbqPI7phqN"
      }
    },
    {
      "cell_type": "markdown",
      "source": [
        "##### 3. Will the gained insights help creating a positive business impact?\n",
        "Are there any insights that lead to negative growth? Justify with specific reason."
      ],
      "metadata": {
        "id": "Seke61FWphqN"
      }
    },
    {
      "cell_type": "markdown",
      "source": [
        "Answer Here"
      ],
      "metadata": {
        "id": "DW4_bGpfphqN"
      }
    },
    {
      "cell_type": "markdown",
      "source": [
        "#### Chart - 7"
      ],
      "metadata": {
        "id": "PIIx-8_IphqN"
      }
    },
    {
      "cell_type": "code",
      "source": [
        "# Chart - 7 visualization code"
      ],
      "metadata": {
        "id": "lqAIGUfyphqO"
      },
      "execution_count": null,
      "outputs": []
    },
    {
      "cell_type": "markdown",
      "source": [
        "##### 1. Why did you pick the specific chart?"
      ],
      "metadata": {
        "id": "t27r6nlMphqO"
      }
    },
    {
      "cell_type": "markdown",
      "source": [
        "Answer Here."
      ],
      "metadata": {
        "id": "iv6ro40sphqO"
      }
    },
    {
      "cell_type": "markdown",
      "source": [
        "##### 2. What is/are the insight(s) found from the chart?"
      ],
      "metadata": {
        "id": "r2jJGEOYphqO"
      }
    },
    {
      "cell_type": "markdown",
      "source": [
        "Answer Here"
      ],
      "metadata": {
        "id": "Po6ZPi4hphqO"
      }
    },
    {
      "cell_type": "markdown",
      "source": [
        "##### 3. Will the gained insights help creating a positive business impact?\n",
        "Are there any insights that lead to negative growth? Justify with specific reason."
      ],
      "metadata": {
        "id": "b0JNsNcRphqO"
      }
    },
    {
      "cell_type": "markdown",
      "source": [
        "Answer Here"
      ],
      "metadata": {
        "id": "xvSq8iUTphqO"
      }
    },
    {
      "cell_type": "markdown",
      "source": [
        "#### Chart - 8"
      ],
      "metadata": {
        "id": "BZR9WyysphqO"
      }
    },
    {
      "cell_type": "code",
      "source": [
        "# Chart - 8 visualization code"
      ],
      "metadata": {
        "id": "TdPTWpAVphqO"
      },
      "execution_count": null,
      "outputs": []
    },
    {
      "cell_type": "markdown",
      "source": [
        "##### 1. Why did you pick the specific chart?"
      ],
      "metadata": {
        "id": "jj7wYXLtphqO"
      }
    },
    {
      "cell_type": "markdown",
      "source": [
        "Answer Here."
      ],
      "metadata": {
        "id": "Ob8u6rCTphqO"
      }
    },
    {
      "cell_type": "markdown",
      "source": [
        "##### 2. What is/are the insight(s) found from the chart?"
      ],
      "metadata": {
        "id": "eZrbJ2SmphqO"
      }
    },
    {
      "cell_type": "markdown",
      "source": [
        "Answer Here"
      ],
      "metadata": {
        "id": "mZtgC_hjphqO"
      }
    },
    {
      "cell_type": "markdown",
      "source": [
        "##### 3. Will the gained insights help creating a positive business impact?\n",
        "Are there any insights that lead to negative growth? Justify with specific reason."
      ],
      "metadata": {
        "id": "rFu4xreNphqO"
      }
    },
    {
      "cell_type": "markdown",
      "source": [
        "Answer Here"
      ],
      "metadata": {
        "id": "ey_0qi68phqO"
      }
    },
    {
      "cell_type": "markdown",
      "source": [
        "#### Chart - 9"
      ],
      "metadata": {
        "id": "YJ55k-q6phqO"
      }
    },
    {
      "cell_type": "code",
      "source": [
        "# Chart - 9 visualization code"
      ],
      "metadata": {
        "id": "B2aS4O1ophqO"
      },
      "execution_count": null,
      "outputs": []
    },
    {
      "cell_type": "markdown",
      "source": [
        "##### 1. Why did you pick the specific chart?"
      ],
      "metadata": {
        "id": "gCFgpxoyphqP"
      }
    },
    {
      "cell_type": "markdown",
      "source": [
        "Answer Here."
      ],
      "metadata": {
        "id": "TVxDimi2phqP"
      }
    },
    {
      "cell_type": "markdown",
      "source": [
        "##### 2. What is/are the insight(s) found from the chart?"
      ],
      "metadata": {
        "id": "OVtJsKN_phqQ"
      }
    },
    {
      "cell_type": "markdown",
      "source": [
        "Answer Here"
      ],
      "metadata": {
        "id": "ngGi97qjphqQ"
      }
    },
    {
      "cell_type": "markdown",
      "source": [
        "##### 3. Will the gained insights help creating a positive business impact?\n",
        "Are there any insights that lead to negative growth? Justify with specific reason."
      ],
      "metadata": {
        "id": "lssrdh5qphqQ"
      }
    },
    {
      "cell_type": "markdown",
      "source": [
        "Answer Here"
      ],
      "metadata": {
        "id": "tBpY5ekJphqQ"
      }
    },
    {
      "cell_type": "markdown",
      "source": [
        "#### Chart - 10"
      ],
      "metadata": {
        "id": "U2RJ9gkRphqQ"
      }
    },
    {
      "cell_type": "code",
      "source": [
        "# Chart - 10 visualization code"
      ],
      "metadata": {
        "id": "GM7a4YP4phqQ"
      },
      "execution_count": null,
      "outputs": []
    },
    {
      "cell_type": "markdown",
      "source": [
        "##### 1. Why did you pick the specific chart?"
      ],
      "metadata": {
        "id": "1M8mcRywphqQ"
      }
    },
    {
      "cell_type": "markdown",
      "source": [
        "Answer Here."
      ],
      "metadata": {
        "id": "8agQvks0phqQ"
      }
    },
    {
      "cell_type": "markdown",
      "source": [
        "##### 2. What is/are the insight(s) found from the chart?"
      ],
      "metadata": {
        "id": "tgIPom80phqQ"
      }
    },
    {
      "cell_type": "markdown",
      "source": [
        "Answer Here"
      ],
      "metadata": {
        "id": "Qp13pnNzphqQ"
      }
    },
    {
      "cell_type": "markdown",
      "source": [
        "##### 3. Will the gained insights help creating a positive business impact?\n",
        "Are there any insights that lead to negative growth? Justify with specific reason."
      ],
      "metadata": {
        "id": "JMzcOPDDphqR"
      }
    },
    {
      "cell_type": "markdown",
      "source": [
        "Answer Here"
      ],
      "metadata": {
        "id": "R4Ka1PC2phqR"
      }
    },
    {
      "cell_type": "markdown",
      "source": [
        "#### Chart - 11"
      ],
      "metadata": {
        "id": "x-EpHcCOp1ci"
      }
    },
    {
      "cell_type": "code",
      "source": [
        "# Chart - 11 visualization code"
      ],
      "metadata": {
        "id": "mAQTIvtqp1cj"
      },
      "execution_count": null,
      "outputs": []
    },
    {
      "cell_type": "markdown",
      "source": [
        "##### 1. Why did you pick the specific chart?"
      ],
      "metadata": {
        "id": "X_VqEhTip1ck"
      }
    },
    {
      "cell_type": "markdown",
      "source": [
        "Answer Here."
      ],
      "metadata": {
        "id": "-vsMzt_np1ck"
      }
    },
    {
      "cell_type": "markdown",
      "source": [
        "##### 2. What is/are the insight(s) found from the chart?"
      ],
      "metadata": {
        "id": "8zGJKyg5p1ck"
      }
    },
    {
      "cell_type": "markdown",
      "source": [
        "Answer Here"
      ],
      "metadata": {
        "id": "ZYdMsrqVp1ck"
      }
    },
    {
      "cell_type": "markdown",
      "source": [
        "##### 3. Will the gained insights help creating a positive business impact?\n",
        "Are there any insights that lead to negative growth? Justify with specific reason."
      ],
      "metadata": {
        "id": "PVzmfK_Ep1ck"
      }
    },
    {
      "cell_type": "markdown",
      "source": [
        "Answer Here"
      ],
      "metadata": {
        "id": "druuKYZpp1ck"
      }
    },
    {
      "cell_type": "markdown",
      "source": [
        "#### Chart - 12"
      ],
      "metadata": {
        "id": "n3dbpmDWp1ck"
      }
    },
    {
      "cell_type": "code",
      "source": [
        "# Chart - 12 visualization code"
      ],
      "metadata": {
        "id": "bwevp1tKp1ck"
      },
      "execution_count": null,
      "outputs": []
    },
    {
      "cell_type": "markdown",
      "source": [
        "##### 1. Why did you pick the specific chart?"
      ],
      "metadata": {
        "id": "ylSl6qgtp1ck"
      }
    },
    {
      "cell_type": "markdown",
      "source": [
        "Answer Here."
      ],
      "metadata": {
        "id": "m2xqNkiQp1ck"
      }
    },
    {
      "cell_type": "markdown",
      "source": [
        "##### 2. What is/are the insight(s) found from the chart?"
      ],
      "metadata": {
        "id": "ZWILFDl5p1ck"
      }
    },
    {
      "cell_type": "markdown",
      "source": [
        "Answer Here"
      ],
      "metadata": {
        "id": "x-lUsV2mp1ck"
      }
    },
    {
      "cell_type": "markdown",
      "source": [
        "##### 3. Will the gained insights help creating a positive business impact?\n",
        "Are there any insights that lead to negative growth? Justify with specific reason."
      ],
      "metadata": {
        "id": "M7G43BXep1ck"
      }
    },
    {
      "cell_type": "markdown",
      "source": [
        "Answer Here"
      ],
      "metadata": {
        "id": "5wwDJXsLp1cl"
      }
    },
    {
      "cell_type": "markdown",
      "source": [
        "#### Chart - 13"
      ],
      "metadata": {
        "id": "Ag9LCva-p1cl"
      }
    },
    {
      "cell_type": "code",
      "source": [
        "# Chart - 13 visualization code"
      ],
      "metadata": {
        "id": "EUfxeq9-p1cl"
      },
      "execution_count": null,
      "outputs": []
    },
    {
      "cell_type": "markdown",
      "source": [
        "##### 1. Why did you pick the specific chart?"
      ],
      "metadata": {
        "id": "E6MkPsBcp1cl"
      }
    },
    {
      "cell_type": "markdown",
      "source": [
        "Answer Here."
      ],
      "metadata": {
        "id": "V22bRsFWp1cl"
      }
    },
    {
      "cell_type": "markdown",
      "source": [
        "##### 2. What is/are the insight(s) found from the chart?"
      ],
      "metadata": {
        "id": "2cELzS2fp1cl"
      }
    },
    {
      "cell_type": "markdown",
      "source": [
        "Answer Here"
      ],
      "metadata": {
        "id": "ozQPc2_Ip1cl"
      }
    },
    {
      "cell_type": "markdown",
      "source": [
        "##### 3. Will the gained insights help creating a positive business impact?\n",
        "Are there any insights that lead to negative growth? Justify with specific reason."
      ],
      "metadata": {
        "id": "3MPXvC8up1cl"
      }
    },
    {
      "cell_type": "markdown",
      "source": [
        "Answer Here"
      ],
      "metadata": {
        "id": "GL8l1tdLp1cl"
      }
    },
    {
      "cell_type": "markdown",
      "source": [
        "#### Chart - 14 - Correlation Heatmap"
      ],
      "metadata": {
        "id": "NC_X3p0fY2L0"
      }
    },
    {
      "cell_type": "code",
      "source": [
        "# Correlation Heatmap visualization code"
      ],
      "metadata": {
        "id": "xyC9zolEZNRQ"
      },
      "execution_count": null,
      "outputs": []
    },
    {
      "cell_type": "markdown",
      "source": [
        "##### 1. Why did you pick the specific chart?"
      ],
      "metadata": {
        "id": "UV0SzAkaZNRQ"
      }
    },
    {
      "cell_type": "markdown",
      "source": [
        "Answer Here."
      ],
      "metadata": {
        "id": "DVPuT8LYZNRQ"
      }
    },
    {
      "cell_type": "markdown",
      "source": [
        "##### 2. What is/are the insight(s) found from the chart?"
      ],
      "metadata": {
        "id": "YPEH6qLeZNRQ"
      }
    },
    {
      "cell_type": "markdown",
      "source": [
        "Answer Here"
      ],
      "metadata": {
        "id": "bfSqtnDqZNRR"
      }
    },
    {
      "cell_type": "markdown",
      "source": [
        "#### Chart - 15 - Pair Plot"
      ],
      "metadata": {
        "id": "q29F0dvdveiT"
      }
    },
    {
      "cell_type": "code",
      "source": [
        "# Pair Plot visualization code"
      ],
      "metadata": {
        "id": "o58-TEIhveiU"
      },
      "execution_count": null,
      "outputs": []
    },
    {
      "cell_type": "markdown",
      "source": [
        "##### 1. Why did you pick the specific chart?"
      ],
      "metadata": {
        "id": "EXh0U9oCveiU"
      }
    },
    {
      "cell_type": "markdown",
      "source": [
        "Answer Here."
      ],
      "metadata": {
        "id": "eMmPjTByveiU"
      }
    },
    {
      "cell_type": "markdown",
      "source": [
        "##### 2. What is/are the insight(s) found from the chart?"
      ],
      "metadata": {
        "id": "22aHeOlLveiV"
      }
    },
    {
      "cell_type": "markdown",
      "source": [
        "Answer Here"
      ],
      "metadata": {
        "id": "uPQ8RGwHveiV"
      }
    },
    {
      "cell_type": "markdown",
      "source": [
        "## ***5. Hypothesis Testing***"
      ],
      "metadata": {
        "id": "g-ATYxFrGrvw"
      }
    },
    {
      "cell_type": "markdown",
      "source": [
        "### Based on your chart experiments, define three hypothetical statements from the dataset. In the next three questions, perform hypothesis testing to obtain final conclusion about the statements through your code and statistical testing."
      ],
      "metadata": {
        "id": "Yfr_Vlr8HBkt"
      }
    },
    {
      "cell_type": "markdown",
      "source": [
        "Answer Here."
      ],
      "metadata": {
        "id": "-7MS06SUHkB-"
      }
    },
    {
      "cell_type": "markdown",
      "source": [
        "### Hypothetical Statement - 1"
      ],
      "metadata": {
        "id": "8yEUt7NnHlrM"
      }
    },
    {
      "cell_type": "markdown",
      "source": [
        "#### 1. State Your research hypothesis as a null hypothesis and alternate hypothesis."
      ],
      "metadata": {
        "id": "tEA2Xm5dHt1r"
      }
    },
    {
      "cell_type": "markdown",
      "source": [
        "Answer Here."
      ],
      "metadata": {
        "id": "HI9ZP0laH0D-"
      }
    },
    {
      "cell_type": "markdown",
      "source": [
        "#### 2. Perform an appropriate statistical test."
      ],
      "metadata": {
        "id": "I79__PHVH19G"
      }
    },
    {
      "cell_type": "code",
      "source": [
        "# Perform Statistical Test to obtain P-Value"
      ],
      "metadata": {
        "id": "oZrfquKtyian"
      },
      "execution_count": null,
      "outputs": []
    },
    {
      "cell_type": "markdown",
      "source": [
        "##### Which statistical test have you done to obtain P-Value?"
      ],
      "metadata": {
        "id": "Ou-I18pAyIpj"
      }
    },
    {
      "cell_type": "markdown",
      "source": [
        "Answer Here."
      ],
      "metadata": {
        "id": "s2U0kk00ygSB"
      }
    },
    {
      "cell_type": "markdown",
      "source": [
        "##### Why did you choose the specific statistical test?"
      ],
      "metadata": {
        "id": "fF3858GYyt-u"
      }
    },
    {
      "cell_type": "markdown",
      "source": [
        "Answer Here."
      ],
      "metadata": {
        "id": "HO4K0gP5y3B4"
      }
    },
    {
      "cell_type": "markdown",
      "source": [
        "### Hypothetical Statement - 2"
      ],
      "metadata": {
        "id": "4_0_7-oCpUZd"
      }
    },
    {
      "cell_type": "markdown",
      "source": [
        "#### 1. State Your research hypothesis as a null hypothesis and alternate hypothesis."
      ],
      "metadata": {
        "id": "hwyV_J3ipUZe"
      }
    },
    {
      "cell_type": "markdown",
      "source": [
        "Answer Here."
      ],
      "metadata": {
        "id": "FnpLGJ-4pUZe"
      }
    },
    {
      "cell_type": "markdown",
      "source": [
        "#### 2. Perform an appropriate statistical test."
      ],
      "metadata": {
        "id": "3yB-zSqbpUZe"
      }
    },
    {
      "cell_type": "code",
      "source": [
        "# Perform Statistical Test to obtain P-Value"
      ],
      "metadata": {
        "id": "sWxdNTXNpUZe"
      },
      "execution_count": null,
      "outputs": []
    },
    {
      "cell_type": "markdown",
      "source": [
        "##### Which statistical test have you done to obtain P-Value?"
      ],
      "metadata": {
        "id": "dEUvejAfpUZe"
      }
    },
    {
      "cell_type": "markdown",
      "source": [
        "Answer Here."
      ],
      "metadata": {
        "id": "oLDrPz7HpUZf"
      }
    },
    {
      "cell_type": "markdown",
      "source": [
        "##### Why did you choose the specific statistical test?"
      ],
      "metadata": {
        "id": "Fd15vwWVpUZf"
      }
    },
    {
      "cell_type": "markdown",
      "source": [
        "Answer Here."
      ],
      "metadata": {
        "id": "4xOGYyiBpUZf"
      }
    },
    {
      "cell_type": "markdown",
      "source": [
        "### Hypothetical Statement - 3"
      ],
      "metadata": {
        "id": "bn_IUdTipZyH"
      }
    },
    {
      "cell_type": "markdown",
      "source": [
        "#### 1. State Your research hypothesis as a null hypothesis and alternate hypothesis."
      ],
      "metadata": {
        "id": "49K5P_iCpZyH"
      }
    },
    {
      "cell_type": "markdown",
      "source": [
        "Answer Here."
      ],
      "metadata": {
        "id": "7gWI5rT9pZyH"
      }
    },
    {
      "cell_type": "markdown",
      "source": [
        "#### 2. Perform an appropriate statistical test."
      ],
      "metadata": {
        "id": "Nff-vKELpZyI"
      }
    },
    {
      "cell_type": "code",
      "source": [
        "# Perform Statistical Test to obtain P-Value"
      ],
      "metadata": {
        "id": "s6AnJQjtpZyI"
      },
      "execution_count": null,
      "outputs": []
    },
    {
      "cell_type": "markdown",
      "source": [
        "##### Which statistical test have you done to obtain P-Value?"
      ],
      "metadata": {
        "id": "kLW572S8pZyI"
      }
    },
    {
      "cell_type": "markdown",
      "source": [
        "Answer Here."
      ],
      "metadata": {
        "id": "ytWJ8v15pZyI"
      }
    },
    {
      "cell_type": "markdown",
      "source": [
        "##### Why did you choose the specific statistical test?"
      ],
      "metadata": {
        "id": "dWbDXHzopZyI"
      }
    },
    {
      "cell_type": "markdown",
      "source": [
        "Answer Here."
      ],
      "metadata": {
        "id": "M99G98V6pZyI"
      }
    },
    {
      "cell_type": "markdown",
      "source": [
        "## ***6. Feature Engineering & Data Pre-processing***"
      ],
      "metadata": {
        "id": "yLjJCtPM0KBk"
      }
    },
    {
      "cell_type": "markdown",
      "source": [
        "### 1. Handling Missing Values"
      ],
      "metadata": {
        "id": "xiyOF9F70UgQ"
      }
    },
    {
      "cell_type": "code",
      "source": [
        "# Handling Missing Values & Missing Value Imputation"
      ],
      "metadata": {
        "id": "iRsAHk1K0fpS"
      },
      "execution_count": null,
      "outputs": []
    },
    {
      "cell_type": "markdown",
      "source": [
        "#### What all missing value imputation techniques have you used and why did you use those techniques?"
      ],
      "metadata": {
        "id": "7wuGOrhz0itI"
      }
    },
    {
      "cell_type": "markdown",
      "source": [
        "Answer Here."
      ],
      "metadata": {
        "id": "1ixusLtI0pqI"
      }
    },
    {
      "cell_type": "markdown",
      "source": [
        "### 2. Handling Outliers"
      ],
      "metadata": {
        "id": "id1riN9m0vUs"
      }
    },
    {
      "cell_type": "code",
      "source": [
        "# Handling Outliers & Outlier treatments"
      ],
      "metadata": {
        "id": "M6w2CzZf04JK"
      },
      "execution_count": null,
      "outputs": []
    },
    {
      "cell_type": "markdown",
      "source": [
        "##### What all outlier treatment techniques have you used and why did you use those techniques?"
      ],
      "metadata": {
        "id": "578E2V7j08f6"
      }
    },
    {
      "cell_type": "markdown",
      "source": [
        "Answer Here."
      ],
      "metadata": {
        "id": "uGZz5OrT1HH-"
      }
    },
    {
      "cell_type": "markdown",
      "source": [
        "### 3. Categorical Encoding"
      ],
      "metadata": {
        "id": "89xtkJwZ18nB"
      }
    },
    {
      "cell_type": "code",
      "source": [
        "# Encode your categorical columns"
      ],
      "metadata": {
        "id": "21JmIYMG2hEo"
      },
      "execution_count": null,
      "outputs": []
    },
    {
      "cell_type": "markdown",
      "source": [
        "#### What all categorical encoding techniques have you used & why did you use those techniques?"
      ],
      "metadata": {
        "id": "67NQN5KX2AMe"
      }
    },
    {
      "cell_type": "markdown",
      "source": [
        "Answer Here."
      ],
      "metadata": {
        "id": "UDaue5h32n_G"
      }
    },
    {
      "cell_type": "markdown",
      "source": [
        "### 4. Textual Data Preprocessing\n",
        "(It's mandatory for textual dataset i.e., NLP, Sentiment Analysis, Text Clustering etc.)"
      ],
      "metadata": {
        "id": "Iwf50b-R2tYG"
      }
    },
    {
      "cell_type": "markdown",
      "source": [
        "#### 1. Expand Contraction"
      ],
      "metadata": {
        "id": "GMQiZwjn3iu7"
      }
    },
    {
      "cell_type": "code",
      "source": [
        "# Expand Contraction"
      ],
      "metadata": {
        "id": "PTouz10C3oNN"
      },
      "execution_count": null,
      "outputs": []
    },
    {
      "cell_type": "markdown",
      "source": [
        "#### 2. Lower Casing"
      ],
      "metadata": {
        "id": "WVIkgGqN3qsr"
      }
    },
    {
      "cell_type": "code",
      "source": [
        "# Lower Casing"
      ],
      "metadata": {
        "id": "88JnJ1jN3w7j"
      },
      "execution_count": null,
      "outputs": []
    },
    {
      "cell_type": "markdown",
      "source": [
        "#### 3. Removing Punctuations"
      ],
      "metadata": {
        "id": "XkPnILGE3zoT"
      }
    },
    {
      "cell_type": "code",
      "source": [
        "# Remove Punctuations"
      ],
      "metadata": {
        "id": "vqbBqNaA33c0"
      },
      "execution_count": null,
      "outputs": []
    },
    {
      "cell_type": "markdown",
      "source": [
        "#### 4. Removing URLs & Removing words and digits contain digits."
      ],
      "metadata": {
        "id": "Hlsf0x5436Go"
      }
    },
    {
      "cell_type": "code",
      "source": [
        "# Remove URLs & Remove words and digits contain digits"
      ],
      "metadata": {
        "id": "2sxKgKxu4Ip3"
      },
      "execution_count": null,
      "outputs": []
    },
    {
      "cell_type": "markdown",
      "source": [
        "#### 5. Removing Stopwords & Removing White spaces"
      ],
      "metadata": {
        "id": "mT9DMSJo4nBL"
      }
    },
    {
      "cell_type": "code",
      "source": [
        "# Remove Stopwords"
      ],
      "metadata": {
        "id": "T2LSJh154s8W"
      },
      "execution_count": null,
      "outputs": []
    },
    {
      "cell_type": "code",
      "source": [
        "# Remove White spaces"
      ],
      "metadata": {
        "id": "EgLJGffy4vm0"
      },
      "execution_count": null,
      "outputs": []
    },
    {
      "cell_type": "markdown",
      "source": [
        "#### 6. Rephrase Text"
      ],
      "metadata": {
        "id": "c49ITxTc407N"
      }
    },
    {
      "cell_type": "code",
      "source": [
        "# Rephrase Text"
      ],
      "metadata": {
        "id": "foqY80Qu48N2"
      },
      "execution_count": null,
      "outputs": []
    },
    {
      "cell_type": "markdown",
      "source": [
        "#### 7. Tokenization"
      ],
      "metadata": {
        "id": "OeJFEK0N496M"
      }
    },
    {
      "cell_type": "code",
      "source": [
        "# Tokenization"
      ],
      "metadata": {
        "id": "ijx1rUOS5CUU"
      },
      "execution_count": null,
      "outputs": []
    },
    {
      "cell_type": "markdown",
      "source": [
        "#### 8. Text Normalization"
      ],
      "metadata": {
        "id": "9ExmJH0g5HBk"
      }
    },
    {
      "cell_type": "code",
      "source": [
        "# Normalizing Text (i.e., Stemming, Lemmatization etc.)"
      ],
      "metadata": {
        "id": "AIJ1a-Zc5PY8"
      },
      "execution_count": null,
      "outputs": []
    },
    {
      "cell_type": "markdown",
      "source": [
        "##### Which text normalization technique have you used and why?"
      ],
      "metadata": {
        "id": "cJNqERVU536h"
      }
    },
    {
      "cell_type": "markdown",
      "source": [
        "Answer Here."
      ],
      "metadata": {
        "id": "Z9jKVxE06BC1"
      }
    },
    {
      "cell_type": "markdown",
      "source": [
        "#### 9. Part of speech tagging"
      ],
      "metadata": {
        "id": "k5UmGsbsOxih"
      }
    },
    {
      "cell_type": "code",
      "source": [
        "# POS Taging"
      ],
      "metadata": {
        "id": "btT3ZJBAO6Ik"
      },
      "execution_count": null,
      "outputs": []
    },
    {
      "cell_type": "markdown",
      "source": [
        "#### 10. Text Vectorization"
      ],
      "metadata": {
        "id": "T0VqWOYE6DLQ"
      }
    },
    {
      "cell_type": "code",
      "source": [
        "# Vectorizing Text"
      ],
      "metadata": {
        "id": "yBRtdhth6JDE"
      },
      "execution_count": null,
      "outputs": []
    },
    {
      "cell_type": "markdown",
      "source": [
        "##### Which text vectorization technique have you used and why?"
      ],
      "metadata": {
        "id": "qBMux9mC6MCf"
      }
    },
    {
      "cell_type": "markdown",
      "source": [
        "Answer Here."
      ],
      "metadata": {
        "id": "su2EnbCh6UKQ"
      }
    },
    {
      "cell_type": "markdown",
      "source": [
        "### 4. Feature Manipulation & Selection"
      ],
      "metadata": {
        "id": "-oLEiFgy-5Pf"
      }
    },
    {
      "cell_type": "markdown",
      "source": [
        "#### 1. Feature Manipulation"
      ],
      "metadata": {
        "id": "C74aWNz2AliB"
      }
    },
    {
      "cell_type": "code",
      "source": [
        "# Manipulate Features to minimize feature correlation and create new features"
      ],
      "metadata": {
        "id": "h1qC4yhBApWC"
      },
      "execution_count": null,
      "outputs": []
    },
    {
      "cell_type": "markdown",
      "source": [
        "#### 2. Feature Selection"
      ],
      "metadata": {
        "id": "2DejudWSA-a0"
      }
    },
    {
      "cell_type": "code",
      "source": [
        "# Select your features wisely to avoid overfitting"
      ],
      "metadata": {
        "id": "YLhe8UmaBCEE"
      },
      "execution_count": null,
      "outputs": []
    },
    {
      "cell_type": "markdown",
      "source": [
        "##### What all feature selection methods have you used  and why?"
      ],
      "metadata": {
        "id": "pEMng2IbBLp7"
      }
    },
    {
      "cell_type": "markdown",
      "source": [
        "Answer Here."
      ],
      "metadata": {
        "id": "rb2Lh6Z8BgGs"
      }
    },
    {
      "cell_type": "markdown",
      "source": [
        "##### Which all features you found important and why?"
      ],
      "metadata": {
        "id": "rAdphbQ9Bhjc"
      }
    },
    {
      "cell_type": "markdown",
      "source": [
        "Answer Here."
      ],
      "metadata": {
        "id": "fGgaEstsBnaf"
      }
    },
    {
      "cell_type": "markdown",
      "source": [
        "### 5. Data Transformation"
      ],
      "metadata": {
        "id": "TNVZ9zx19K6k"
      }
    },
    {
      "cell_type": "markdown",
      "source": [
        "#### Do you think that your data needs to be transformed? If yes, which transformation have you used. Explain Why?"
      ],
      "metadata": {
        "id": "nqoHp30x9hH9"
      }
    },
    {
      "cell_type": "code",
      "source": [
        "# Transform Your data"
      ],
      "metadata": {
        "id": "I6quWQ1T9rtH"
      },
      "execution_count": null,
      "outputs": []
    },
    {
      "cell_type": "markdown",
      "source": [
        "### 6. Data Scaling"
      ],
      "metadata": {
        "id": "rMDnDkt2B6du"
      }
    },
    {
      "cell_type": "code",
      "source": [
        "# Scaling your data"
      ],
      "metadata": {
        "id": "dL9LWpySC6x_"
      },
      "execution_count": null,
      "outputs": []
    },
    {
      "cell_type": "markdown",
      "source": [
        "##### Which method have you used to scale you data and why?"
      ],
      "metadata": {
        "id": "yiiVWRdJDDil"
      }
    },
    {
      "cell_type": "markdown",
      "source": [
        "### 7. Dimesionality Reduction"
      ],
      "metadata": {
        "id": "1UUpS68QDMuG"
      }
    },
    {
      "cell_type": "markdown",
      "source": [
        "##### Do you think that dimensionality reduction is needed? Explain Why?"
      ],
      "metadata": {
        "id": "kexQrXU-DjzY"
      }
    },
    {
      "cell_type": "markdown",
      "source": [
        "Answer Here."
      ],
      "metadata": {
        "id": "GGRlBsSGDtTQ"
      }
    },
    {
      "cell_type": "code",
      "source": [
        "# DImensionality Reduction (If needed)"
      ],
      "metadata": {
        "id": "kQfvxBBHDvCa"
      },
      "execution_count": null,
      "outputs": []
    },
    {
      "cell_type": "markdown",
      "source": [
        "##### Which dimensionality reduction technique have you used and why? (If dimensionality reduction done on dataset.)"
      ],
      "metadata": {
        "id": "T5CmagL3EC8N"
      }
    },
    {
      "cell_type": "markdown",
      "source": [
        "Answer Here."
      ],
      "metadata": {
        "id": "ZKr75IDuEM7t"
      }
    },
    {
      "cell_type": "markdown",
      "source": [
        "### 8. Data Splitting"
      ],
      "metadata": {
        "id": "BhH2vgX9EjGr"
      }
    },
    {
      "cell_type": "code",
      "source": [
        "# Split your data to train and test. Choose Splitting ratio wisely."
      ],
      "metadata": {
        "id": "0CTyd2UwEyNM"
      },
      "execution_count": null,
      "outputs": []
    },
    {
      "cell_type": "markdown",
      "source": [
        "##### What data splitting ratio have you used and why?"
      ],
      "metadata": {
        "id": "qjKvONjwE8ra"
      }
    },
    {
      "cell_type": "markdown",
      "source": [
        "Answer Here."
      ],
      "metadata": {
        "id": "Y2lJ8cobFDb_"
      }
    },
    {
      "cell_type": "markdown",
      "source": [
        "### 9. Handling Imbalanced Dataset"
      ],
      "metadata": {
        "id": "P1XJ9OREExlT"
      }
    },
    {
      "cell_type": "markdown",
      "source": [
        "##### Do you think the dataset is imbalanced? Explain Why."
      ],
      "metadata": {
        "id": "VFOzZv6IFROw"
      }
    },
    {
      "cell_type": "markdown",
      "source": [
        "Answer Here."
      ],
      "metadata": {
        "id": "GeKDIv7pFgcC"
      }
    },
    {
      "cell_type": "code",
      "source": [
        "# Handling Imbalanced Dataset (If needed)"
      ],
      "metadata": {
        "id": "nQsRhhZLFiDs"
      },
      "execution_count": null,
      "outputs": []
    },
    {
      "cell_type": "markdown",
      "source": [
        "##### What technique did you use to handle the imbalance dataset and why? (If needed to be balanced)"
      ],
      "metadata": {
        "id": "TIqpNgepFxVj"
      }
    },
    {
      "cell_type": "markdown",
      "source": [
        "Answer Here."
      ],
      "metadata": {
        "id": "qbet1HwdGDTz"
      }
    },
    {
      "cell_type": "markdown",
      "source": [
        "## ***7. ML Model Implementation***"
      ],
      "metadata": {
        "id": "VfCC591jGiD4"
      }
    },
    {
      "cell_type": "markdown",
      "source": [
        "### ML Model - 1"
      ],
      "metadata": {
        "id": "OB4l2ZhMeS1U"
      }
    },
    {
      "cell_type": "code",
      "source": [
        "# ML Model - 1 Implementation\n",
        "\n",
        "# Fit the Algorithm\n",
        "\n",
        "# Predict on the model"
      ],
      "metadata": {
        "id": "7ebyywQieS1U"
      },
      "execution_count": null,
      "outputs": []
    },
    {
      "cell_type": "markdown",
      "source": [
        "#### 1. Explain the ML Model used and it's performance using Evaluation metric Score Chart."
      ],
      "metadata": {
        "id": "ArJBuiUVfxKd"
      }
    },
    {
      "cell_type": "code",
      "source": [
        "# Visualizing evaluation Metric Score chart"
      ],
      "metadata": {
        "id": "rqD5ZohzfxKe"
      },
      "execution_count": null,
      "outputs": []
    },
    {
      "cell_type": "markdown",
      "source": [
        "#### 2. Cross- Validation & Hyperparameter Tuning"
      ],
      "metadata": {
        "id": "4qY1EAkEfxKe"
      }
    },
    {
      "cell_type": "code",
      "source": [
        "# ML Model - 1 Implementation with hyperparameter optimization techniques (i.e., GridSearch CV, RandomSearch CV, Bayesian Optimization etc.)\n",
        "\n",
        "# Fit the Algorithm\n",
        "\n",
        "# Predict on the model"
      ],
      "metadata": {
        "id": "Dy61ujd6fxKe"
      },
      "execution_count": null,
      "outputs": []
    },
    {
      "cell_type": "markdown",
      "source": [
        "##### Which hyperparameter optimization technique have you used and why?"
      ],
      "metadata": {
        "id": "PiV4Ypx8fxKe"
      }
    },
    {
      "cell_type": "markdown",
      "source": [
        "Answer Here."
      ],
      "metadata": {
        "id": "negyGRa7fxKf"
      }
    },
    {
      "cell_type": "markdown",
      "source": [
        "##### Have you seen any improvement? Note down the improvement with updates Evaluation metric Score Chart."
      ],
      "metadata": {
        "id": "TfvqoZmBfxKf"
      }
    },
    {
      "cell_type": "markdown",
      "source": [
        "Answer Here."
      ],
      "metadata": {
        "id": "OaLui8CcfxKf"
      }
    },
    {
      "cell_type": "markdown",
      "source": [
        "### ML Model - 2"
      ],
      "metadata": {
        "id": "dJ2tPlVmpsJ0"
      }
    },
    {
      "cell_type": "markdown",
      "source": [
        "#### 1. Explain the ML Model used and it's performance using Evaluation metric Score Chart."
      ],
      "metadata": {
        "id": "JWYfwnehpsJ1"
      }
    },
    {
      "cell_type": "code",
      "source": [
        "# Visualizing evaluation Metric Score chart"
      ],
      "metadata": {
        "id": "yEl-hgQWpsJ1"
      },
      "execution_count": null,
      "outputs": []
    },
    {
      "cell_type": "markdown",
      "source": [
        "#### 2. Cross- Validation & Hyperparameter Tuning"
      ],
      "metadata": {
        "id": "-jK_YjpMpsJ2"
      }
    },
    {
      "cell_type": "code",
      "source": [
        "# ML Model - 1 Implementation with hyperparameter optimization techniques (i.e., GridSearch CV, RandomSearch CV, Bayesian Optimization etc.)\n",
        "\n",
        "# Fit the Algorithm\n",
        "\n",
        "# Predict on the model"
      ],
      "metadata": {
        "id": "Dn0EOfS6psJ2"
      },
      "execution_count": null,
      "outputs": []
    },
    {
      "cell_type": "markdown",
      "source": [
        "##### Which hyperparameter optimization technique have you used and why?"
      ],
      "metadata": {
        "id": "HAih1iBOpsJ2"
      }
    },
    {
      "cell_type": "markdown",
      "source": [
        "Answer Here."
      ],
      "metadata": {
        "id": "9kBgjYcdpsJ2"
      }
    },
    {
      "cell_type": "markdown",
      "source": [
        "##### Have you seen any improvement? Note down the improvement with updates Evaluation metric Score Chart."
      ],
      "metadata": {
        "id": "zVGeBEFhpsJ2"
      }
    },
    {
      "cell_type": "markdown",
      "source": [
        "Answer Here."
      ],
      "metadata": {
        "id": "74yRdG6UpsJ3"
      }
    },
    {
      "cell_type": "markdown",
      "source": [
        "#### 3. Explain each evaluation metric's indication towards business and the business impact pf the ML model used."
      ],
      "metadata": {
        "id": "bmKjuQ-FpsJ3"
      }
    },
    {
      "cell_type": "markdown",
      "source": [
        "Answer Here."
      ],
      "metadata": {
        "id": "BDKtOrBQpsJ3"
      }
    },
    {
      "cell_type": "markdown",
      "source": [
        "### ML Model - 3"
      ],
      "metadata": {
        "id": "Fze-IPXLpx6K"
      }
    },
    {
      "cell_type": "code",
      "source": [
        "# ML Model - 3 Implementation\n",
        "\n",
        "# Fit the Algorithm\n",
        "\n",
        "# Predict on the model"
      ],
      "metadata": {
        "id": "FFrSXAtrpx6M"
      },
      "execution_count": null,
      "outputs": []
    },
    {
      "cell_type": "markdown",
      "source": [
        "#### 1. Explain the ML Model used and it's performance using Evaluation metric Score Chart."
      ],
      "metadata": {
        "id": "7AN1z2sKpx6M"
      }
    },
    {
      "cell_type": "code",
      "source": [
        "# Visualizing evaluation Metric Score chart"
      ],
      "metadata": {
        "id": "xIY4lxxGpx6M"
      },
      "execution_count": null,
      "outputs": []
    },
    {
      "cell_type": "markdown",
      "source": [
        "#### 2. Cross- Validation & Hyperparameter Tuning"
      ],
      "metadata": {
        "id": "9PIHJqyupx6M"
      }
    },
    {
      "cell_type": "code",
      "source": [
        "# ML Model - 3 Implementation with hyperparameter optimization techniques (i.e., GridSearch CV, RandomSearch CV, Bayesian Optimization etc.)\n",
        "\n",
        "# Fit the Algorithm\n",
        "\n",
        "# Predict on the model"
      ],
      "metadata": {
        "id": "eSVXuaSKpx6M"
      },
      "execution_count": null,
      "outputs": []
    },
    {
      "cell_type": "markdown",
      "source": [
        "##### Which hyperparameter optimization technique have you used and why?"
      ],
      "metadata": {
        "id": "_-qAgymDpx6N"
      }
    },
    {
      "cell_type": "markdown",
      "source": [
        "Answer Here."
      ],
      "metadata": {
        "id": "lQMffxkwpx6N"
      }
    },
    {
      "cell_type": "markdown",
      "source": [
        "##### Have you seen any improvement? Note down the improvement with updates Evaluation metric Score Chart."
      ],
      "metadata": {
        "id": "Z-hykwinpx6N"
      }
    },
    {
      "cell_type": "markdown",
      "source": [
        "Answer Here."
      ],
      "metadata": {
        "id": "MzVzZC6opx6N"
      }
    },
    {
      "cell_type": "markdown",
      "source": [
        "### 1. Which Evaluation metrics did you consider for a positive business impact and why?"
      ],
      "metadata": {
        "id": "h_CCil-SKHpo"
      }
    },
    {
      "cell_type": "markdown",
      "source": [
        "Answer Here."
      ],
      "metadata": {
        "id": "jHVz9hHDKFms"
      }
    },
    {
      "cell_type": "markdown",
      "source": [
        "### 2. Which ML model did you choose from the above created models as your final prediction model and why?"
      ],
      "metadata": {
        "id": "cBFFvTBNJzUa"
      }
    },
    {
      "cell_type": "markdown",
      "source": [
        "Answer Here."
      ],
      "metadata": {
        "id": "6ksF5Q1LKTVm"
      }
    },
    {
      "cell_type": "markdown",
      "source": [
        "### 3. Explain the model which you have used and the feature importance using any model explainability tool?"
      ],
      "metadata": {
        "id": "HvGl1hHyA_VK"
      }
    },
    {
      "cell_type": "markdown",
      "source": [
        "Answer Here."
      ],
      "metadata": {
        "id": "YnvVTiIxBL-C"
      }
    },
    {
      "cell_type": "markdown",
      "source": [
        "## ***8.*** ***Future Work (Optional)***"
      ],
      "metadata": {
        "id": "EyNgTHvd2WFk"
      }
    },
    {
      "cell_type": "markdown",
      "source": [
        "### 1. Save the best performing ml model in a pickle file or joblib file format for deployment process.\n"
      ],
      "metadata": {
        "id": "KH5McJBi2d8v"
      }
    },
    {
      "cell_type": "code",
      "source": [
        "# Save the File"
      ],
      "metadata": {
        "id": "bQIANRl32f4J"
      },
      "execution_count": null,
      "outputs": []
    },
    {
      "cell_type": "markdown",
      "source": [
        "### 2. Again Load the saved model file and try to predict unseen data for a sanity check.\n"
      ],
      "metadata": {
        "id": "iW_Lq9qf2h6X"
      }
    },
    {
      "cell_type": "code",
      "source": [
        "# Load the File and predict unseen data."
      ],
      "metadata": {
        "id": "oEXk9ydD2nVC"
      },
      "execution_count": null,
      "outputs": []
    },
    {
      "cell_type": "markdown",
      "source": [
        "### ***Congrats! Your model is successfully created and ready for deployment on a live server for a real user interaction !!!***"
      ],
      "metadata": {
        "id": "-Kee-DAl2viO"
      }
    },
    {
      "cell_type": "markdown",
      "source": [
        "# **Conclusion**"
      ],
      "metadata": {
        "id": "gCX9965dhzqZ"
      }
    },
    {
      "cell_type": "markdown",
      "source": [
        "Write the conclusion here."
      ],
      "metadata": {
        "id": "Fjb1IsQkh3yE"
      }
    },
    {
      "cell_type": "markdown",
      "source": [
        "### ***Hurrah! You have successfully completed your Machine Learning Capstone Project !!!***"
      ],
      "metadata": {
        "id": "gIfDvo9L0UH2"
      }
    }
  ]
}